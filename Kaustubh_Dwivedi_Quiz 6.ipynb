{
 "cells": [
  {
   "cell_type": "markdown",
   "metadata": {
    "colab_type": "text",
    "id": "K9j4zEnj7YMX"
   },
   "source": [
    "### IMPORTANT INSTRUCTIONS\n",
    "- The test cases only check type and structure of values returned by functions. So their correctness does not imply the correctness of your solutions.\n"
   ]
  },
  {
   "cell_type": "markdown",
   "metadata": {
    "colab_type": "text",
    "id": "RtaUy7XwIrPV"
   },
   "source": [
    "## Modelling $e^x$\n",
    "$y = f(x) = e^x$  \n",
    "\n",
    "Approximate this function with a linear function of the form\n",
    "$y = w_0 + w_1sin(\\frac{x*\\pi}{2}) + w_2sin(\\frac{2*x*\\pi}{2}) + w_3cos(\\frac{x*\\pi}{2}) + w_4cos(\\frac{2*x*\\pi}{2}) + \\ldots$\n",
    "\n",
    "in the range $x \\in (1, 3)$"
   ]
  },
  {
   "cell_type": "code",
   "execution_count": 1,
   "metadata": {
    "colab": {},
    "colab_type": "code",
    "id": "k0Sb-f1PKlua"
   },
   "outputs": [],
   "source": [
    "import numpy as np\n",
    "import matplotlib.pyplot as plt\n",
    "import math"
   ]
  },
  {
   "cell_type": "markdown",
   "metadata": {
    "colab_type": "text",
    "id": "gBPneTJNKgIL"
   },
   "source": [
    "## 1. Generate Data\n"
   ]
  },
  {
   "cell_type": "markdown",
   "metadata": {
    "colab_type": "text",
    "id": "P1W-atrtM-fU"
   },
   "source": [
    "### 1.1 \n",
    "Write a function that takes a parameter $x$ (float or array of floats) and computes $y = f(x) = e^x$ (float if $x$ is a float, array of floats if $x$ is array of floats)  "
   ]
  },
  {
   "cell_type": "code",
   "execution_count": 2,
   "metadata": {
    "colab": {},
    "colab_type": "code",
    "id": "iti0uCKfKamh"
   },
   "outputs": [],
   "source": [
    "def fx(x):\n",
    "  '''\n",
    "  Input:\n",
    "    x : float (scalar) or np array\n",
    "  Ouptut:\n",
    "    y : float (scalar) or np array\n",
    "\n",
    "  '''\n",
    "  ### Write your code here\n",
    " \n",
    "  y = np.exp(x)\n",
    "  return y"
   ]
  },
  {
   "cell_type": "code",
   "execution_count": 3,
   "metadata": {
    "colab": {},
    "colab_type": "code",
    "id": "dFE1rEcB70fU"
   },
   "outputs": [
    {
     "name": "stdout",
     "output_type": "stream",
     "text": [
      "Test passed\n"
     ]
    }
   ],
   "source": [
    "\"\"\"Testing code\"\"\"\n",
    "if __name__ == \"__main__\":\n",
    "  y = fx(1.2)\n",
    "  assert y/y == 1.0\n",
    "  print(\"Test passed\")"
   ]
  },
  {
   "cell_type": "markdown",
   "metadata": {
    "colab_type": "text",
    "id": "sAcLccUhMmFU"
   },
   "source": [
    "### 1.2\n",
    "Write a function that takes a parameter $n$ and generates $n$ random points in the range $(1, 3)$ $\\rightarrow$ $x$ <br>\n",
    "Using ```fx``` defined earlier, it also generates $yd$ corresponding to these n points and returns both $x$ and $yd$"
   ]
  },
  {
   "cell_type": "code",
   "execution_count": 4,
   "metadata": {
    "colab": {},
    "colab_type": "code",
    "id": "YjIjtN2sNvSv"
   },
   "outputs": [],
   "source": [
    "def generate_points(n):\n",
    "  '''\n",
    "  Inputs:\n",
    "    n : int, Number of random points\n",
    "  \n",
    "  Outputs:\n",
    "    x : array of floats, random points in the range (1, 3)\n",
    "    yd : array of floats, e^x for values in x\n",
    "  '''\n",
    "  ### Write your code here\n",
    "  \n",
    "  x = np.random.uniform(1,3,n)\n",
    "  yd = fx(x)\n",
    "\n",
    "  return x, yd\n",
    "\n"
   ]
  },
  {
   "cell_type": "code",
   "execution_count": 5,
   "metadata": {
    "colab": {},
    "colab_type": "code",
    "id": "7otzDFJY8Bz4"
   },
   "outputs": [
    {
     "name": "stdout",
     "output_type": "stream",
     "text": [
      "Test passed\n"
     ]
    }
   ],
   "source": [
    "\"\"\"Testing code\"\"\"\n",
    "if __name__ == \"__main__\":\n",
    "  x, yd = generate_points(10)\n",
    "  assert x.shape == (10, )\n",
    "  assert yd.shape == (10, )\n",
    "  print(\"Test passed\")"
   ]
  },
  {
   "cell_type": "markdown",
   "metadata": {
    "colab_type": "text",
    "id": "OArMS_O4Rlcu"
   },
   "source": [
    "## 2. Training\n",
    "We will now define a linear model to estimate the above function, and it will train with all the data."
   ]
  },
  {
   "cell_type": "markdown",
   "metadata": {
    "colab_type": "text",
    "id": "XWRLIaDRR1Fm"
   },
   "source": [
    "### 2.1 \n",
    "Define model\n",
    "$y = w_0 + \\sum_{d=1}^D w_d sin(\\frac{d\\pi x}{2}) + \\sum_{d=D+1}^{2D} w_d cos(\\frac{(d - D)\\pi x}{2})$, here, $D$ is the degree of the model, say D=2 <br />\n",
    "\n",
    "In matrix representation: y = Aw <br/>"
   ]
  },
  {
   "cell_type": "code",
   "execution_count": 6,
   "metadata": {
    "colab": {},
    "colab_type": "code",
    "id": "oNZ8y0UTN2zs"
   },
   "outputs": [],
   "source": [
    "def createA(x, D):\n",
    "    '''\n",
    "    Create the matrix A with degree D\n",
    "    Input:\n",
    "        x: np array of shape (N,)\n",
    "        D: degree of the model\n",
    "    Output:\n",
    "        A: np matrix of shape (N,2D+1)\n",
    "    '''\n",
    "    ### Write your code here\n",
    "    \n",
    "    N = x.shape[0]\n",
    "    A = np.ones((N,2*D+1))\n",
    "    \n",
    "    for d in range(1, D+1): \n",
    "        A[:,d] = np.sin(d*math.pi*x/2)\n",
    "    \n",
    "    \n",
    "    for d in range(D+1,2*D+1): \n",
    "        A[:,d] = np.cos(d*math.pi*x/2)\n",
    "        \n",
    "    return A"
   ]
  },
  {
   "cell_type": "code",
   "execution_count": 7,
   "metadata": {
    "colab": {},
    "colab_type": "code",
    "id": "0NWK4lRg8OKU"
   },
   "outputs": [
    {
     "name": "stdout",
     "output_type": "stream",
     "text": [
      "Test passed\n"
     ]
    }
   ],
   "source": [
    "\"\"\"Testing code\"\"\"\n",
    "if __name__ == \"__main__\":\n",
    "  x = np.arange(10)\n",
    "  A = createA(x, 2)\n",
    "  assert A.shape == (x.shape[0], 5)\n",
    "  print(\"Test passed\")"
   ]
  },
  {
   "cell_type": "markdown",
   "metadata": {
    "colab_type": "text",
    "id": "dOt69npU4xSG"
   },
   "source": [
    "### 2.2 Estimate weights\n",
    "Train using least-square solution (pseudo-inverse) and min-norm solution that are used to train linear models."
   ]
  },
  {
   "cell_type": "code",
   "execution_count": 8,
   "metadata": {
    "colab": {},
    "colab_type": "code",
    "id": "FzUi6s6G4-6A"
   },
   "outputs": [],
   "source": [
    "def train_w(A, yd):\n",
    "    '''\n",
    "    Inputs:\n",
    "        A: np array of shape (N,2D+1)\n",
    "        yd: np array of shape (N,)\n",
    "    Output:\n",
    "        w: np array of shape (2D+1,)\n",
    "    '''\n",
    "    ### Write your code here\n",
    "    \n",
    "    N = yd.shape[0]\n",
    "    D = A.shape[1]-1\n",
    "    \n",
    "    if N>D+1:\n",
    "      w = np.linalg.inv(A.T.dot(A)).dot(A.T).dot(yd) \n",
    "    \n",
    "    elif N<=D+1:\n",
    "      w = A.T.dot(np.linalg.inv(A.dot(A.T))).dot(yd) \n",
    "    \n",
    "    return w"
   ]
  },
  {
   "cell_type": "code",
   "execution_count": 9,
   "metadata": {
    "colab": {},
    "colab_type": "code",
    "id": "Ehdh_wGu8wY0"
   },
   "outputs": [
    {
     "name": "stdout",
     "output_type": "stream",
     "text": [
      "Test passed\n"
     ]
    }
   ],
   "source": [
    "\"\"\"Testing code\"\"\"\n",
    "if __name__ == \"__main__\":\n",
    "  yd = np.arange(10)\n",
    "  A = np.random.random(50).reshape(10, 5)  \n",
    "  w = train_w(A, yd)\n",
    "  assert w.shape == (5, )\n",
    "  print(\"Test passed\")"
   ]
  },
  {
   "cell_type": "markdown",
   "metadata": {
    "colab_type": "text",
    "id": "l9_Z8L3RKBPn"
   },
   "source": [
    "### 3 Estimate y from the model, given x and w"
   ]
  },
  {
   "cell_type": "code",
   "execution_count": 10,
   "metadata": {
    "colab": {},
    "colab_type": "code",
    "id": "AIFYMCMlKBPo",
    "nbgrader": {
     "grade": false,
     "grade_id": "cell-18a403e9e2d75c54",
     "locked": false,
     "schema_version": 1,
     "solution": true
    }
   },
   "outputs": [],
   "source": [
    "def predict_y(w, x):\n",
    "    '''\n",
    "    Inputs:\n",
    "        w: np array of shape (2D+1,)\n",
    "        x: np array of shape (N,)\n",
    "    Outputs:\n",
    "        y: np array of shape (N,); y=Aw\n",
    "    '''\n",
    "    ### Write your code here\n",
    "    \n",
    "    D = w.shape[0]-1\n",
    "    A = createA(x,D//2)\n",
    "    y = A.dot(w)\n",
    "    \n",
    "    return y"
   ]
  },
  {
   "cell_type": "code",
   "execution_count": 11,
   "metadata": {
    "colab": {},
    "colab_type": "code",
    "id": "x69CSYoi-2Qf"
   },
   "outputs": [
    {
     "name": "stdout",
     "output_type": "stream",
     "text": [
      "Test passed\n"
     ]
    }
   ],
   "source": [
    "\"\"\"Testing code\"\"\"\n",
    "if __name__ == \"__main__\":\n",
    "  w = np.arange(5)\n",
    "  x = np.arange(10)\n",
    "  y = predict_y(w, x)\n",
    "  assert y.shape[0] == x.shape[0]\n",
    "  print(\"Test passed\")"
   ]
  },
  {
   "cell_type": "markdown",
   "metadata": {
    "colab_type": "text",
    "id": "Sqjpd9JWKBPv"
   },
   "source": [
    "### 4. Estimate Error\n",
    "Find E as the mean squared error"
   ]
  },
  {
   "cell_type": "code",
   "execution_count": 12,
   "metadata": {
    "colab": {},
    "colab_type": "code",
    "id": "k50lysAcKBPw",
    "nbgrader": {
     "grade": false,
     "grade_id": "cell-430f96298f1ea137",
     "locked": false,
     "schema_version": 1,
     "solution": true
    }
   },
   "outputs": [],
   "source": [
    "def compute_mse(y, yd):\n",
    "    '''\n",
    "    Inputs:\n",
    "        y: np array of shape (N,); y=Aw\n",
    "        yd: np array of shape (N,); yd=f(x), ie., desired or true value\n",
    "    Output:\n",
    "        mse: float, mean squared error\n",
    "    '''\n",
    "    ### Write your code here\n",
    "    \n",
    "    mse = (y-yd).dot(y-yd)/y.shape[0]\n",
    "    \n",
    "    return mse"
   ]
  },
  {
   "cell_type": "code",
   "execution_count": 13,
   "metadata": {
    "colab": {
     "base_uri": "https://localhost:8080/",
     "height": 35
    },
    "colab_type": "code",
    "executionInfo": {
     "elapsed": 1152,
     "status": "ok",
     "timestamp": 1588398491012,
     "user": {
      "displayName": "Sai Saurab",
      "photoUrl": "",
      "userId": "06528725485567637895"
     },
     "user_tz": -330
    },
    "id": "DMByOXJn_FX_",
    "outputId": "a08ea329-6e47-4035-ac11-b2feb1b503fc"
   },
   "outputs": [
    {
     "name": "stdout",
     "output_type": "stream",
     "text": [
      "Test passed\n"
     ]
    }
   ],
   "source": [
    "\"\"\"Testing code\"\"\"\n",
    "if __name__ == \"__main__\":\n",
    "  y = np.arange(3)\n",
    "  yd = np.arange(30, 33)\n",
    "  mse = compute_mse(y, yd)\n",
    "  assert mse/mse == 1.0\n",
    "  print(\"Test passed\")"
   ]
  },
  {
   "cell_type": "markdown",
   "metadata": {
    "colab_type": "text",
    "id": "5zGV1TDQ5iEb"
   },
   "source": [
    "## 5. Train and Test\n",
    "Write a function that takes parameters N, D and:\n",
    "- Generates N training points x, yd\n",
    "- Train your linear model using x and yd\n",
    "- Predict y (using the linear model you found above) for the training data x\n",
    "- Compare y with yd to find the mean-squared error"
   ]
  },
  {
   "cell_type": "markdown",
   "metadata": {
    "colab_type": "text",
    "id": "mfjcbjdf6QhG"
   },
   "source": [
    "### 5.1 Generate and Train"
   ]
  },
  {
   "cell_type": "code",
   "execution_count": 14,
   "metadata": {
    "colab": {},
    "colab_type": "code",
    "id": "rkZV_i9rXICz"
   },
   "outputs": [],
   "source": [
    "def trainModel(N, D):\n",
    "    '''\n",
    "    Inputs:\n",
    "        N: number of samples\n",
    "        D: degree of the model\n",
    "    Outputs:\n",
    "        x: np array of size (N,)\n",
    "        y: np array of size (N,)\n",
    "        yd: np array of size (N,)\n",
    "        w: np array of size (2D+1,)\n",
    "        mse: scalar float\n",
    "    '''\n",
    "    ### Write your code here\n",
    "    \n",
    "    x, yd = generate_points(N)\n",
    "    A = createA(x, D)\n",
    "    w = train_w(A, yd)\n",
    "    y = predict_y(w, x)\n",
    "    mse = compute_mse(y, yd)\n",
    "    \n",
    "    return x, y, yd, w, mse"
   ]
  },
  {
   "cell_type": "code",
   "execution_count": 15,
   "metadata": {
    "colab": {},
    "colab_type": "code",
    "id": "hXWQkAvDAuN9"
   },
   "outputs": [
    {
     "name": "stdout",
     "output_type": "stream",
     "text": [
      "Tests passed\n"
     ]
    }
   ],
   "source": [
    "\"\"\"Testing code\"\"\"\n",
    "if __name__ == \"__main__\":\n",
    "  x, y, yd, w, mse = trainModel(10, 2)\n",
    "  assert x.shape[0] == 10\n",
    "  assert y.shape[0] == 10\n",
    "  assert yd.shape[0] == 10\n",
    "  assert w.shape[0] == 5\n",
    "  assert mse/mse == 1.0\n",
    "  print(\"Tests passed\")"
   ]
  },
  {
   "cell_type": "markdown",
   "metadata": {
    "colab_type": "text",
    "id": "nWeDnuZR6q-K"
   },
   "source": [
    "### 5.2 Test\n",
    "Write a function which takes parameters Ntest, w and does the following:\n",
    "\n",
    "- Generates Ntest test points x, yd\n",
    "- Estimate y using the linear model w \n",
    "- Compare y with yd to find the mean-squared error"
   ]
  },
  {
   "cell_type": "code",
   "execution_count": 16,
   "metadata": {
    "colab": {},
    "colab_type": "code",
    "id": "oD21vteC6t7E"
   },
   "outputs": [],
   "source": [
    "def testModel(Ntest, w):\n",
    "    '''\n",
    "    Inputs:\n",
    "        Ntest: number of test samples to be generated\n",
    "        w: np array of size (2*D+1,)\n",
    "    Outputs:\n",
    "        x: np array of size (N,)\n",
    "        y: np array of size (N,)\n",
    "        yd: np array of size (N,)\n",
    "        mse: scalar float\n",
    "    '''\n",
    "    ### Write your code here\n",
    "    \n",
    "    x, yd = generate_points(Ntest)\n",
    "    D = w.shape[0]-1\n",
    "    A = createA(x, D)\n",
    "    print(A.shape)\n",
    "    y = predict_y(w, x)\n",
    "    mse = compute_mse(y, yd)\n",
    "    \n",
    "    return x, y, yd, mse"
   ]
  },
  {
   "cell_type": "code",
   "execution_count": 17,
   "metadata": {
    "colab": {},
    "colab_type": "code",
    "id": "LzrtTf3pEUfM"
   },
   "outputs": [
    {
     "name": "stdout",
     "output_type": "stream",
     "text": [
      "(10, 9)\n",
      "Tests passed\n"
     ]
    }
   ],
   "source": [
    "\"\"\"Testing code\"\"\"\n",
    "if __name__ == \"__main__\":\n",
    "  x, y, yd, mse = testModel(10, np.arange(5))\n",
    "  assert x.shape[0] == 10\n",
    "  assert y.shape[0] == 10\n",
    "  assert yd.shape[0] == 10\n",
    "  assert mse/mse == 1.0\n",
    "  print(\"Tests passed\")"
   ]
  }
 ],
 "metadata": {
  "colab": {
   "authorship_tag": "ABX9TyNAUQxz+iNUpCCcPGpdMmtS",
   "collapsed_sections": [],
   "name": "Quiz 6.ipynb",
   "provenance": []
  },
  "kernelspec": {
   "display_name": "Python 3",
   "language": "python",
   "name": "python3"
  },
  "language_info": {
   "codemirror_mode": {
    "name": "ipython",
    "version": 3
   },
   "file_extension": ".py",
   "mimetype": "text/x-python",
   "name": "python",
   "nbconvert_exporter": "python",
   "pygments_lexer": "ipython3",
   "version": "3.7.3"
  }
 },
 "nbformat": 4,
 "nbformat_minor": 1
}
