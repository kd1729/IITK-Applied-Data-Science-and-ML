{
 "cells": [
  {
   "cell_type": "markdown",
   "metadata": {
    "colab_type": "text",
    "id": "0U-in5NXlAyr"
   },
   "source": [
    "General Instructions:\n",
    "- By array, I mean numpy array\n",
    "- By matrix, I mean a numpy array of 2 dimensions"
   ]
  },
  {
   "cell_type": "code",
   "execution_count": 1,
   "metadata": {},
   "outputs": [],
   "source": [
    "import numpy as np\n"
   ]
  },
  {
   "cell_type": "markdown",
   "metadata": {
    "colab_type": "text",
    "id": "37hSpnsCkFAO"
   },
   "source": [
    "### 1\n",
    "Write a function to create and return an integer array of shape (5, 2) from a range between 100 to 200 (including 100, excluding 200) such that the difference between consecutive elements is 10."
   ]
  },
  {
   "cell_type": "code",
   "execution_count": 2,
   "metadata": {
    "colab": {},
    "colab_type": "code",
    "id": "YL23bzkVkFAP"
   },
   "outputs": [],
   "source": [
    "def create_integer_array():\n",
    "  ### Your Code Here\n",
    "  arr=np.arange(100,200,10).reshape(5,2)\n",
    "  return arr\n"
   ]
  },
  {
   "cell_type": "markdown",
   "metadata": {
    "colab_type": "text",
    "id": "zYjrAoJBkFAV"
   },
   "source": [
    "### 2\n",
    "Given a numpy array ```a```, of shape ```(m, n)``` m>=3, n>=3. Write a function to return an array consisting of the elements in 3rd column of ```a``` <br>\n",
    "Eg., Suppose\n",
    "``` \n",
    "a = [[1 2 3]\n",
    "     [4 5 6]\n",
    "     [7 8 9]]    \n",
    "```\n",
    "Then \n",
    "```\n",
    "column_3(a) -> [3 6 9]\n",
    "```"
   ]
  },
  {
   "cell_type": "code",
   "execution_count": 3,
   "metadata": {
    "colab": {},
    "colab_type": "code",
    "id": "qGBr5qQckFAX"
   },
   "outputs": [],
   "source": [
    "def column_3(a):\n",
    "  ### Your Code here\n",
    "  return a[:,2]\n"
   ]
  },
  {
   "cell_type": "markdown",
   "metadata": {
    "colab_type": "text",
    "id": "DikElEA9kFAb"
   },
   "source": [
    "### 3\n",
    "Write a function which does the following. Given a numpy array $a$ of shape (m, n), index $i$ and an array $b$ of shape (m, ). Replace the $i_{th}$ column of $a$ with the array $b$  \n",
    "Eg., Suppose\n",
    "```\n",
    "a = [[1 2 3]\n",
    "     [4 5 6]\n",
    "     [7 8 9]]\n",
    "b = [30, 60, 90]\n",
    "\n",
    "```    \n",
    "Then,\n",
    "```\n",
    "replace_col(a, 2, b) -> [[1 2 30]\n",
    "                         [4 5 60]\n",
    "                         [7 8 90]]\n",
    "```"
   ]
  },
  {
   "cell_type": "code",
   "execution_count": 4,
   "metadata": {
    "colab": {},
    "colab_type": "code",
    "id": "0uKhiFAHkFAd"
   },
   "outputs": [],
   "source": [
    "def replace_col(a, i, b):\n",
    "  ### Your Code Here\n",
    "  a[:,i]=b\n",
    "  return a"
   ]
  },
  {
   "cell_type": "markdown",
   "metadata": {
    "colab_type": "text",
    "id": "kiBrW4BekFAs"
   },
   "source": [
    "### 4\n",
    "Write a function which does the following. Given a numpy array $a$ of shape (m, n) and indices $i$, $j$. Return a numpy array which swaps the columns $i$ and $j$ of $a$\n",
    "Eg., Suppose\n",
    "```\n",
    "a = [[1 2 3]\n",
    "     [4 5 6]\n",
    "     [7 8 9]]\n",
    "\n",
    "swap_cols(a, 0, 2) -> [[3 2 1]\n",
    "                       [6 5 4]\n",
    "                       [9 8 7]]\n",
    "```"
   ]
  },
  {
   "cell_type": "code",
   "execution_count": 5,
   "metadata": {
    "colab": {},
    "colab_type": "code",
    "id": "SHreztV0kFAt"
   },
   "outputs": [],
   "source": [
    "def swap_cols(a, i, j):\n",
    "  ### Your Code Here\n",
    "  a[:,[i, j]] = a[:,[j, i]]\n",
    "  return a\n"
   ]
  },
  {
   "cell_type": "markdown",
   "metadata": {
    "colab_type": "text",
    "id": "zcmziMV3ol55"
   },
   "source": [
    "## 5"
   ]
  },
  {
   "cell_type": "markdown",
   "metadata": {
    "colab_type": "text",
    "id": "jMeJeFXzosUu"
   },
   "source": [
    "There are various equivalent ways to define the determinant of a square matrix A, i.e. one with the same number of rows and columns. Perhaps the simplest way to express the determinant is by considering the elements in the top row and the respective minors; starting at the left, multiply the element by the minor, then subtract the product of the next element and its minor, and alternate adding and subtracting such products until all elements in the top row have been exhausted. For example, here is the result for a 4 × 4 matrix: <br>\n",
    "\n",
    "<img src = \"https://drive.google.com/uc?id=1TTljfFZAnOvqgAOiOrv6r4DDRROD-Vph\"> <br>\n",
    "\n",
    "Also, for a 2x2 matrix, this is the formula - <br>\n",
    "<img src = \"https://drive.google.com/uc?id=1H3aFpr1guevWjz4F-XRUQ9eP5TfjVLwu\"> <br>"
   ]
  },
  {
   "cell_type": "markdown",
   "metadata": {
    "colab_type": "text",
    "id": "kHt2BOQpo5k3"
   },
   "source": [
    "### 5.1 Minor\n",
    "Write a function that does the following. \n",
    "Given a square matrix $A$ and an index $i$, find and return the sub-matrix that is the minor corresponding to element at index $i$ of the first row of $A$"
   ]
  },
  {
   "cell_type": "code",
   "execution_count": 6,
   "metadata": {
    "colab": {},
    "colab_type": "code",
    "id": "cgDuw57DowWl"
   },
   "outputs": [],
   "source": [
    "def minor(A, i):\n",
    "  ### Write your code here\n",
    "  r,c=A.shape\n",
    "  lst=list()\n",
    "  a = np.empty((r-1,c-1),str)  #returns the elements in string type\n",
    "  for j in range(1,r):\n",
    "        for k in range(c):\n",
    "           if k!=i:\n",
    "            lst.append(A[j][k])\n",
    "  count=0\n",
    "  for j in range(r-1):\n",
    "    for k in range(c-1):\n",
    "        a[j][k]=lst[count]\n",
    "        count+=1\n",
    "        \n",
    "  return a"
   ]
  },
  {
   "cell_type": "markdown",
   "metadata": {
    "colab_type": "text",
    "id": "iD0m17LHpMF6"
   },
   "source": [
    "### 5.2\n",
    "Given a square matrix $A$, write a function that computes and return the determinant using the formula given above and the helper function that you have defined called ```minor```. <br>\n",
    "(Do not use the functions to compute determinant which numpy provides built in)"
   ]
  },
  {
   "cell_type": "code",
   "execution_count": 7,
   "metadata": {},
   "outputs": [],
   "source": [
    "def minor(A, i):\n",
    "  ### Write your code here\n",
    "  r,c=A.shape\n",
    "  lst=list()\n",
    "  a = np.empty((r-1,c-1),int)  #same as above but returns integer type  elements for calculating determinant\n",
    "  for j in range(1,r):\n",
    "        for k in range(c):\n",
    "           if k!=i:\n",
    "            lst.append(A[j][k])\n",
    "  count=0\n",
    "  for j in range(r-1):\n",
    "    for k in range(c-1):\n",
    "        a[j][k]=lst[count]\n",
    "        count+=1\n",
    "        \n",
    "  return a\n",
    "\n",
    "\n",
    "\n",
    "\n",
    "def determinant(A):\n",
    "    ### Write your code here\n",
    "    n,n=A.shape\n",
    "    if n==1:\n",
    "        return A[0][0]\n",
    "    elif n==2:\n",
    "        return A[0][0]*A[1][1]-A[0][1]*A[1][0]\n",
    "    else:\n",
    "        det=0\n",
    "        for i in range(n):\n",
    "            det+=(A[0][i]*determinant(minor(A,i))*pow(-1,i))\n",
    "        return det\n",
    "    \n",
    "    "
   ]
  }
 ],
 "metadata": {
  "colab": {
   "collapsed_sections": [],
   "name": "Quiz 3 (ML).ipynb",
   "provenance": [
    {
     "file_id": "1H7gzB6dwTU8Cj_8hCWaT5SQmNx4OQrC9",
     "timestamp": 1586932846646
    }
   ]
  },
  "kernelspec": {
   "display_name": "Python 3",
   "language": "python",
   "name": "python3"
  },
  "language_info": {
   "codemirror_mode": {
    "name": "ipython",
    "version": 3
   },
   "file_extension": ".py",
   "mimetype": "text/x-python",
   "name": "python",
   "nbconvert_exporter": "python",
   "pygments_lexer": "ipython3",
   "version": "3.7.3"
  }
 },
 "nbformat": 4,
 "nbformat_minor": 1
}
