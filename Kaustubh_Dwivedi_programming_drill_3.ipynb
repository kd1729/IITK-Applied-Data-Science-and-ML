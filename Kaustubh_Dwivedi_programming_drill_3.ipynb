{
 "cells": [
  {
   "cell_type": "markdown",
   "metadata": {
    "colab_type": "text",
    "id": "8GceV11ItfCq"
   },
   "source": [
    "# Drill #11\n",
    "<img src=\"https://drive.google.com/uc?id=1KziD8gWKHs8aPI0OgJGYkbWisjUdHn6t\" width=\"400\">\n",
    "\n",
    "#### Expected Output\n",
    "<img src=\"https://drive.google.com/uc?id=1O0y1sqSsXI61CeW9ppaHgX4-YuBPGtWR\" width=\"250\">\n"
   ]
  },
  {
   "cell_type": "code",
   "execution_count": 4,
   "metadata": {
    "colab": {
     "base_uri": "https://localhost:8080/",
     "height": 68
    },
    "colab_type": "code",
    "executionInfo": {
     "elapsed": 2450,
     "status": "ok",
     "timestamp": 1584352485119,
     "user": {
      "displayName": "Sai Saurab",
      "photoUrl": "",
      "userId": "06528725485567637895"
     },
     "user_tz": -330
    },
    "id": "AysXk24zCfvQ",
    "outputId": "7d1508be-f89f-4360-a318-1cedd0221a4b"
   },
   "outputs": [
    {
     "name": "stdout",
     "output_type": "stream",
     "text": [
      "arg1: Machine Learning, arg2:Data Science\n",
      "arg: First!\n",
      "I got nothing to print\n"
     ]
    }
   ],
   "source": [
    "### Write your code here\n",
    "def print_two(arg1, arg2):\n",
    "    print(f\"arg1: {arg1}, arg2:{arg2}\")\n",
    "\n",
    "#This takes only one argument\n",
    "def print_one(arg1):\n",
    "    print(f\"arg: {arg1}\")\n",
    "    \n",
    "def print_none():\n",
    "    print(\"I got nothing to print\")\n",
    "\n",
    "print_two(\"Machine Learning\", \"Data Science\")\n",
    "print_one(\"First!\")\n",
    "print_none()\n"
   ]
  },
  {
   "cell_type": "markdown",
   "metadata": {
    "colab_type": "text",
    "id": "Q43TbTUaugqt"
   },
   "source": [
    "If you encounter errors, ask yourself the following questions:\n",
    " - Did you start your function definition with ```def```?\n",
    " - Does your function name have only characters and ```_``` (underscore) characters?\n",
    " - Did you put an open parenthesis just after the function name?\n",
    " - Did you put your arguments after the parenthesis ( separated by commas?\n",
    " - Did you put a close parenthesis and a colon ```):``` after the arguments?\n",
    " - Did you indent all lines of code you want in the function four spaces? No more, no less\n",
    " - Did you end your function by going back to writing with no indent (also called _dedenting_)\n",
    "\n",
    " When you run (_call_ or _use_) a function, check these things:\n",
    " - Did you call/use/run the function by typing its name correctly?\n",
    " - Did you put the ```(``` character after the name to run it?\n",
    " - Did you put the values you want into the parenthesis separated by commas?\n",
    " - Did you end the function call with a ```)``` character?\n",
    " <br>\n",
    " \n",
    "**Remember** that we mean the same thing when we say _run_, _use_ or _call_ a function \n"
   ]
  },
  {
   "cell_type": "markdown",
   "metadata": {
    "colab_type": "text",
    "id": "WvVKv43d8g4V"
   },
   "source": [
    "#Drill #12\n",
    "<img src=\"https://drive.google.com/uc?id=1owL5UeOunHSqQ41G8PS-YLb12st1xHaw\" width=\"400\">\n",
    "\n",
    "#### Expected Output\n",
    "<img src=\"https://drive.google.com/uc?id=1ZMI0WbXvMpz2l2NHl2Jqt6ww9ErUJvDE\" width=\"300\">\n",
    "\n"
   ]
  },
  {
   "cell_type": "code",
   "execution_count": 8,
   "metadata": {
    "colab": {},
    "colab_type": "code",
    "id": "o5crIxDPwKL-"
   },
   "outputs": [
    {
     "name": "stdout",
     "output_type": "stream",
     "text": [
      "We can give the function numbers directly:\n",
      "You have 20 apples\n",
      "You have 30 oranges\n",
      "Let's have a fruit party!\n",
      "OR, we can give use variables from our script:\n",
      "You have 10 apples\n",
      "You have 20 oranges\n",
      "Let's have a fruit party!\n",
      "We can pass any other expression that has a value too:\n",
      "You have 30 apples\n",
      "You have 10 oranges\n",
      "Let's have a fruit party!\n",
      "Or, expression with variable:\n",
      "You have 30 apples\n",
      "You have 22 oranges\n",
      "Let's have a fruit party!\n"
     ]
    }
   ],
   "source": [
    "#### Write your code here\n",
    "def apples_and_oranges(apple_counts, orange_counts):\n",
    "    print(f\"You have {apple_counts} apples\")\n",
    "    print(f\"You have {orange_counts} oranges\")\n",
    "    print(\"Let's have a fruit party!\")\n",
    "    \n",
    "    \n",
    "print(\"We can give the function numbers directly:\")\n",
    "apples_and_oranges(20,30)\n",
    "\n",
    "print(\"OR, we can give use variables from our script:\")\n",
    "apples=10\n",
    "oranges=20\n",
    "\n",
    "apples_and_oranges(apples,oranges)\n",
    "\n",
    "print(\"We can pass any other expression that has a value too:\")\n",
    "apples_and_oranges(10+20,3+7)\n",
    "\n",
    "print(\"Or, expression with variable:\")\n",
    "apples_and_oranges(apples+20, oranges+2)"
   ]
  },
  {
   "cell_type": "markdown",
   "metadata": {
    "colab_type": "text",
    "id": "am6nY_mJ3yBp"
   },
   "source": [
    "#Drill #13 - Functions within functions\n",
    "<img src=\"https://drive.google.com/uc?id=1amAbIEgZAp-iTYMUxHVo-oT5Z9btjy8P\" width=\"400\">\n",
    "\n",
    "#### Expected Output\n",
    "<img src=\"https://drive.google.com/uc?id=1iNZC4hgLlBJI0jYJHCbEmlVzOFN7iq4m\" width=\"300\">"
   ]
  },
  {
   "cell_type": "code",
   "execution_count": 17,
   "metadata": {
    "colab": {
     "base_uri": "https://localhost:8080/",
     "height": 103
    },
    "colab_type": "code",
    "executionInfo": {
     "elapsed": 2125,
     "status": "ok",
     "timestamp": 1584502057105,
     "user": {
      "displayName": "Sai Saurab",
      "photoUrl": "",
      "userId": "06528725485567637895"
     },
     "user_tz": -330
    },
    "id": "VhpRTLCX11G1",
    "outputId": "0745d716-76d9-45b4-daa5-680ec8274144"
   },
   "outputs": [
    {
     "name": "stdout",
     "output_type": "stream",
     "text": [
      "***************Identity Proof***************\n",
      "Name: Hari\n",
      "Age: 16\n",
      "Gender: Male\n",
      "***************Identity Proof***************\n"
     ]
    }
   ],
   "source": [
    "### Write your code here\n",
    "def print_id(name, age, gender):\n",
    "    def print_border():\n",
    "        print(\"*\"*15+\"Identity Proof\"+\"*\"*15)\n",
    "        \n",
    "\n",
    "    print_border() \n",
    "    print(f\"Name: {name}\")\n",
    "    print(f\"Age: {age}\")\n",
    "    print(f\"Gender: {gender}\") \n",
    "    print_border()\n",
    "\n",
    "print_id('Hari', 16, 'Male')\n"
   ]
  },
  {
   "cell_type": "markdown",
   "metadata": {
    "colab_type": "text",
    "id": "XFN8Tb1gtNRQ"
   },
   "source": [
    "#Drill #14 - Functions using other functions\n",
    "<img src=\"https://drive.google.com/uc?id=1UC2CAhaFVNtkJDttmFto4QYfMUNABij8\" width=\"400\">\n",
    "\n",
    "<img src=\"https://drive.google.com/uc?id=1ENvVBzjTSZgePRdj6Zs9JPrYFq-kogky\" width=\"250\">"
   ]
  },
  {
   "cell_type": "code",
   "execution_count": 11,
   "metadata": {
    "colab": {},
    "colab_type": "code",
    "id": "nVgUHzIvtqUi",
    "scrolled": true
   },
   "outputs": [
    {
     "name": "stdout",
     "output_type": "stream",
     "text": [
      "Hello Hari!\n",
      "Hello Hari!\n",
      "********************\n",
      "Hello Madhav!\n",
      "Hello Madhav!\n",
      "********************\n"
     ]
    }
   ],
   "source": [
    "### Write your code here\n",
    "def print_twice(string):\n",
    "    print(string + '\\n' + string)\n",
    "\n",
    "def print_twice_with_star_border(string):\n",
    "    print(\"*\"*20) \n",
    "    print_twice(string) \n",
    "    print('*'*20)\n",
    "\n",
    "print_twice('Hello Hari!') \n",
    "print_twice_with_star_border('Hello Madhav!')\n"
   ]
  }
 ],
 "metadata": {
  "colab": {
   "authorship_tag": "ABX9TyMh8HqQYMPbXFSlknOA2Ouh",
   "name": "programming_drill_3.ipynb",
   "provenance": []
  },
  "kernelspec": {
   "display_name": "Python 3",
   "language": "python",
   "name": "python3"
  },
  "language_info": {
   "codemirror_mode": {
    "name": "ipython",
    "version": 3
   },
   "file_extension": ".py",
   "mimetype": "text/x-python",
   "name": "python",
   "nbconvert_exporter": "python",
   "pygments_lexer": "ipython3",
   "version": "3.7.3"
  }
 },
 "nbformat": 4,
 "nbformat_minor": 1
}
