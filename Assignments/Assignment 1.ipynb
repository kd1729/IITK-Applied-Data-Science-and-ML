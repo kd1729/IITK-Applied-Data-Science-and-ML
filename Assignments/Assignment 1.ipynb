{
 "cells": [
  {
   "cell_type": "markdown",
   "metadata": {
    "colab_type": "text",
    "id": "xgPa5ZQFiQar"
   },
   "source": [
    "#Q. Interest Compounded\n",
    "The Formula for computing compound interest is as follows - \n",
    "\\begin{equation}\n",
    "A = P(1 + \\frac{r}{n})^{nt}\n",
    "\\end{equation}\n",
    "Write a function that takes as inputs $P, r, n, t$ and prints the total amount that has to be paid."
   ]
  },
  {
   "cell_type": "code",
   "execution_count": 2,
   "metadata": {
    "colab": {},
    "colab_type": "code",
    "id": "-nUYyV1NiuC6"
   },
   "outputs": [],
   "source": [
    "def compound_interest(p, r, n, t):\n",
    "  ### Write your code here\n",
    "    A=P*(1+(r/n))**(n*t)\n",
    "    return A"
   ]
  },
  {
   "cell_type": "code",
   "execution_count": 3,
   "metadata": {
    "colab": {},
    "colab_type": "code",
    "id": "Z4CjrFloivnh"
   },
   "outputs": [
    {
     "name": "stdout",
     "output_type": "stream",
     "text": [
      "10000\n",
      "4\n",
      "2\n",
      "5\n",
      "590490000.0\n"
     ]
    }
   ],
   "source": [
    "### Write code to test your function here\n",
    "P=int(input())\n",
    "R=int(input())\n",
    "N=int(input())\n",
    "T=int(input())\n",
    "print(compound_interest(P,R,N,T))"
   ]
  },
  {
   "cell_type": "markdown",
   "metadata": {
    "colab_type": "text",
    "id": "1ZnXZJJQjK-q"
   },
   "source": [
    "#Q. User power\n",
    "Write a program that takes two inputs from the user $a$ and $b$ and prints the value $a^b$"
   ]
  },
  {
   "cell_type": "code",
   "execution_count": 4,
   "metadata": {
    "colab": {},
    "colab_type": "code",
    "id": "4gSGzXICjY4X"
   },
   "outputs": [
    {
     "name": "stdout",
     "output_type": "stream",
     "text": [
      "3\n",
      "5\n",
      "243.0\n"
     ]
    }
   ],
   "source": [
    "### Write your code here\n",
    "import math\n",
    "a=int(input())\n",
    "b=int(input())\n",
    "print(math.pow(a,b))\n"
   ]
  },
  {
   "cell_type": "markdown",
   "metadata": {
    "colab_type": "text",
    "id": "ktdZ7wmG_CQc"
   },
   "source": [
    "#Q. GCD and LCM\n",
    "Write a program that takes two inputs from the user $a$ and $b$ and prints their gcd and lcm. (Use functions from math library)\n"
   ]
  },
  {
   "cell_type": "code",
   "execution_count": 10,
   "metadata": {
    "colab": {},
    "colab_type": "code",
    "id": "ANzcJahd_vcL"
   },
   "outputs": [
    {
     "name": "stdout",
     "output_type": "stream",
     "text": [
      "15\n",
      "20\n",
      "5\n"
     ]
    }
   ],
   "source": [
    "### Write your code here\n",
    "import math\n",
    "a_=int(input())\n",
    "b_=int(input())\n",
    "k=math.gcd(a_,b_)\n",
    "print(k)"
   ]
  },
  {
   "cell_type": "raw",
   "metadata": {
    "colab_type": "text",
    "id": "bVDRuUDqNVRb"
   },
   "source": [
    "##Q. Right Justify\n",
    "Python has a function called ```len``` that returns the _length of a string_. <br>\n",
    "Write a function that takes a string ```s``` as a parameter and prints the string with enough leading spaces so that the last letter of the string is in column 70 of the display. <br>\n",
    "```\n",
    "right_justify('Hari')\n",
    "```\n",
    "Expected Output: <br>\n",
    "<img src=\"https://drive.google.com/uc?id=1DaifS8HV5PE7HbUvSbdj_N2Q-t88Wr8Q\" width=\"400\">\n",
    "\n",
    "\n"
   ]
  },
  {
   "cell_type": "code",
   "execution_count": 3,
   "metadata": {
    "colab": {},
    "colab_type": "code",
    "id": "ZXLMeoiuZhL9"
   },
   "outputs": [
    {
     "name": "stdout",
     "output_type": "stream",
     "text": [
      "Hari\n",
      "                                                                  Hari\n"
     ]
    }
   ],
   "source": [
    "def right_justify(s):\n",
    "  ### Write your code here\n",
    "  print(\" \"*(70-len(s))+s)\n",
    "s=input()\n",
    "right_justify(s)"
   ]
  },
  {
   "cell_type": "markdown",
   "metadata": {
    "colab_type": "text",
    "id": "KsC-3mHZa8Zh"
   },
   "source": [
    "#Q. Do Anything Twice\n",
    "Refer to Drill 19(programming drill - 4) for this question. <br>\n",
    "- Modify ```do_twice``` so that it takes two arguments - a function object and a value, and calls the function twice, passing value as argument.\n",
    "- Define a new function ```do_four``` that takes a function object and a value and calls the function four times. There should only be two statements in the body of the function.\n"
   ]
  },
  {
   "cell_type": "code",
   "execution_count": 20,
   "metadata": {
    "colab": {},
    "colab_type": "code",
    "id": "3NMeZgbfZt6E"
   },
   "outputs": [
    {
     "name": "stdout",
     "output_type": "stream",
     "text": [
      "Kaustubh Dwivedi\n",
      "Kaustubh Dwivedi\n"
     ]
    }
   ],
   "source": [
    "def do_twice(f, v):\n",
    "  \"\"\"\n",
    "  This function calls any function object that is passed to it twice passing v as the argument\n",
    "\n",
    "  Input:\n",
    "    f: function object\n",
    "    v: value\n",
    "  \"\"\"\n",
    "  ### Write your code here\n",
    "  f(v)\n",
    "  f(v)\n",
    "\n",
    "def print_name(v):\n",
    "    print(v)\n",
    "\n",
    "    \n",
    "do_twice(print_name,\"Kaustubh Dwivedi\")"
   ]
  },
  {
   "cell_type": "code",
   "execution_count": 23,
   "metadata": {
    "colab": {},
    "colab_type": "code",
    "id": "TzNdGRxSdi4V"
   },
   "outputs": [
    {
     "name": "stdout",
     "output_type": "stream",
     "text": [
      "Kaustubh Dwivedi\n",
      "Kaustubh Dwivedi\n",
      "Kaustubh Dwivedi\n",
      "Kaustubh Dwivedi\n"
     ]
    }
   ],
   "source": [
    "def do_four(f, v):\n",
    "  \"\"\"\n",
    "  This function calls any function object that is passed to it four times passing v as the argument\n",
    "\n",
    "  Input:\n",
    "    f: function object\n",
    "    v: value\n",
    "  \"\"\"\n",
    "  ### Write your code here\n",
    "  for i in range(4):\n",
    "      f(v)\n",
    "\n",
    "def print_name(v):\n",
    "    print(v)\n",
    "\n",
    "    \n",
    "do_four(print_name,\"Kaustubh Dwivedi\")"
   ]
  },
  {
   "cell_type": "code",
   "execution_count": 25,
   "metadata": {
    "colab": {},
    "colab_type": "code",
    "id": "hbtZYLPqhTJh"
   },
   "outputs": [
    {
     "name": "stdout",
     "output_type": "stream",
     "text": [
      "Hari\n",
      "Hari\n",
      "\n",
      "Mary\n",
      "Mary\n",
      "Mary\n",
      "Mary\n"
     ]
    }
   ],
   "source": [
    "### Write some code to test your functions here\n",
    "do_twice(print_name, \"Hari\")\n",
    "print()\n",
    "do_four(print_name, \"Mary\")"
   ]
  },
  {
   "cell_type": "markdown",
   "metadata": {
    "colab_type": "text",
    "id": "dnK2S6Y6MUnL"
   },
   "source": [
    "#Q. Grid art\n",
    "Write a function that draws a grid like the following: <br>\n",
    "<img src=\"https://drive.google.com/uc?id=1a4-dj7bd4f8aYATscJiMgAkZi087n8Ie\" width=\"200\">"
   ]
  },
  {
   "cell_type": "code",
   "execution_count": 15,
   "metadata": {
    "colab": {},
    "colab_type": "code",
    "id": "muJBmDEdMML0"
   },
   "outputs": [
    {
     "name": "stdout",
     "output_type": "stream",
     "text": [
      "\n",
      " + - - - - + - - - - +\n",
      " |         |         |\n",
      " |         |         |\n",
      " |         |         |\n",
      " |         |         |\n",
      " + - - - - + - - - - +\n",
      " |         |         |\n",
      " |         |         |\n",
      " |         |         |\n",
      " |         |         |\n",
      " + - - - - + - - - - +"
     ]
    }
   ],
   "source": [
    "def draw_grid_art():\n",
    "  ### Write your code here\n",
    "  for i in range(11):\n",
    "        print()\n",
    "        for j in range(11):\n",
    "            print(\" \",end=\"\")\n",
    "            if i%5==0 and j%5==0:\n",
    "                print(\"+\",end=\"\")\n",
    "            elif i%5==0 and j%5!=0:\n",
    "                print(\"-\",end=\"\")\n",
    "            elif i%5!=0 and j%5==0:\n",
    "                print(\"|\",end=\"\")\n",
    "            else:\n",
    "                print(\" \",end=\"\")\n",
    "\n",
    "draw_grid_art()\n",
    "  "
   ]
  },
  {
   "cell_type": "markdown",
   "metadata": {
    "colab_type": "text",
    "id": "W2Gq1-znmCWh"
   },
   "source": [
    "Write a function that prints a similar grid but with four rows and four columns."
   ]
  },
  {
   "cell_type": "code",
   "execution_count": 17,
   "metadata": {
    "colab": {},
    "colab_type": "code",
    "id": "DFyd554ljoif"
   },
   "outputs": [
    {
     "name": "stdout",
     "output_type": "stream",
     "text": [
      "\n",
      " + - - - - + - - - - + - - - - + - - - - +\n",
      " |         |         |         |         |\n",
      " |         |         |         |         |\n",
      " |         |         |         |         |\n",
      " |         |         |         |         |\n",
      " + - - - - + - - - - + - - - - + - - - - +\n",
      " |         |         |         |         |\n",
      " |         |         |         |         |\n",
      " |         |         |         |         |\n",
      " |         |         |         |         |\n",
      " + - - - - + - - - - + - - - - + - - - - +\n",
      " |         |         |         |         |\n",
      " |         |         |         |         |\n",
      " |         |         |         |         |\n",
      " |         |         |         |         |\n",
      " + - - - - + - - - - + - - - - + - - - - +\n",
      " |         |         |         |         |\n",
      " |         |         |         |         |\n",
      " |         |         |         |         |\n",
      " |         |         |         |         |\n",
      " + - - - - + - - - - + - - - - + - - - - +"
     ]
    }
   ],
   "source": [
    "def draw_grid_art_four():\n",
    "    ### Write your code here\n",
    "    for i in range(21):\n",
    "        print()\n",
    "        for j in range(21):\n",
    "            print(\" \",end=\"\")\n",
    "            if i%5==0 and j%5==0:\n",
    "                print(\"+\",end=\"\")\n",
    "            elif i%5==0 and j%5!=0:\n",
    "                print(\"-\",end=\"\")\n",
    "            elif i%5!=0 and j%5==0:\n",
    "                print(\"|\",end=\"\")\n",
    "            else:\n",
    "                print(\" \",end=\"\")\n",
    "                \n",
    "draw_grid_art_four()\n"
   ]
  }
 ],
 "metadata": {
  "colab": {
   "authorship_tag": "ABX9TyNbA0VED+1kbx5EplDCitF8",
   "name": "Assignment1.ipynb",
   "provenance": []
  },
  "kernelspec": {
   "display_name": "Python 3",
   "language": "python",
   "name": "python3"
  },
  "language_info": {
   "codemirror_mode": {
    "name": "ipython",
    "version": 3
   },
   "file_extension": ".py",
   "mimetype": "text/x-python",
   "name": "python",
   "nbconvert_exporter": "python",
   "pygments_lexer": "ipython3",
   "version": "3.7.3"
  }
 },
 "nbformat": 4,
 "nbformat_minor": 1
}
