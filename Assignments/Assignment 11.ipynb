{
 "cells": [
  {
   "cell_type": "code",
   "execution_count": 1,
   "metadata": {
    "colab": {},
    "colab_type": "code",
    "id": "1v5uaG1y8Xej"
   },
   "outputs": [],
   "source": [
    "import numpy as np"
   ]
  },
  {
   "cell_type": "markdown",
   "metadata": {
    "colab_type": "text",
    "id": "uPmjYRjS_IIW"
   },
   "source": []
  },
  {
   "cell_type": "markdown",
   "metadata": {
    "colab_type": "text",
    "id": "wbnRJwqF7fdG"
   },
   "source": [
    "### Generate Data\n",
    "Create a function that randomly gives either +1 or -1 as input"
   ]
  },
  {
   "cell_type": "code",
   "execution_count": 3,
   "metadata": {
    "colab": {},
    "colab_type": "code",
    "id": "vsaoR-wSmPJO"
   },
   "outputs": [],
   "source": [
    "def create_u():\n",
    "  \"\"\"\n",
    "  Inputs:\n",
    "    None\n",
    "  Outputs:\n",
    "    u: +1 or -1 randomly generated\n",
    "  \"\"\"\n",
    "  ### BEGIN SOLUTION\n",
    "  x = np.random.rand(1,)\n",
    "  if (x<=0.5):\n",
    "    u = 1\n",
    "  else:\n",
    "    u = -1\n",
    "  \n",
    "  return u"
   ]
  },
  {
   "cell_type": "markdown",
   "metadata": {
    "colab_type": "text",
    "id": "Os7QHguQ_5PN"
   },
   "source": [
    "#### Desired data\n",
    "$y(t+1) = w_0y(t) + w_1y(t-1) + w_2u(t) $"
   ]
  },
  {
   "cell_type": "code",
   "execution_count": 4,
   "metadata": {
    "colab": {},
    "colab_type": "code",
    "id": "IbW2xPZ08Kqw"
   },
   "outputs": [],
   "source": [
    "\"\"\"Test for create_u\"\"\"\n",
    "u = create_u()\n",
    "assert u==1 or u== -1\n"
   ]
  },
  {
   "cell_type": "code",
   "execution_count": 5,
   "metadata": {
    "colab": {},
    "colab_type": "code",
    "id": "JD2mDTRd_Xoo"
   },
   "outputs": [],
   "source": [
    "def generate_data(timesteps, w0, w1, w2):\n",
    "  \"\"\"\n",
    "  Inputs:\n",
    "    timesteps: int, number of timesteps of data\n",
    "  Outputs:\n",
    "    u: numpy array with each element +1 or -1 of shape (timesteps, )\n",
    "    yd: numpy array with each element computed using above equation of shape (timesteps, )\n",
    "  \"\"\"\n",
    "  ### BEGIN SOLUTION\n",
    "  u = np.array([create_u() for i in range(timesteps) ])\n",
    "  yd = np.zeros((timesteps+1,))\n",
    "  for j in range(1, timesteps):\n",
    "    yd[j+1] = w0*yd[j] + w1*yd[j-1] + w2*u[j]\n",
    "  return u, yd\n"
   ]
  },
  {
   "cell_type": "code",
   "execution_count": 6,
   "metadata": {
    "colab": {},
    "colab_type": "code",
    "id": "gKLXgraGBL7y"
   },
   "outputs": [],
   "source": [
    "### Generate u, yd\n",
    "u, yd = generate_data(10000, 1.1, -0.3, 0.5)"
   ]
  },
  {
   "cell_type": "markdown",
   "metadata": {
    "colab_type": "text",
    "id": "34oI6R4w9w8n"
   },
   "source": [
    "### Write expression for $y(t+1)$"
   ]
  },
  {
   "cell_type": "code",
   "execution_count": 7,
   "metadata": {
    "colab": {},
    "colab_type": "code",
    "id": "FSyKKg5cnEks"
   },
   "outputs": [],
   "source": [
    "def get_y_tplus1(w, yt, ytminus1, u):\n",
    "  \"\"\"\n",
    "  Inputs:\n",
    "    w: numpy array of weights of shape (3, )\n",
    "    yt: float, y value at time t\n",
    "    ytminus1: float, y value at time t - 1\n",
    "    u: input at time t\n",
    "  Outputs:\n",
    "    y_tplus1: float, y at t+1\n",
    "  \"\"\"\n",
    "  ### BEGIN SOLUTION\n",
    "  y_tplus1 = w[0]*yt + w[1]*ytminus1 + w[2]*u \n",
    "\n",
    "  return y_tplus1"
   ]
  },
  {
   "cell_type": "markdown",
   "metadata": {
    "colab_type": "text",
    "id": "2oDbB5_vC0EK"
   },
   "source": [
    "### Forward propagation of weights\n",
    "$$\n",
    "\\frac{\\partial y(t+1)}{\\partial w_0} = w_0\\frac{\\partial y(t)}{\\partial w_0} + y(t) + w_1\\frac{\\partial y(t-1)}{\\partial w_0}\n",
    "$$\n",
    "<br><br>\n",
    "$$\n",
    "\\frac{\\partial y(t+1)}{\\partial w_1} = w_0\\frac{\\partial y(t)}{\\partial w_1} + y(t-1) + w_1\\frac{\\partial y(t-1)}{\\partial w_1} \\\\\n",
    "$$\n",
    "<br><br>\n",
    "$$\n",
    "\\frac{\\partial y(t+1)}{\\partial w_2} = w_0\\frac{\\partial y(t)}{\\partial w_2} +  w_1\\frac{\\partial y(t-1)}{\\partial w_2} + u(t) \n",
    "$$\n",
    "<br><br>\n",
    "pwj1 is a matrix $\\frac{\\partial y(t)}{\\partial w} =\n",
    "[\\frac{\\partial y(t)}{\\partial w_0}, \\frac{\\partial y(t)}{\\partial w_1}, \\frac{\\partial y(t)}{\\partial w_2}]$\n",
    "<br><br>\n",
    "pwj0 is a matrix $\\frac{\\partial y(t-1)}{\\partial w} =\n",
    "[\\frac{\\partial y(t-1)}{\\partial w_0}, \\frac{\\partial y(t-1)}{\\partial w_1}, \\frac{\\partial y(t-1)}{\\partial w_2}]$\n",
    "<br><br>\n",
    "pwj2 is a matrix $\\frac{\\partial y(t+1)}{\\partial w} =\n",
    "[\\frac{\\partial y(t+1)}{\\partial w_0}, \\frac{\\partial y(t+1)}{\\partial w_1}, \\frac{\\partial y(t+1)}{\\partial w_2}]$"
   ]
  },
  {
   "cell_type": "code",
   "execution_count": 8,
   "metadata": {
    "colab": {},
    "colab_type": "code",
    "id": "zbFBIlifn5lX"
   },
   "outputs": [],
   "source": [
    "def forward_prop_weights(w, yt, ytminus1, u, pwj1, pwj0):\n",
    "  \"\"\"\n",
    "  Inputs:\n",
    "    w: numpy array of weights [w0, w1, w2]\n",
    "    yt: float, y value at time t\n",
    "    ytminus1: float, y value at time t - 1\n",
    "    u: input at time t\n",
    "    pwj1: numpy array of shape (3, ) as described above\n",
    "    pwj0: numpy array of shape (3, ) as described above\n",
    "  Outputs:\n",
    "    pwj2: numpy array of shape (3, ) as described above\n",
    "  \"\"\"  \n",
    "  ### BEGIN SOLUTION\n",
    "  a = w[0]*pwj1[0] + yt + w[1]*pwj0[0]\n",
    "  \n",
    "  b = w[0]*pwj1[1] + ytminus1 + w[1]*pwj0[1]\n",
    "  \n",
    "  c = w[0]*pwj1[2] + u + w[1]*pwj0[2]\n",
    "  pwj2 = [a, b, c]\n",
    "  \n",
    "  return pwj2"
   ]
  },
  {
   "cell_type": "markdown",
   "metadata": {
    "colab_type": "text",
    "id": "FH0wlubaHPd9"
   },
   "source": [
    "### Weight update - Gradient descent\n",
    "$E = \\frac{1}{2}(y_d - y)^2$ <br>\n",
    "$w_{new} = w_{old} - \\eta\\frac{\\partial E}{\\partial w} = w_{old} - \\eta(y_d - y)\\cdot pwj2$ "
   ]
  },
  {
   "cell_type": "code",
   "execution_count": 9,
   "metadata": {
    "colab": {},
    "colab_type": "code",
    "id": "V-yaQxkup6Nw"
   },
   "outputs": [],
   "source": [
    "def update_w(w, eta, yd, y, pwj2):\n",
    "  \"\"\"\n",
    "  Inputs:\n",
    "    w: numpy array of weights [w0, w1, w2]\n",
    "    eta: float, learning rate\n",
    "    yd: scalar(float), desired value of y at time t+1\n",
    "    y: scalar(float), predicted value of y at time t+1\n",
    "    pwj2: numpy array of shape(3,) obtained from forward_prop_weights\n",
    "  Outputs:\n",
    "    w_updated: numpy array of shape(3, ), updated weights\n",
    "  \"\"\"\n",
    "  ### BEGIN SOLUTION\n",
    "  for k in range(3):\n",
    "    w[k] = w[k] + eta*(yd - y)*pwj2[k]\n",
    "    \n",
    "  w_updated = w\n",
    "  \n",
    "  return w_updated"
   ]
  },
  {
   "cell_type": "markdown",
   "metadata": {
    "colab_type": "text",
    "id": "AyZmxCP3KQlR"
   },
   "source": [
    "### Cost function (error)\n",
    "$E = \\frac{1}{2}(y_d - y)^2$ <br>\n"
   ]
  },
  {
   "cell_type": "code",
   "execution_count": 10,
   "metadata": {
    "colab": {},
    "colab_type": "code",
    "id": "xgd4SRv5qhvW"
   },
   "outputs": [],
   "source": [
    "def err(yd, y):\n",
    "  \"\"\"\n",
    "  Inputs:\n",
    "    yd: scalar(float), desired value of y at time t+1\n",
    "    y: scalar(float), predicted value of y at time t+1\n",
    "  Outputs:\n",
    "    E: scalar(float), error as described above \n",
    "  \"\"\"\n",
    "  ### BEGIN SOLUTION\n",
    "  e = yd-y\n",
    "  E = 0.5*e*e\n",
    "  \n",
    "  return E"
   ]
  },
  {
   "cell_type": "markdown",
   "metadata": {
    "colab_type": "text",
    "id": "rxyXbrZKLIct"
   },
   "source": [
    "### Apply RTRL"
   ]
  },
  {
   "cell_type": "code",
   "execution_count": 11,
   "metadata": {
    "colab": {},
    "colab_type": "code",
    "id": "TFmXL1PZkXPp"
   },
   "outputs": [],
   "source": [
    "def RTRL(yd, eta, timesteps):\n",
    "  \"\"\"\n",
    "  Inputs:\n",
    "    yd: numpy array of shape(timesteps,) \n",
    "    eta: scalar(float), learning rate\n",
    "    timesteps: int, number of timesteps\n",
    "  Outputs:\n",
    "    west: numpy array of shape(timesteps,3), keeps track of all the updated weights over time\n",
    "    error: numpy array of shape(timesteps,), keeps track of error (as obtained from function err()) over time\n",
    "  \"\"\"\n",
    "  ### BEGIN SOLUTION\n",
    "  y = np.zeros((timesteps+1,))\n",
    "  error = np.zeros((timesteps,))\n",
    "  \n",
    "#   w = 0.01*np.random.rand(3, 1)\n",
    "  w = np.zeros((3, 1))\n",
    "  pw = np.zeros((timesteps+1, 3))\n",
    "  west = np.zeros((timesteps, 3))\n",
    "  \n",
    "  \n",
    "  for j in range (1,iterations):\n",
    "      \n",
    "      y[j+1] = get_y_tplus1(w, y[j], y[j-1], u[j])\n",
    "      \n",
    "      pw[j+1, 0], pw[j+1, 1], pw[j+1, 2] = forward_prop_weights(w, y[j], y[j-1], u[j], pw[j,:], pw[j-1,:])\n",
    "      \n",
    "#       eta = update_eta(pw[j+1, :])\n",
    "      \n",
    "      w = update_w(w, eta, yd[j+1], y[j+1], pw[j+1, :])\n",
    "      \n",
    "      for k in range(3):\n",
    "        west[j,k] = w[k]\n",
    "\n",
    "      error[j] = err(yd[j+1], y[j+1])\n",
    "    \n",
    "  return west, error\n",
    "   "
   ]
  },
  {
   "cell_type": "code",
   "execution_count": 12,
   "metadata": {
    "colab": {},
    "colab_type": "code",
    "id": "SYwGeHqirLop"
   },
   "outputs": [],
   "source": [
    "def plot_w(west):\n",
    "  plt.plot(west[:,0])\n",
    "  plt.show()\n",
    "  plt.plot(west[:,1])\n",
    "  plt.show()\n",
    "  plt.plot(west[:,2])\n",
    "  plt.show()"
   ]
  },
  {
   "cell_type": "code",
   "execution_count": 13,
   "metadata": {
    "colab": {},
    "colab_type": "code",
    "id": "9dbtDLierWhh"
   },
   "outputs": [],
   "source": [
    "def plot_err(error):\n",
    "  plt.plot(error)\n",
    "  plt.show()"
   ]
  },
  {
   "cell_type": "code",
   "execution_count": 15,
   "metadata": {
    "colab": {
     "base_uri": "https://localhost:8080/",
     "height": 1000
    },
    "colab_type": "code",
    "executionInfo": {
     "elapsed": 2860,
     "status": "ok",
     "timestamp": 1589891196154,
     "user": {
      "displayName": "Sai Saurab",
      "photoUrl": "",
      "userId": "06528725485567637895"
     },
     "user_tz": -330
    },
    "id": "SPHeNdBrcR4s",
    "outputId": "25a70d13-c017-4db9-d64d-df08355ea5e3"
   },
   "outputs": [
    {
     "data": {
      "image/png": "[encoded data removed]",
      "text/plain": [
       "<Figure size 432x288 with 1 Axes>"
      ]
     },
     "metadata": {
      "needs_background": "light"
     },
     "output_type": "display_data"
    },
    {
     "data": {
      "image/png": "[encoded data removed]",
      "text/plain": [
       "<Figure size 432x288 with 1 Axes>"
      ]
     },
     "metadata": {
      "needs_background": "light"
     },
     "output_type": "display_data"
    },
    {
     "data": {
      "image/png": "[encoded data removed]",
      "text/plain": [
       "<Figure size 432x288 with 1 Axes>"
      ]
     },
     "metadata": {
      "needs_background": "light"
     },
     "output_type": "display_data"
    },
    {
     "data": {
      "image/png": "[encoded data removed]",
      "text/plain": [
       "<Figure size 432x288 with 1 Axes>"
      ]
     },
     "metadata": {
      "needs_background": "light"
     },
     "output_type": "display_data"
    }
   ],
   "source": [
    "import numpy as np\n",
    "import matplotlib.pyplot as plt\n",
    "\n",
    "eta = 0.005\n",
    "iterations = 10000\n",
    "\n",
    "west, error = RTRL(yd, eta, iterations)\n",
    "\n",
    "plot_w(west)\n",
    "plot_err(error)"
   ]
  }
 ],
 "metadata": {
  "colab": {
   "collapsed_sections": [],
   "name": "Assignment 11 solutions",
   "provenance": [
    {
     "file_id": "1KvkYfI_2bqKYny6LOQSQqdFARYJlaMFE",
     "timestamp": 1591192677001
    },
    {
     "file_id": "19TezZPvweMy0-pNtbOZJJgkebRa_8vGH",
     "timestamp": 1560344812800
    }
   ]
  },
  "kernelspec": {
   "display_name": "Python 3",
   "language": "python",
   "name": "python3"
  },
  "language_info": {
   "codemirror_mode": {
    "name": "ipython",
    "version": 3
   },
   "file_extension": ".py",
   "mimetype": "text/x-python",
   "name": "python",
   "nbconvert_exporter": "python",
   "pygments_lexer": "ipython3",
   "version": "3.7.3"
  }
 },
 "nbformat": 4,
 "nbformat_minor": 1
}
