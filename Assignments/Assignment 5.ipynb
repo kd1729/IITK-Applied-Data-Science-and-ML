{
 "cells": [
  {
   "cell_type": "markdown",
   "metadata": {
    "colab_type": "text",
    "id": "OEF5yWrV_h41"
   },
   "source": [
    "Use recursion to solve the problems."
   ]
  },
  {
   "cell_type": "markdown",
   "metadata": {
    "colab_type": "text",
    "id": "Dk2q7qJt_lYY"
   },
   "source": [
    "# Q. Natural Sum\n",
    "Write a function that takes an arguemnt n and computes the sum $1 + 2 + 3 + \\ldots +n$ recursively."
   ]
  },
  {
   "cell_type": "code",
   "execution_count": 1,
   "metadata": {
    "colab": {},
    "colab_type": "code",
    "id": "Ky77jttY_c9A"
   },
   "outputs": [],
   "source": [
    "def natural_sum(n):\n",
    "    ### Write your code here\n",
    "    if n==1:\n",
    "        return 1\n",
    "    else:\n",
    "        return n+natural_sum(n-1)"
   ]
  },
  {
   "cell_type": "code",
   "execution_count": 2,
   "metadata": {
    "colab": {},
    "colab_type": "code",
    "id": "OFPqTvHgAFGF"
   },
   "outputs": [
    {
     "name": "stdout",
     "output_type": "stream",
     "text": [
      "Test cases passed! 👍\n"
     ]
    }
   ],
   "source": [
    "\"\"\"Test Cases\"\"\"\n",
    "assert natural_sum(1) == 1\n",
    "assert natural_sum(10) == 55\n",
    "print(f\"Test cases passed! {chr(0x1F44D)}\")"
   ]
  },
  {
   "cell_type": "markdown",
   "metadata": {
    "colab_type": "text",
    "id": "AdmSPaq-_5HJ"
   },
   "source": [
    "# Q. Recursively Min\n",
    "Write a recursive function that finds and returns the minimum element in an array.\n"
   ]
  },
  {
   "cell_type": "code",
   "execution_count": 7,
   "metadata": {
    "colab": {},
    "colab_type": "code",
    "id": "VFHBLosvABK7"
   },
   "outputs": [],
   "source": [
    "def findmin(arr):\n",
    "    ### Write your code here\n",
    "    n=len(arr)\n",
    "    if n==1:\n",
    "        return arr[0]\n",
    "    else:\n",
    "        return min(arr[n-1], findmin(arr[:n-1]))\n",
    "        \n",
    "    "
   ]
  },
  {
   "cell_type": "code",
   "execution_count": 8,
   "metadata": {
    "colab": {},
    "colab_type": "code",
    "id": "8spUYp8oAc9b"
   },
   "outputs": [
    {
     "name": "stdout",
     "output_type": "stream",
     "text": [
      "Test cases passed! 👍\n"
     ]
    }
   ],
   "source": [
    "\"\"\"Test Cases\"\"\"\n",
    "assert findmin([2, 3, 2, 4, 7, 8, 9]) == 2\n",
    "assert findmin([1]) == 1\n",
    "print(f\"Test cases passed! {chr(0x1F44D)}\")"
   ]
  },
  {
   "cell_type": "markdown",
   "metadata": {
    "colab_type": "text",
    "id": "wf1-NubMEUkW"
   },
   "source": [
    "# Q.Recursive Palindrome\n",
    "Write a recursive function that takes a string and returns whether the string is a palindrome or not. (Function should return a bool ```True``` or ```False```)"
   ]
  },
  {
   "cell_type": "code",
   "execution_count": 5,
   "metadata": {
    "colab": {},
    "colab_type": "code",
    "id": "vSfaF9sRBPC-"
   },
   "outputs": [],
   "source": [
    "def isPalindrome(s):\n",
    "    ### Write your code here\n",
    "    st=(s.lower()).replace(\" \",\"\")\n",
    "    if len(st)<=1:\n",
    "        return True\n",
    "    elif st[0]!=st[-1]:\n",
    "        return False\n",
    "    else:\n",
    "        return isPalindrome(st[1:len(st)-1])\n",
    "    \n",
    "    "
   ]
  },
  {
   "cell_type": "code",
   "execution_count": 10,
   "metadata": {
    "colab": {},
    "colab_type": "code",
    "id": "xiiG88UfBPad"
   },
   "outputs": [
    {
     "name": "stdout",
     "output_type": "stream",
     "text": [
      "Test cases passed! 👍\n"
     ]
    }
   ],
   "source": [
    "\"\"\"Test Cases\"\"\"\n",
    "assert isPalindrome(\"abbaa\") == False\n",
    "assert isPalindrome(\"Was it A Rat I saw\") == True\n",
    "print(f\"Test cases passed! {chr(0x1F44D)}\")"
   ]
  },
  {
   "cell_type": "markdown",
   "metadata": {
    "colab_type": "text",
    "id": "JadE5TmTGNe9"
   },
   "source": [
    "# Q. Change Pi\n",
    "Write a function that takes a string and replaces all occurences of pi with 3.14. This should be done using recursion instead of loops (iteration). "
   ]
  },
  {
   "cell_type": "code",
   "execution_count": 7,
   "metadata": {
    "colab": {},
    "colab_type": "code",
    "id": "dXU0fjjBF2ve",
    "scrolled": true
   },
   "outputs": [],
   "source": [
    "def replacePi(s,start):\n",
    "    ### Write your code here\n",
    "    if len(s) < 2 or start == len(s): \n",
    "        return s\n",
    "    replacePi(s,start+1)\n",
    "    if(s[start] == 'p' and s[start + 1] == 'i'): \n",
    "        s[start:start + 2] = ['3', '.', '1', '4']\n",
    "    return \"\".join(s)\n",
    "\n",
    "def changePi(string):\n",
    "    string=list(string)\n",
    "    return(replacePi(string, 0))\n"
   ]
  },
  {
   "cell_type": "code",
   "execution_count": 8,
   "metadata": {
    "colab": {},
    "colab_type": "code",
    "id": "7DRvjjklGmpz"
   },
   "outputs": [
    {
     "name": "stdout",
     "output_type": "stream",
     "text": [
      "Test cases passed! 👍\n"
     ]
    }
   ],
   "source": [
    "\"\"\"Test Cases\"\"\"\n",
    "assert changePi(\"pixyzpi\") == \"3.14xyz3.14\"\n",
    "assert changePi(\"pixypiabpi\") == \"3.14xy3.14ab3.14\"\n",
    "print(f\"Test cases passed! {chr(0x1F44D)}\")"
   ]
  }
 ],
 "metadata": {
  "colab": {
   "authorship_tag": "ABX9TyNjO7AW+Mi2C6lLxh/mr0C8",
   "collapsed_sections": [],
   "name": "Assignment 5.ipynb",
   "provenance": []
  },
  "kernelspec": {
   "display_name": "Python 3",
   "language": "python",
   "name": "python3"
  },
  "language_info": {
   "codemirror_mode": {
    "name": "ipython",
    "version": 3
   },
   "file_extension": ".py",
   "mimetype": "text/x-python",
   "name": "python",
   "nbconvert_exporter": "python",
   "pygments_lexer": "ipython3",
   "version": "3.7.3"
  }
 },
 "nbformat": 4,
 "nbformat_minor": 1
}
