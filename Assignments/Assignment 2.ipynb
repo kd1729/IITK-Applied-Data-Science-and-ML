{
 "cells": [
  {
   "cell_type": "markdown",
   "metadata": {
    "colab_type": "text",
    "id": "85Po9342eFZZ"
   },
   "source": [
    "##Q. Min Min Min\n",
    "Write a program that does the following\n",
    "- Takes 3 numbers as input from the user\n",
    "- Finds minimum of the 3 numbers and prints it"
   ]
  },
  {
   "cell_type": "code",
   "execution_count": 7,
   "metadata": {
    "colab": {},
    "colab_type": "code",
    "id": "wPjz3AvIeYPG"
   },
   "outputs": [
    {
     "name": "stdout",
     "output_type": "stream",
     "text": [
      "Input 3 distinct numbers\n",
      "2\n",
      "4\n",
      "6\n",
      "Minimum of above numbers is 2\n"
     ]
    }
   ],
   "source": [
    "### Write your code here\n",
    "def Min(a,b,c):\n",
    "    if a<b and a<c:\n",
    "        return a\n",
    "    elif b<c and b<a:\n",
    "        return b\n",
    "    else:\n",
    "        return c\n",
    "\n",
    "print(\"Input 3 distinct numbers\")\n",
    "a=int(input())\n",
    "b=int(input())\n",
    "c=int(input())\n",
    "print(\"Minimum of above numbers is \"+str(min(a,b,c)))"
   ]
  },
  {
   "cell_type": "markdown",
   "metadata": {
    "colab_type": "text",
    "id": "7GZnA2DVZnfg"
   },
   "source": [
    "#Q. Proving Fermat\n",
    "Fermat's last theorem says that there are no positive integers $a, b, c$ such that \n",
    "$$\n",
    "a^n + b^n = c^n\n",
    "$$\n",
    "for any values of $n > 2$\n",
    "- Write a function named ```check_fermat``` that takes four parameters - ```a, b, c``` and ```n``` and checks to see if fermat's theorem holds. If ```n > 2``` and it turns out to be true that \n",
    "$$\n",
    "a^n + b^n = c^n\n",
    "$$ the function should print, \"Oh No! Fermat was wrong!\". Otherwise the function should print, \"No that doesn't work\"\n",
    "- Write a program that takes four inputs from the users - ```a, b, c``` and ```n``` and converts them to integers and uses check_fermat to check whether they violate Fermat's theorem."
   ]
  },
  {
   "cell_type": "code",
   "execution_count": 4,
   "metadata": {
    "colab": {},
    "colab_type": "code",
    "id": "5ca0eTDbZZG4"
   },
   "outputs": [
    {
     "name": "stdout",
     "output_type": "stream",
     "text": [
      "Enter a, b, c and n respectively\n",
      "4\n",
      "6\n",
      "7\n",
      "3\n",
      "No that doesn't work\n"
     ]
    }
   ],
   "source": [
    "### Write your code here\n",
    "def check_fermat(a, b, c, n):\n",
    "    if n<=2:\n",
    "        return(\"n should be greater than 2 !!!\")\n",
    "    else:\n",
    "        if a**n+b**n==c**n:\n",
    "            return(\"Oh No! Fermat was wrong!\")\n",
    "        else:\n",
    "            return( \"No that doesn't work\")\n",
    "            \n",
    "\n",
    "print(\"Enter a, b, c and n respectively\")\n",
    "a=int(input())\n",
    "b=int(input())\n",
    "c=int(input())\n",
    "n=int(input())\n",
    "print(check_fermat(a,b,c,n))\n"
   ]
  },
  {
   "cell_type": "markdown",
   "metadata": {
    "colab_type": "text",
    "id": "htwKREd7bD_g"
   },
   "source": [
    "#Q. Potential triangularity\n",
    "If you are given three sticks, you may or may not be able to arrange them in a triangle. For example,if one of the sticks is 12inches long and the other two are  1inch long, it is clear that you will not be able to get the short sticks to meet in the middle. For any three lengths, there is a simple test to see if it is possible to form a triangle. \n",
    "\n",
    "_If any of the three lengths is greater than the sum of the other two, then you cannot form a triangle. Otherwise, you can. (If the sum of two lengths equals the third, they form what is called a “degenerate” triangle or a straight line segment.)_\n",
    "\n",
    "- Write a function named ```is_triangle``` that takes three integers as arguments, and that prints either \"Yes\" or \"No\", depending on whether you can or cannot form a triangle using sticks of given lengths.\n",
    "- Write a function that prompts the user to input three stick lengths, converts them to integers, and uses is_triangle to check whether sitcks with the given lengths can form a triangle. "
   ]
  },
  {
   "cell_type": "code",
   "execution_count": 1,
   "metadata": {
    "colab": {},
    "colab_type": "code",
    "id": "QI1ZvUzLcWSS"
   },
   "outputs": [
    {
     "name": "stdout",
     "output_type": "stream",
     "text": [
      "Enter three sides of triangle respectively\n",
      "6\n",
      "4\n",
      "8\n",
      "Yes\n"
     ]
    }
   ],
   "source": [
    "### Write your code here\n",
    "def is_triangle(a,b,c):\n",
    "    if a+b<=c or b+c<=a or c+a<=b:\n",
    "        return \"No\"\n",
    "    else:\n",
    "        return \"Yes\"\n",
    "print(\"Enter three sides of triangle respectively\")\n",
    "a=int(input())\n",
    "b=int(input())\n",
    "c=int(input())\n",
    "print(is_triangle(a,b,c))"
   ]
  },
  {
   "cell_type": "markdown",
   "metadata": {
    "colab_type": "text",
    "id": "KOR45AN7hL4e"
   },
   "source": [
    "#Q. Basic Calculator\n",
    "- Write a function that takes three arguments - ```op1, op2``` and ```operator``` and prints the result ```op1 operator op2```. <br>\n",
    "Eg., for ```op1 = 1```, ```op2 = 2``` and ```operator = '+' ```, the function prints ```3``` as the result (```1 + 2```). <br>\n",
    "Assume that the operator can be one of the following : ```+, -, *, /, %``` <br>\n",
    "- Write a program that takes 3 inputs from the user - two numbers and an operator and uses the calculator function to print the result."
   ]
  },
  {
   "cell_type": "code",
   "execution_count": 2,
   "metadata": {
    "colab": {},
    "colab_type": "code",
    "id": "65ifLibhhM3c"
   },
   "outputs": [
    {
     "name": "stdout",
     "output_type": "stream",
     "text": [
      "Enter 2 numbers\n",
      "4\n",
      "7\n",
      "Enter operator\n",
      "*\n",
      "28\n"
     ]
    }
   ],
   "source": [
    "#### Write your code here\n",
    "def calculator(a,b,o):\n",
    "    if o==\"+\":\n",
    "        return a+b\n",
    "    elif o==\"-\":\n",
    "        return a-b\n",
    "    elif o==\"*\":\n",
    "        return a*b\n",
    "    elif o==\"/\":\n",
    "        return a/b\n",
    "    elif o==\"%\":\n",
    "        return a%b\n",
    "    else:\n",
    "        return(\"Invalid operator\")\n",
    "\n",
    "print(\"Enter 2 numbers\")\n",
    "n1=int(input())\n",
    "n2=int(input())\n",
    "print(\"Enter operator\")\n",
    "operator=input()\n",
    "print(calculator(n1,n2,operator))"
   ]
  }
 ],
 "metadata": {
  "colab": {
   "authorship_tag": "ABX9TyPfpWENKFK8oni5qYOj8r2Q",
   "collapsed_sections": [],
   "name": "Assignment 2.ipynb",
   "provenance": []
  },
  "kernelspec": {
   "display_name": "Python 3",
   "language": "python",
   "name": "python3"
  },
  "language_info": {
   "codemirror_mode": {
    "name": "ipython",
    "version": 3
   },
   "file_extension": ".py",
   "mimetype": "text/x-python",
   "name": "python",
   "nbconvert_exporter": "python",
   "pygments_lexer": "ipython3",
   "version": "3.7.3"
  }
 },
 "nbformat": 4,
 "nbformat_minor": 1
}
