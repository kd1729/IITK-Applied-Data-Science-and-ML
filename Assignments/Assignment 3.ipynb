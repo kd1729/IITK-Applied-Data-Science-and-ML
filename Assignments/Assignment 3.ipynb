{
 "cells": [
  {
   "cell_type": "markdown",
   "metadata": {
    "colab_type": "text",
    "id": "YCKRJLaYcrOU"
   },
   "source": [
    "#Q. Even Sum\n",
    "Write a function that takes an argument ```n``` and returns sum of all even numbers $2, 4, \\ldots$ upto $n$"
   ]
  },
  {
   "cell_type": "code",
   "execution_count": 11,
   "metadata": {
    "colab": {},
    "colab_type": "code",
    "id": "GbbyVwn_k1YW"
   },
   "outputs": [
    {
     "name": "stdout",
     "output_type": "stream",
     "text": [
      "Enter the number:20\n"
     ]
    },
    {
     "data": {
      "text/plain": [
       "110"
      ]
     },
     "execution_count": 11,
     "metadata": {},
     "output_type": "execute_result"
    }
   ],
   "source": [
    "## Write your code here\n",
    "def sum_even(n):\n",
    "    k=n//2\n",
    "    return k*(k+1)\n",
    "\n",
    "sum_even(int(input(\"Enter the number:\")))"
   ]
  },
  {
   "cell_type": "markdown",
   "metadata": {
    "colab_type": "text",
    "id": "OmWQSgEbc9Tj"
   },
   "source": [
    "#Q. Intersection\n",
    "Write a function that takes two lists ```l1``` and ```l2``` as arguments and returns a list containing elements that are common to both lists without containing any duplicates."
   ]
  },
  {
   "cell_type": "code",
   "execution_count": 10,
   "metadata": {
    "colab": {},
    "colab_type": "code",
    "id": "jw6MAM8hdTzI"
   },
   "outputs": [
    {
     "name": "stdout",
     "output_type": "stream",
     "text": [
      "Enter list 1.a b c d e f\n",
      "Enter list 2.a s d f g h\n"
     ]
    },
    {
     "data": {
      "text/plain": [
       "['a', 'd', 'f']"
      ]
     },
     "execution_count": 10,
     "metadata": {},
     "output_type": "execute_result"
    }
   ],
   "source": [
    "### Write your code here\n",
    "def intersection(a,b):\n",
    "    lst=list()\n",
    "    for i in range(len(a)):\n",
    "        for j in range(len(b)):\n",
    "            if a[i]==b[j]:\n",
    "                lst.append(a[i])\n",
    "    return lst\n",
    "\n",
    "l1=list(map(str, input(\"Enter list 1.\").strip().split()))\n",
    "l2=list(map(str, input(\"Enter list 2.\").strip().split()))\n",
    "\n",
    "intersection(l1,l2)"
   ]
  },
  {
   "cell_type": "markdown",
   "metadata": {
    "colab_type": "text",
    "id": "yWcvFuaNdSs-"
   },
   "source": [
    "#Q. Primality\n",
    "Write a function that takes a number ```n``` as argument and returns ```True``` if the number is prime and ```False``` otherwise."
   ]
  },
  {
   "cell_type": "code",
   "execution_count": 12,
   "metadata": {
    "colab": {},
    "colab_type": "code",
    "id": "FqZmuu-FdtnR"
   },
   "outputs": [
    {
     "name": "stdout",
     "output_type": "stream",
     "text": [
      "Enter a number:43\n"
     ]
    },
    {
     "data": {
      "text/plain": [
       "True"
      ]
     },
     "execution_count": 12,
     "metadata": {},
     "output_type": "execute_result"
    }
   ],
   "source": [
    "### Write your code here\n",
    "def check_prime(n):\n",
    "    if n==2:\n",
    "        return True\n",
    "    k=int(n**(1/2))\n",
    "    for i in range(2, k+1):\n",
    "        if n%i==0:\n",
    "            return False\n",
    "    return True\n",
    "\n",
    "check_prime(int(input(\"Enter a number:\")))"
   ]
  },
  {
   "cell_type": "markdown",
   "metadata": {
    "colab_type": "text",
    "id": "5oNKdGnQdvwb"
   },
   "source": [
    "#Q. Digit Count and Sum\n",
    "Write a function that takes a number ```n``` as input and returns a tuple of two values - the number of digits in that number and sum of digits in that number."
   ]
  },
  {
   "cell_type": "code",
   "execution_count": 13,
   "metadata": {
    "colab": {},
    "colab_type": "code",
    "id": "qXYtFx4ueOpq"
   },
   "outputs": [
    {
     "name": "stdout",
     "output_type": "stream",
     "text": [
      "Enter a number:45798879\n"
     ]
    },
    {
     "data": {
      "text/plain": [
       "(8, 57)"
      ]
     },
     "execution_count": 13,
     "metadata": {},
     "output_type": "execute_result"
    }
   ],
   "source": [
    "### Write your code here\n",
    "def count_and_sum(n):\n",
    "    i=0\n",
    "    sum_=0\n",
    "    while(n>0):\n",
    "        digit=n%10\n",
    "        i+=1\n",
    "        sum_+=digit\n",
    "        n//=10\n",
    "    return i, sum_\n",
    "\n",
    "\n",
    "count_and_sum(int(input(\"Enter a number:\")))\n"
   ]
  },
  {
   "cell_type": "markdown",
   "metadata": {
    "colab_type": "text",
    "id": "3gjiztaOeSNg"
   },
   "source": [
    "#Q. Reverse Word Order\n",
    "Write a function that takes as argument a string containing multiple words and returns a string containing the same words in reverse order. \\\\\n",
    "Eg., ```input = 'India is a democracy'; output = 'democracy a is India' ```"
   ]
  },
  {
   "cell_type": "code",
   "execution_count": 46,
   "metadata": {
    "colab": {},
    "colab_type": "code",
    "id": "-R6gbrxceePP"
   },
   "outputs": [
    {
     "name": "stdout",
     "output_type": "stream",
     "text": [
      "India is a democratic country.\n",
      " country.  democratic  a  is  India "
     ]
    }
   ],
   "source": [
    "### Write your code here\n",
    "def reverse_order(s):\n",
    "    rev_s=s[::-1]\n",
    "    rev_s+=\" \"\n",
    "    j=0\n",
    "    for i in range(len(rev_s)):\n",
    "        if rev_s[i]==\" \":\n",
    "            if j==0:\n",
    "                print(rev_s[i::-1],end=\" \")\n",
    "            else:\n",
    "                print(rev_s[i:j:-1],end=\" \")\n",
    "            j+=len(rev_s[i:j:-1])\n",
    "\n",
    "reverse_order(input())   "
   ]
  },
  {
   "cell_type": "markdown",
   "metadata": {
    "colab_type": "text",
    "id": "MIUKUUWxe-i_"
   },
   "source": [
    "#Q. Palindromes\n",
    "Write a function that takes as argument a string and returns ```True``` if the string is a palindrome and ```False``` otherwise. \\\\\n",
    "A palindrome is a string that reads the same backwards and forwards. \\\\\n",
    "Eg., ```'aabbaa'``` and ```'aacbbcaa'``` are palindromes. ```'aacca'``` and ```'acab'``` are not. \\\\\n",
    "(Ignore whitespace inside strings. For eg., ```'Was It A Rat I Saw'``` is a palindrome)"
   ]
  },
  {
   "cell_type": "code",
   "execution_count": 33,
   "metadata": {
    "colab": {},
    "colab_type": "code",
    "id": "auXCyggugIFp"
   },
   "outputs": [
    {
     "name": "stdout",
     "output_type": "stream",
     "text": [
      "Was It A Rat I saw\n"
     ]
    },
    {
     "data": {
      "text/plain": [
       "True"
      ]
     },
     "execution_count": 33,
     "metadata": {},
     "output_type": "execute_result"
    }
   ],
   "source": [
    "### Write your code here\n",
    "def palindrome(s):\n",
    "    if((s.lower()).replace(\" \",\"\")==(s[::-1].lower()).replace(\" \",\"\")):\n",
    "        return True\n",
    "    else:\n",
    "        return False\n",
    "\n",
    "palindrome(input())"
   ]
  },
  {
   "cell_type": "markdown",
   "metadata": {
    "colab_type": "text",
    "id": "F7faqFS4gob3"
   },
   "source": [
    "#Q. Pascal Triangle\n",
    "Write a function that takes an argument n as input and returns a string containing a pascal triangle of n rows. (https://en.wikipedia.org/wiki/Pascal%27s_triangle)"
   ]
  },
  {
   "cell_type": "code",
   "execution_count": 3,
   "metadata": {
    "colab": {},
    "colab_type": "code",
    "id": "tVTmDoF-howj"
   },
   "outputs": [
    {
     "name": "stdout",
     "output_type": "stream",
     "text": [
      "Enter the number of rows: 6\n",
      "                        1 \n",
      "                     1      1 \n",
      "                  1      2      1 \n",
      "               1      3      3      1 \n",
      "            1      4      6      4      1 \n",
      "         1      5     10     10      5      1 \n"
     ]
    }
   ],
   "source": [
    "### Write your code here\n",
    "def pascal_triangle(n):\n",
    "    a=[]\n",
    "    for i in range(n):\n",
    "        a.append([])\n",
    "        a[i].append(1)\n",
    "        for j in range(1,i):\n",
    "            a[i].append(a[i-1][j-1]+a[i-1][j])\n",
    "        if(n!=0):\n",
    "            a[i].append(1)\n",
    "    for i in range(n):\n",
    "        print(\"   \"*(n-i),end=\" \",sep=\" \")\n",
    "        for j in range(0,i+1):\n",
    "            print('{0:6}'.format(a[i][j]),end=\" \",sep=\" \")\n",
    "        print()\n",
    "    \n",
    "n=int(input(\"Enter the number of rows: \"))\n",
    "pascal_triangle(n)\n",
    "    "
   ]
  },
  {
   "cell_type": "markdown",
   "metadata": {
    "colab_type": "text",
    "id": "in3pF1jeiOyV"
   },
   "source": []
  }
 ],
 "metadata": {
  "colab": {
   "authorship_tag": "ABX9TyN+jyk/7CTG/FANDGbPXt8d",
   "name": "Assignment 3.ipynb",
   "provenance": []
  },
  "kernelspec": {
   "display_name": "Python 3",
   "language": "python",
   "name": "python3"
  },
  "language_info": {
   "codemirror_mode": {
    "name": "ipython",
    "version": 3
   },
   "file_extension": ".py",
   "mimetype": "text/x-python",
   "name": "python",
   "nbconvert_exporter": "python",
   "pygments_lexer": "ipython3",
   "version": "3.7.3"
  }
 },
 "nbformat": 4,
 "nbformat_minor": 1
}
