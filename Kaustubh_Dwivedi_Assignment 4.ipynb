{
 "cells": [
  {
   "cell_type": "markdown",
   "metadata": {},
   "source": [
    "# Part A : House Hunting"
   ]
  },
  {
   "cell_type": "code",
   "execution_count": 8,
   "metadata": {
    "scrolled": true
   },
   "outputs": [
    {
     "name": "stdout",
     "output_type": "stream",
     "text": [
      "Enter the number of Test Cases: 2\n",
      "\n",
      "Enter your annual Salary: 120000\n",
      "Enter the percent of your salary to save as decimal: .10\n",
      "Enter the cost: 1000000\n",
      "Number of Months:  182 \n",
      "\n",
      "Enter your annual Salary: 80000\n",
      "Enter the percent of your salary to save as decimal: .15\n",
      "Enter the cost: 500000\n",
      "Number of Months:  105 \n",
      "\n"
     ]
    }
   ],
   "source": [
    "n=int(input(\"Enter the number of Test Cases: \"))\n",
    "print()\n",
    "for i in range(n):\n",
    "    annual_salary=float(input(\"Enter your annual Salary: \"))\n",
    "    portion_saved=float(input(\"Enter the percent of your salary to save as decimal: \"))\n",
    "    total_cost=float(input(\"Enter the cost: \"))\n",
    "    portion_down_payment=.25*total_cost\n",
    "    r=.04\n",
    "    current_savings=0\n",
    "    months=0\n",
    "    while(current_savings<portion_down_payment):\n",
    "        current_savings+=(portion_saved*annual_salary/12)\n",
    "        current_savings+=(r*current_savings/12)\n",
    "        months+=1\n",
    "    print(\"Number of Months: \",months,\"\\n\")\n",
    "    "
   ]
  },
  {
   "cell_type": "markdown",
   "metadata": {},
   "source": [
    "# Part B: Saving, with a raise Background# "
   ]
  },
  {
   "cell_type": "code",
   "execution_count": 1,
   "metadata": {},
   "outputs": [
    {
     "name": "stdout",
     "output_type": "stream",
     "text": [
      "Enter the number of Test Cases: 3\n",
      "\n",
      "Enter your annual Salary: 120000\n",
      "Enter the percent of your salary to save as decimal: .05\n",
      "Enter the cost: 500000\n",
      "Enter the semiannual raise, as a decimal: .03\n",
      "Number of Months:  142 \n",
      "\n",
      "Enter your annual Salary: 80000\n",
      "Enter the percent of your salary to save as decimal: .10\n",
      "Enter the cost: 800000\n",
      "Enter the semiannual raise, as a decimal: .03\n",
      "Number of Months:  158 \n",
      "\n",
      "Enter your annual Salary: 75000\n",
      "Enter the percent of your salary to save as decimal: .05\n",
      "Enter the cost: 1500000\n",
      "Enter the semiannual raise, as a decimal: .05\n",
      "Number of Months:  260 \n",
      "\n"
     ]
    }
   ],
   "source": [
    "n=int(input(\"Enter the number of Test Cases: \"))\n",
    "print()\n",
    "for i in range(n):\n",
    "    annual_salary=float(input(\"Enter your annual Salary: \"))\n",
    "    portion_saved=float(input(\"Enter the percent of your salary to save as decimal: \"))\n",
    "    total_cost=float(input(\"Enter the cost: \"))\n",
    "    semi_annual_raise=float(input(\"Enter the semiannual raise, as a decimal: \"))\n",
    "    portion_down_payment=.25*total_cost\n",
    "    r=.04\n",
    "    current_savings=0\n",
    "    months=0\n",
    "    while(current_savings<portion_down_payment):\n",
    "        current_savings+=(portion_saved*annual_salary/12)\n",
    "        current_savings+=(r*current_savings/12)\n",
    "        months+=1\n",
    "        if months%6==0:\n",
    "            annual_salary+=(annual_salary*semi_annual_raise)\n",
    "    print(\"Number of Months: \",months,\"\\n\")"
   ]
  },
  {
   "cell_type": "markdown",
   "metadata": {},
   "source": [
    "# Part C: Finding the right amount to save away "
   ]
  },
  {
   "cell_type": "code",
   "execution_count": 1,
   "metadata": {},
   "outputs": [
    {
     "name": "stdout",
     "output_type": "stream",
     "text": [
      "Enter your annual Salary: 150000\n",
      "Best saving rate: 0.4453\n",
      "Steps in Bisection Search: 7\n"
     ]
    }
   ],
   "source": [
    "import math\n",
    "semi_annual_raise=.07\n",
    "current_savings=0.0\n",
    "total_cost=1000000\n",
    "down_payment=.25*total_cost\n",
    "r=.04\n",
    "time_months=36\n",
    "annual_salary=float(input(\"Enter your annual Salary: \"))\n",
    "\n",
    "\n",
    "starting_annual_salary=annual_salary\n",
    "\n",
    "lwr=0\n",
    "upr=10000\n",
    "ps=0\n",
    "no_steps_search=0\n",
    "portion_saved_prev=9999999\n",
    "portion_saved=0.0\n",
    "\n",
    "\n",
    "while abs(current_savings-down_payment)>100:\n",
    "    portion_saved_prev=portion_saved\n",
    "    no_steps_search+=1\n",
    "    if down_payment>current_savings:\n",
    "        lwr=ps\n",
    "    else:\n",
    "        upr=ps\n",
    "    ps=int((lwr+upr)/2)\n",
    "    portion_saved=ps/10000\n",
    "    if portion_saved==portion_saved_prev:\n",
    "        print(\"It is not possible to pay the down payment in three years.\")\n",
    "        break\n",
    "    current_savings=0.0\n",
    "    annual_salary=starting_annual_salary\n",
    "    for i in range(time_months):\n",
    "        current_savings*=(1+r/12)\n",
    "        current_savings+=annual_salary/12*portion_saved\n",
    "        if i%6==0 and not i==0:\n",
    "            annual_salary*=(1+semi_annual_raise)\n",
    "\n",
    "print(\"Best saving rate: \"+str(ps/10000))            \n",
    "print(\"Steps in Bisection Search: \"+str(no_steps_search))\n",
    "        \n",
    "    \n"
   ]
  }
 ],
 "metadata": {
  "kernelspec": {
   "display_name": "Python 3",
   "language": "python",
   "name": "python3"
  },
  "language_info": {
   "codemirror_mode": {
    "name": "ipython",
    "version": 3
   },
   "file_extension": ".py",
   "mimetype": "text/x-python",
   "name": "python",
   "nbconvert_exporter": "python",
   "pygments_lexer": "ipython3",
   "version": "3.7.3"
  }
 },
 "nbformat": 4,
 "nbformat_minor": 2
}
