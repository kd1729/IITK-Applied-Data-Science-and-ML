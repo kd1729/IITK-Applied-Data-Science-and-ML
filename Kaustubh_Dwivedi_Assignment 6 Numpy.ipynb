{
 "cells": [
  {
   "cell_type": "markdown",
   "metadata": {
    "colab_type": "text",
    "id": "HsRDJwKinu3x"
   },
   "source": [
    "## Instructions :\n",
    "- Only Edit  *YOUR CODE HERE*\n",
    "- Do not change the assert statements which test your functions"
   ]
  },
  {
   "cell_type": "code",
   "execution_count": 0,
   "metadata": {
    "colab": {},
    "colab_type": "code",
    "id": "CHma-WJdoxxu"
   },
   "outputs": [],
   "source": [
    "import numpy as np"
   ]
  },
  {
   "cell_type": "markdown",
   "metadata": {
    "colab_type": "text",
    "id": "PSXwKkAylkrs"
   },
   "source": [
    "###Q. Windows and Strides\n",
    "Given a 1d array, and parameters window_len and stride_len, do the following:\n",
    "- Divide the 1d array into smaller arrays of size window_len starting at index 0\n",
    "- move the starting index by step size stride_len each time\n",
    "- Return all windows as a 2d matrix\n",
    "\n",
    "Eg.,\n",
    "Input: <br>\n",
    "arr = [1, 3, 7, 1, 2, 6, 0, 1]  <br>\n",
    "stride_len = 2 , window_len = 4\n",
    "\n",
    "- First window (starting at index 0) should be of len window_len (4) --> [1, 3, 7, 1] <br>\n",
    "- Move by step size stride_len(2) and take next window --> [7, 1, 2, 6] <br>\n",
    "and so on..\n",
    "\n",
    "Output matrix <br>\n",
    "[[1, 3, 7, 1], <br>\n",
    " [7, 1, 2, 6], <br>\n",
    " [2, 6, 0, 1]]\n"
   ]
  },
  {
   "cell_type": "code",
   "execution_count": 0,
   "metadata": {
    "colab": {},
    "colab_type": "code",
    "deletable": false,
    "id": "gAz1pJeN5nQF",
    "nbgrader": {
     "checksum": "9426bef4f8f5bd53f43f7e4945590959",
     "grade": false,
     "grade_id": "cell-01751c442d3d9ac2",
     "locked": false,
     "schema_version": 1,
     "solution": true
    }
   },
   "outputs": [],
   "source": [
    "def gen_strides(a, stride_len, window_len):\n",
    "    '''\n",
    "    Input:\n",
    "      a: Numpy array of 1 dimension\n",
    "      stride_len: int, stride length\n",
    "      window_len : int, window length\n",
    "    \n",
    "    Output:\n",
    "      Numpy array of 2 dimensions containing windowed strides as explained above\n",
    "    '''\n",
    "    # YOUR CODE HERE\n",
    "    nrows = ((a.size-window_len)//stride_len)+1 \n",
    "    new = np.array([]) \n",
    "    for i in range (0,len(a), stride_len):\n",
    "        if (len(a[i:])>=window_len):\n",
    "            new = np.append(new, a[i:i+window_len]) \n",
    "    new = new.reshape((nrows, window_len)) \n",
    "    return (new)\n",
    "  "
   ]
  },
  {
   "cell_type": "code",
   "execution_count": 4,
   "metadata": {
    "colab": {
     "base_uri": "https://localhost:8080/",
     "height": 34
    },
    "colab_type": "code",
    "deletable": false,
    "editable": false,
    "id": "RXj1uyDp5nQI",
    "nbgrader": {
     "checksum": "95ab5b8d2d18c570906b177a411a3062",
     "grade": true,
     "grade_id": "cell-096efc2d6c969658",
     "locked": true,
     "points": 2,
     "schema_version": 1,
     "solution": false
    },
    "outputId": "765d38c6-09e1-4bf6-819d-e345243d0aa7"
   },
   "outputs": [
    {
     "name": "stdout",
     "output_type": "stream",
     "text": [
      "Sample Tests passed 👍\n"
     ]
    }
   ],
   "source": [
    "\"\"\"Test for strides\"\"\"\n",
    "assert(np.all(gen_strides(np.array([1, 3, 7, 1, 2, 6, 0, 1]),2,4) == [[1, 3, 7, 1], [7, 1, 2, 6], [2, 6, 0, 1]]))\n",
    "\n",
    "print(\"Sample Tests passed\", '\\U0001F44D')"
   ]
  },
  {
   "cell_type": "markdown",
   "metadata": {
    "colab_type": "text",
    "id": "XmhaDkrQpDpi"
   },
   "source": [
    "###Q. Shuffle\n",
    "Given a numpy array of arbitrary dimensions (> 1), shuffle its rows randomly. <br>\n",
    "Hint - You need to shuffle along axis 0"
   ]
  },
  {
   "cell_type": "code",
   "execution_count": 0,
   "metadata": {
    "colab": {},
    "colab_type": "code",
    "deletable": false,
    "id": "TgO3UbbK5nQK",
    "nbgrader": {
     "checksum": "b5f7b4eea17c657e64751e7e06978da9",
     "grade": true,
     "grade_id": "cell-9d0cd8b9d15e98b5",
     "locked": false,
     "points": 0,
     "schema_version": 1,
     "solution": true
    }
   },
   "outputs": [],
   "source": [
    "def shuf(arr):\n",
    "  '''\n",
    "  Input: \n",
    "    arr: Numpy array of arbitrary number of dimensions (>1)\n",
    "  Output:\n",
    "    numpy array of same shape as arr but with rows shuffled\n",
    "  '''\n",
    "  # YOUR CODE HERE\n",
    "  np.random.shuffle(arr)\n",
    "  return arr"
   ]
  },
  {
   "cell_type": "code",
   "execution_count": 6,
   "metadata": {
    "colab": {
     "base_uri": "https://localhost:8080/",
     "height": 34
    },
    "colab_type": "code",
    "deletable": false,
    "editable": false,
    "id": "YSlrfD7E5nQQ",
    "nbgrader": {
     "checksum": "5f0e24f523db479ed2ba0fd49345dc60",
     "grade": true,
     "grade_id": "cell-9c47b636484fca56",
     "locked": true,
     "points": 2,
     "schema_version": 1,
     "solution": false
    },
    "outputId": "1cd32673-3fa3-461c-cc30-b50854af208a"
   },
   "outputs": [
    {
     "name": "stdout",
     "output_type": "stream",
     "text": [
      "Sample Tests passed 👍\n"
     ]
    }
   ],
   "source": [
    "\"\"\"Test for shuf\"\"\"\n",
    "assert np.any(shuf(np.array([[1, 2, 3],[4, 5, 6],[7, 8, 9]])) != np.array([[1, 2, 3], [4, 5, 6], [7, 8, 9]]))\n",
    "assert shuf(np.array([[1, 2, 3],[4, 5, 6],[7, 8, 9]])).shape == np.array([[1, 2, 3], [4, 5, 6], [7, 8, 9]]).shape\n",
    "\n",
    "print(\"Sample Tests passed\", '\\U0001F44D')"
   ]
  },
  {
   "cell_type": "markdown",
   "metadata": {
    "colab_type": "text",
    "id": "mwvTEwujsDHd"
   },
   "source": [
    "###Q. Match\n",
    "    Get the positions where corresponding elements (same indices) of array a and array b match <br>\n",
    "    \n",
    "    Eg. Input <br>\n",
    "    a = np.array([1,2,3,2,3,4,3,4,5,6]) <br>\n",
    "    b = np.array([7,2,10,2,7,4,9,4,9,8]) <br>\n",
    "    \n",
    "    Desired Output:\n",
    "\n",
    "    [1, 3, 5, 7])"
   ]
  },
  {
   "cell_type": "code",
   "execution_count": 0,
   "metadata": {
    "colab": {},
    "colab_type": "code",
    "deletable": false,
    "id": "3NqQgNDR5nQS",
    "nbgrader": {
     "checksum": "045d5330212f041b3ab199be6bf170b6",
     "grade": false,
     "grade_id": "cell-b0d486da07272b4e",
     "locked": false,
     "schema_version": 1,
     "solution": true
    }
   },
   "outputs": [],
   "source": [
    "def match(a,b):\n",
    "    '''\n",
    "    Inputs:\n",
    "      a, b: numpy arrays of same shape of 1 dimension\n",
    "    Outputs:\n",
    "      list containing indices where both arrays have same elements\n",
    "    '''\n",
    "    # YOUR CODE HERE\n",
    "    lst=list()\n",
    "    for i in range(min(len(a),len(b))):\n",
    "        if a[i]==b[i]:\n",
    "          lst.append(i)\n",
    "    return lst"
   ]
  },
  {
   "cell_type": "code",
   "execution_count": 8,
   "metadata": {
    "colab": {
     "base_uri": "https://localhost:8080/",
     "height": 34
    },
    "colab_type": "code",
    "deletable": false,
    "editable": false,
    "id": "JWGJTyGf5nQW",
    "nbgrader": {
     "checksum": "c75a8d49395100617a7d2a8048bdc239",
     "grade": true,
     "grade_id": "cell-cfe91a664ba7f193",
     "locked": true,
     "points": 2,
     "schema_version": 1,
     "solution": false
    },
    "outputId": "fa1c7837-462b-4f6d-a5b3-58a412313d9f"
   },
   "outputs": [
    {
     "name": "stdout",
     "output_type": "stream",
     "text": [
      "Sample Tests passed 👍\n"
     ]
    }
   ],
   "source": [
    "\"\"\"Test for match\"\"\"\n",
    "assert(match(np.array([1,2,3,2,3,4,3,4,5,6]),np.array([7,2,10,2,7,4,9,4,9,8])) == [1,3,5,7])\n",
    "print(\"Sample Tests passed\", '\\U0001F44D')"
   ]
  },
  {
   "cell_type": "markdown",
   "metadata": {
    "colab_type": "text",
    "id": "ETlR4TI9l4r6"
   },
   "source": [
    "#Q. Inverse of Array"
   ]
  },
  {
   "cell_type": "code",
   "execution_count": 0,
   "metadata": {
    "colab": {},
    "colab_type": "code",
    "deletable": false,
    "id": "UhhGEbI15nQx",
    "nbgrader": {
     "checksum": "f542c63a494fe01d05fb12a86e29dbac",
     "grade": true,
     "grade_id": "cell-454bd2de95987a3f",
     "locked": false,
     "points": 0,
     "schema_version": 1,
     "solution": true
    }
   },
   "outputs": [],
   "source": [
    "def inv(arr):\n",
    "    \"\"\"\n",
    "    Given an array arr (square matrix), find its inverse\n",
    "    \"\"\"\n",
    "    # YOUR CODE HERE\n",
    "    return np.linalg.inv(arr)\n",
    "\n"
   ]
  },
  {
   "cell_type": "code",
   "execution_count": 10,
   "metadata": {
    "colab": {
     "base_uri": "https://localhost:8080/",
     "height": 34
    },
    "colab_type": "code",
    "deletable": false,
    "editable": false,
    "id": "vOt8dW3l5nQ3",
    "nbgrader": {
     "checksum": "5d2ebce2beeebdf8535b53a4dd1f44fc",
     "grade": true,
     "grade_id": "cell-43abef740a3b78fb",
     "locked": true,
     "points": 2,
     "schema_version": 1,
     "solution": false
    },
    "outputId": "7a3f4e8f-09aa-4df4-81e8-71972f27a49b"
   },
   "outputs": [
    {
     "name": "stdout",
     "output_type": "stream",
     "text": [
      "Sample Tests passed 👍\n"
     ]
    }
   ],
   "source": [
    "\"\"\"Test for inv\"\"\"\n",
    "assert np.all(np.isclose(inv(np.array([[6, 1, 1], [4, -2, 5], [2, 8, 7]])).tolist(), np.array([[0.17647058823529413, -0.0032679738562091526, -0.02287581699346405],[0.05882352941176469, -0.130718954248366, 0.0849673202614379],[-0.1176470588235294, 0.1503267973856209, 0.0522875816993464]])))\n",
    "\n",
    "print(\"Sample Tests passed\", '\\U0001F44D')\n"
   ]
  },
  {
   "cell_type": "markdown",
   "metadata": {
    "colab_type": "text",
    "id": "3sfu1xPogap1"
   },
   "source": [
    "#Q. System of linear equations"
   ]
  },
  {
   "cell_type": "code",
   "execution_count": 0,
   "metadata": {
    "colab": {},
    "colab_type": "code",
    "deletable": false,
    "id": "DYfcCTvc5nQf",
    "nbgrader": {
     "checksum": "9eefbe651b04664fcb347f58234b20c3",
     "grade": false,
     "grade_id": "cell-202ca6eaf85ae4c3",
     "locked": false,
     "schema_version": 1,
     "solution": true
    }
   },
   "outputs": [],
   "source": [
    "def lin_eqn(a,b):\n",
    "    '''\n",
    "    Solve the system of linear equations\n",
    "    of the form ax = b\n",
    "    \n",
    "    Eg. \n",
    "    \n",
    "    Solve the system of linear equation\n",
    "    \n",
    "    x + 2*y = 8\n",
    "    3*x + 4*y = 18\n",
    "    \n",
    "    Given inputs a and b represent coefficients and constant of linear equation respectively\n",
    "    \n",
    "    coefficients: \n",
    "    a = np.array([[1, 2], [3, 4]]) \n",
    "    \n",
    "    constants: \n",
    "    b = np.array([8, 18])\n",
    "    \n",
    "    Desired Output: [2,3]\n",
    "    \n",
    "\n",
    "    '''\n",
    "    # YOUR CODE HERE\n",
    "    return np.linalg.solve(a,b)"
   ]
  },
  {
   "cell_type": "code",
   "execution_count": 12,
   "metadata": {
    "colab": {
     "base_uri": "https://localhost:8080/",
     "height": 34
    },
    "colab_type": "code",
    "deletable": false,
    "editable": false,
    "id": "vxGs6DOs5nQl",
    "nbgrader": {
     "checksum": "f557fdc232cb21fd70f21f2cf43e207b",
     "grade": true,
     "grade_id": "cell-648f81e951895cdb",
     "locked": true,
     "points": 2,
     "schema_version": 1,
     "solution": false
    },
    "outputId": "37c395bd-3e97-46fc-886b-489cbfb3e03d"
   },
   "outputs": [
    {
     "name": "stdout",
     "output_type": "stream",
     "text": [
      "Sample Tests passed 👍\n"
     ]
    }
   ],
   "source": [
    "\"\"\"Test for lin_eqn\"\"\"\n",
    "assert np.all(np.isclose(lin_eqn(np.array([[1, 2], [3, 4]]),np.array([8, 18])).tolist(), np.array([2.0000000000000004, 2.9999999999999996]), atol = 1e-5))\n",
    "\n",
    "print(\"Sample Tests passed\", '\\U0001F44D')\n"
   ]
  },
  {
   "cell_type": "markdown",
   "metadata": {
    "colab_type": "text",
    "id": "u1eXcBtYntr7"
   },
   "source": [
    "###Q. Rank Array\n",
    "Rank the items in a multidimensional array 'arr'. <br>\n",
    "The rank of an item is its index in the sorted list of all items in 'arr' (starting from 0). <br>\n",
    "          Eg., consider arr = [0, 6, 14, 12, 11] <br>\n",
    "                  arr_sorted = [0, 6, 11, 12, 14] <br>\n",
    "                  So rank of 0 -> 0; 6->1; 11->2, 12->3, 14->4 <br>\n",
    "                  rankArray returns a list where each element is replaced by its rank <br>\n",
    "                  rankArray(arr) -> [0, 1, 4, 3, 2] <br>\n",
    "                  \n",
    "==========================================    \\\\\n",
    "Another example, <br>\n",
    "Eg: \n",
    "\n",
    "arr = [[ 9  4 15  0 17], [16 17  8  9  0]] ... (2X5 array) <br>\n",
    "\n",
    "Desired output: <br>\n",
    "[[4 2 6 0 8], [7 9 3 5 1]] ... (2X5 array) <br>\n",
    "\n",
    "\n",
    "Here minimum value in arr is 0 at (0,3), so rank the index of 0 in output matrix as 0 <br>\n",
    "i.e. out[0][3] = 0 <br>\n",
    "Next minimum is also 0 at index (1,4), so rank the index (1,4) in output matrix as 1 and so on...\n",
    "\n",
    "============================================= \\\\\n",
    "Assume that all elements will be distinct."
   ]
  },
  {
   "cell_type": "code",
   "execution_count": 0,
   "metadata": {
    "colab": {},
    "colab_type": "code",
    "deletable": false,
    "id": "7d7UQMG8ntr8",
    "nbgrader": {
     "checksum": "41c5b0e7f36d52c22ef162f54c5c5632",
     "grade": false,
     "grade_id": "cell-642dc0e15679ce42",
     "locked": false,
     "schema_version": 1,
     "solution": true
    }
   },
   "outputs": [],
   "source": [
    "import numpy as np\n",
    "\n",
    "def rankArray(arr):\n",
    "    '''\n",
    "    Input:\n",
    "        arr: Numpy array of arbitrary dimensions \n",
    "    Output:\n",
    "        numpy array of same shape as arr but with elements replaced by their ranks\n",
    "    '''\n",
    "    # YOUR CODE HERE\n",
    "    lst=list()\n",
    "    for i in range(arr.shape[0]):\n",
    "        for j in range(arr.shape[1]):\n",
    "            lst.append(arr[i][j])\n",
    "\n",
    "    lst.sort()\n",
    "    rank_arr=np.zeros((arr.shape[0],arr.shape[1]))\n",
    "    print(lst) \n",
    "    \n",
    "    for i in range(arr.shape[0]):\n",
    "        for j in range(arr.shape[1]):\n",
    "            rank_arr[i][j]=lst.index(arr[i][j])\n",
    "            if i==1 and arr[1][j] in arr[0]:\n",
    "                rank_arr[i][j]+=1\n",
    "            \n",
    "    \n",
    "    return rank_arr"
   ]
  },
  {
   "cell_type": "code",
   "execution_count": 14,
   "metadata": {
    "colab": {
     "base_uri": "https://localhost:8080/",
     "height": 50
    },
    "colab_type": "code",
    "deletable": false,
    "editable": false,
    "id": "Cx889HTtntr-",
    "nbgrader": {
     "checksum": "082070df4444481df880ee73446fa0a4",
     "grade": true,
     "grade_id": "cell-ab95f609e0073276",
     "locked": true,
     "points": 2,
     "schema_version": 1,
     "solution": false
    },
    "outputId": "5c6197ca-c23e-49a3-d8e7-282f436d5a9a"
   },
   "outputs": [
    {
     "name": "stdout",
     "output_type": "stream",
     "text": [
      "[0, 0, 4, 8, 9, 9, 15, 16, 17, 17]\n",
      "Sample Tests passed 👍\n"
     ]
    }
   ],
   "source": [
    "\"\"\"Test for rankArray\"\"\"\n",
    "assert(np.all(rankArray(np.array([[9, 4, 15, 0, 17], [16,17,8,9,0]])) == np.array([[4,2, 6, 0, 8], [7, 9, 3, 5, 1]]).tolist()))\n",
    "print(\"Sample Tests passed\", '\\U0001F44D')"
   ]
  }
 ],
 "metadata": {
  "colab": {
   "collapsed_sections": [],
   "name": "Assignment 6 - Numpy.ipynb",
   "provenance": []
  },
  "kernelspec": {
   "display_name": "Python 3",
   "language": "python",
   "name": "python3"
  },
  "language_info": {
   "codemirror_mode": {
    "name": "ipython",
    "version": 3
   },
   "file_extension": ".py",
   "mimetype": "text/x-python",
   "name": "python",
   "nbconvert_exporter": "python",
   "pygments_lexer": "ipython3",
   "version": "3.7.3"
  }
 },
 "nbformat": 4,
 "nbformat_minor": 1
}
