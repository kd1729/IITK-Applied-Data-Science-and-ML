{
 "cells": [
  {
   "cell_type": "markdown",
   "metadata": {
    "colab_type": "text",
    "id": "2YLk3Gv4MATN"
   },
   "source": [
    "#Drill #20\n",
    "<img src=\"https://drive.google.com/uc?id=1jFZCf2fOhvOfAPmNW0mMhcCw-vs8Ukfq\" width=\"400\">\n",
    "\n",
    "####Expected Output:\n",
    "<img src=\"https://drive.google.com/uc?id=193u64JKk7kGDiYO07lZeY4_na5loaQDg\" width=\"250\">"
   ]
  },
  {
   "cell_type": "code",
   "execution_count": 1,
   "metadata": {
    "colab": {},
    "colab_type": "code",
    "id": "u5oZF_PtPrV1"
   },
   "outputs": [
    {
     "name": "stdout",
     "output_type": "stream",
     "text": [
      "Too many cats! The world is doomed.\n",
      "The world is dryl\n",
      "People are greater than equal to dogs.\n",
      "People are less than equal to dogs.\n",
      "People are equal to dogs.\n"
     ]
    }
   ],
   "source": [
    "### Write your code here\n",
    "people = 20 \n",
    "cats = 30\n",
    "dogs = 15\n",
    "\n",
    "if(people < cats):\n",
    "    print(\"Too many cats! The world is doomed.\")\n",
    "\n",
    "if (people > cats):\n",
    "    print(\"Not many cats! The world is saved.\")\n",
    "\n",
    "if(people < dogs):\n",
    "    print(\"The world is drooled on!\")\n",
    "\n",
    "if(people > dogs):\n",
    "    print(\"The world is dryl\")\n",
    "\n",
    "dogs += 5\n",
    "\n",
    "if(people >= dogs):\n",
    "    print(\"People are greater than equal to dogs.\")\n",
    "\n",
    "if(people <= dogs):\n",
    "    print(\"People are less than equal to dogs.\")\n",
    "\n",
    "if(people == dogs):\n",
    "    print(\"People are equal to dogs.\")\n"
   ]
  },
  {
   "cell_type": "markdown",
   "metadata": {
    "colab_type": "text",
    "id": "o5Aik8a3OBO0"
   },
   "source": [
    "# Drill #21\n",
    "<img src=\"https://drive.google.com/uc?id=1W7Es2eYu7P2ge50Phx4ufCeQouQz51oZ\" width=\"400\">\n",
    "\n",
    "#### Expected Output\n",
    "<img src=\"https://drive.google.com/uc?id=1VqcfhTIPgR9OvGOEyng65Mpc6OVJhUMs\" width=\"250\">"
   ]
  },
  {
   "cell_type": "code",
   "execution_count": 4,
   "metadata": {
    "colab": {},
    "colab_type": "code",
    "id": "an9WWw4nL2lk"
   },
   "outputs": [
    {
     "name": "stdout",
     "output_type": "stream",
     "text": [
      "We should take the cars\n",
      "Maybe we could take the trucks.\n",
      "Alright, let's just take the trucks. \n"
     ]
    }
   ],
   "source": [
    "### Write your code here\n",
    "people = 30 \n",
    "cars = 40 \n",
    "trucks = 15\n",
    "\n",
    "if(cars > people):\n",
    "    print(\"We should take the cars\") \n",
    "elif(cars < people):\n",
    "    print(\"We should not take the cars\") \n",
    "else:\n",
    "    print(\"We can't decide\")\n",
    "\n",
    "if(trucks > cars):\n",
    "    print(\"There's too many trucks.\") \n",
    "elif(trucks < cars):\n",
    "    print(\"Maybe we could take the trucks.\") \n",
    "else:\n",
    "    print(\"We still can't decide.\")\n",
    "    \n",
    "if(people>trucks):\n",
    "    print(\"Alright, let's just take the trucks. \") \n",
    "else:\n",
    "    print(\"Fine, let's stay home then.\")\n"
   ]
  },
  {
   "cell_type": "markdown",
   "metadata": {
    "colab_type": "text",
    "id": "iZ76UVzQPt-s"
   },
   "source": [
    "# Drill #22\n",
    "<img src=\"https://drive.google.com/uc?id=1cU17eW9p4Y4653A-Fb2ZnPIdo9kZHRHx\" width=\"400\"> <br>\n",
    "<img src=\"https://drive.google.com/uc?id=1nIW0lrApKQORj7L28hnnkFM3rpPHZRkq\" width=\"400\">\n",
    "#### Expected Output\n",
    "<img src=\"https://drive.google.com/uc?id=1mhrc2muk2WCTqqMIgwbsEfUYEbScLNL4\"\n",
    "width=\"250\">"
   ]
  },
  {
   "cell_type": "code",
   "execution_count": 9,
   "metadata": {
    "colab": {},
    "colab_type": "code",
    "id": "jABRfu_bM4s9"
   },
   "outputs": [
    {
     "name": "stdout",
     "output_type": "stream",
     "text": [
      " \n",
      "You enter a dark room with two doors.\n",
      "Do you go through door #1 or door #2?\n",
      "\n",
      ">1\n",
      "There's a giant bear here eating a cheese cake.\n",
      "What do you do?\n",
      "1. Take the Cake\n",
      "2. Scream at the bear\n",
      " 2\n",
      "The bear eats your legs off. Good job!\n"
     ]
    }
   ],
   "source": [
    "#### Write your code here\n",
    "print(\"\"\" \n",
    "You enter a dark room with two doors.\n",
    "Do you go through door #1 or door #2?\n",
    "\"\"\")\n",
    "\n",
    "door = input(\">\")\n",
    "\n",
    "if(door == \"1\"):\n",
    "    print(\"There's a giant bear here eating a cheese cake.\") \n",
    "    print(\"What do you do?\") \n",
    "    print(\"1. Take the Cake\") \n",
    "    print(\"2. Scream at the bear\")\n",
    "\n",
    "    bear = input(\" \")\n",
    "\n",
    "    if(bear == \"1\"):\n",
    "        print(\"The bear eats your face off. Good\")\n",
    "    elif(bear == \"2\"):\n",
    "        print(\"The bear eats your legs off. Good job!\")\n",
    "    else:\n",
    "        print(f\"Well, doing {bear} is probably better.\") \n",
    "        print(\"Bear runs away.\") \n",
    "          \n",
    "elif(door == \"2\"):\n",
    "    print(\"You stare into the endless abyss at Cthulhu's retiring spot.You are presented with the following options. What do you choose?\") \n",
    "    print(\"1. Blueberries\") \n",
    "    print(\"2. Yellow jacket clothespins\") \n",
    "    print(\"3. Green jaggery marshmallows\")\n",
    "\n",
    "    insanity = input (\">\") \n",
    "    if(insanity == \"1\" or insanity == \"2\"):\n",
    "        print(\"Your body survives powered by a mind of jello\") \n",
    "        print(\"Good job!\")\n",
    "    else:\n",
    "        print(\"The insanity rots your eyes into a pool of mud\") \n",
    "        print(\"Good job!\")\n",
    "\n",
    "else:\n",
    "    print(\"You stumble around and fall on a knife and die. Good job!\")\n"
   ]
  },
  {
   "cell_type": "markdown",
   "metadata": {
    "colab_type": "text",
    "id": "_twCf-rpU4Bp"
   },
   "source": [
    "#### 22.1 \n",
    "Make new parts of game and change what decisions people can make."
   ]
  },
  {
   "cell_type": "code",
   "execution_count": 2,
   "metadata": {
    "colab": {},
    "colab_type": "code",
    "id": "C2tiPAbQSE66"
   },
   "outputs": [
    {
     "name": "stdout",
     "output_type": "stream",
     "text": [
      " \n",
      "You enter a dark room with two doors.\n",
      "Do you go through door #1 or door #2 or door #3?\n",
      "\n",
      ">3\n",
      "You have found a time machine with gates on 4 sides. You have to choose a gate.\n",
      "Which gate do you choose? Choose among 1-4\n",
      "3\n",
      "You have travelled in future in the world governed by Robots and Machines.\n"
     ]
    }
   ],
   "source": [
    "#### Write your code here\n",
    "#### Write your code here\n",
    "print(\"\"\" \n",
    "You enter a dark room with two doors.\n",
    "Do you go through door #1 or door #2 or door #3?\n",
    "\"\"\")\n",
    "\n",
    "door = input(\">\")\n",
    "\n",
    "if(door == \"1\"):\n",
    "    print(\"There's a giant bear here eating a cheese cake.\") \n",
    "    print(\"What do you do?\") \n",
    "    print(\"1. Take the Cake\") \n",
    "    print(\"2. Scream at the bear\")\n",
    "\n",
    "    bear = input(\" \")\n",
    "\n",
    "    if(bear == \"1\"):\n",
    "        print(\"The bear eats your face off. Good\")\n",
    "    elif(bear == \"2\"):\n",
    "        print(\"The bear eats your legs off. Good job!\")\n",
    "    else:\n",
    "        print(f\"Well, doing {bear} is probably better.\") \n",
    "        print(\"Bear runs away.\") \n",
    "          \n",
    "elif(door == \"2\"):\n",
    "    print(\"You stare into the endless abyss at Cthulhu's retiring spot.\")\n",
    "    print(\"You are presented with the following options. What do you choose?\") \n",
    "    print(\"1. Blueberries\") \n",
    "    print(\"2. Yellow jacket clothespins\") \n",
    "    print(\"3. Green jaggery marshmallows\")\n",
    "\n",
    "    insanity = input (\">\") \n",
    "    if(insanity == \"1\" or insanity == \"2\"):\n",
    "        print(\"Your body survives powered by a mind of jello\") \n",
    "        print(\"Good job!\")\n",
    "    else:\n",
    "        print(\"The insanity rots your eyes into a pool of mud\") \n",
    "        print(\"Good job!\")\n",
    "\n",
    "        \n",
    "elif(door == \"3\"):\n",
    "    print(\"You have found a time machine with gates on 4 sides. You have to choose a gate.\")\n",
    "    print(\"Which gate do you choose? Choose among 1-4\")\n",
    "    \n",
    "    gate=int(input())\n",
    "    \n",
    "    if(gate == 1):\n",
    "        print(\"You have reached in the time of Mughal Emperor where Akbar is the king.\")\n",
    "    elif(gate == 2):\n",
    "        print(\"You have reached in the time of World War 1\")\n",
    "    elif(gate == 3):\n",
    "        print(\"You have travelled in future in the world governed by Robots and Machines.\")\n",
    "    elif(gate == 4):\n",
    "        print(\"You have travelled in future where the world is taken up by the Aliens.\")\n",
    "    else:\n",
    "        print(\"Choose a logical gate!\")\n",
    "        print(\"You don't have much time.....\")\n",
    "        \n",
    "\n",
    "else:\n",
    "    print(\"You stumble around and fall on a knife and die. Good job!\")\n"
   ]
  },
  {
   "cell_type": "code",
   "execution_count": null,
   "metadata": {},
   "outputs": [],
   "source": []
  }
 ],
 "metadata": {
  "colab": {
   "authorship_tag": "ABX9TyOQ3PyJelpL/Wjk1/5SZqXi",
   "name": "programming_drill_5.ipynb",
   "provenance": []
  },
  "kernelspec": {
   "display_name": "Python 3",
   "language": "python",
   "name": "python3"
  },
  "language_info": {
   "codemirror_mode": {
    "name": "ipython",
    "version": 3
   },
   "file_extension": ".py",
   "mimetype": "text/x-python",
   "name": "python",
   "nbconvert_exporter": "python",
   "pygments_lexer": "ipython3",
   "version": "3.7.3"
  }
 },
 "nbformat": 4,
 "nbformat_minor": 1
}
