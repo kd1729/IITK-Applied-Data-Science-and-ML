{
 "cells": [
  {
   "cell_type": "markdown",
   "metadata": {
    "colab_type": "text",
    "id": "mHjEwJl01xE_"
   },
   "source": [
    "### Training a single recurrent neuron"
   ]
  },
  {
   "cell_type": "markdown",
   "metadata": {
    "colab_type": "text",
    "id": "whuS7vSS12MP"
   },
   "source": [
    "We define a recurrent neuron as follows: <br>\n",
    "$y_{t+1} = 0.5y_t + 0.5x_t$"
   ]
  },
  {
   "cell_type": "markdown",
   "metadata": {
    "colab_type": "text",
    "id": "1QZuQZ8Y2MGr"
   },
   "source": [
    "### Generate Data\n",
    "Start with $y_0$ = $0$ <br>\n",
    "Generate a series of random numbers $+1/-1$ with $50/50$ probability. This will constitute our input at each time step ($x_t$)"
   ]
  },
  {
   "cell_type": "code",
   "execution_count": 6,
   "metadata": {
    "colab": {},
    "colab_type": "code",
    "id": "qByezjAEvIks"
   },
   "outputs": [],
   "source": [
    "import numpy as np"
   ]
  },
  {
   "cell_type": "code",
   "execution_count": 7,
   "metadata": {
    "colab": {},
    "colab_type": "code",
    "id": "4KxA7SCO062E"
   },
   "outputs": [],
   "source": [
    "def generate_inputs(n):\n",
    "  \"\"\"\n",
    "  Inputs:\n",
    "    n: int\n",
    "\n",
    "  Outputs: \n",
    "    x_t : list of length n with either +1 or -1 generated randomly with 50/50 probability\n",
    "  \"\"\"\n",
    "  ### Write your code here\n",
    "  x_t = []\n",
    "  for i in range(n):\n",
    "    if(np.random.uniform() > 0.5):\n",
    "      x_t.append(1)\n",
    "    else:\n",
    "      x_t.append(-1)\n",
    "  \n",
    "  return np.array(x_t)"
   ]
  },
  {
   "cell_type": "code",
   "execution_count": 8,
   "metadata": {
    "colab": {},
    "colab_type": "code",
    "id": "_9Jo5tPm7S0G"
   },
   "outputs": [],
   "source": [
    "def generate_outputs(x_t):\n",
    "  \"\"\"\n",
    "  Inputs:\n",
    "    x_t: list of length n with inputs to recurrent neuron\n",
    "\n",
    "  Outputs:\n",
    "    y_t : list of length n+1 with outputs generated using our definition of recurrent neuron \n",
    "  \"\"\"\n",
    "  ### Write your code here\n",
    "  y_t = [0]\n",
    "  for i in range(1, x_t.shape[0] + 1):\n",
    "    y_t.append(0.5*y_t[i-1] + 0.5*x_t[i-1])\n",
    "  return np.array(y_t)"
   ]
  },
  {
   "cell_type": "markdown",
   "metadata": {
    "colab_type": "text",
    "id": "nyDMlVkK7yMR"
   },
   "source": [
    "### Training using BPTT\n",
    "Write the train function that takes $y_t$ and $x_t$, starts with random values of $w$ and $g$ where \n",
    "$$\n",
    "y_{t+1} = wx_{t} + gy_t \\\\\n",
    "$$\n",
    "and trains using BPTT to find values of $w$ and $g$\n",
    "$$\n",
    "\n",
    "Backpropagation of gradients\n",
    "$$\n",
    "dy_{hat_t} = \\frac{\\partial{E}}{\\partial{y_{t+1}}} * \\frac{\\partial{y_{t+1}}}{\\partial{y_t}} \n",
    "$$\n",
    "$$\n",
    "dw = \\frac{\\partial{y_{t+1}}}{\\partial{w}} * \\frac{\\partial{E}}{\\partial{y_{t+1}}} \n",
    "$$"
   ]
  },
  {
   "cell_type": "code",
   "execution_count": 9,
   "metadata": {
    "colab": {},
    "colab_type": "code",
    "id": "37MeIOak80R3"
   },
   "outputs": [],
   "source": [
    "def train_bptt(x_t, y_t, time_steps, epochs, w_his = None, g_his = None):\n",
    "  \"\"\"\n",
    "  Inputs:\n",
    "    x_t: list of length n with inputs to recurrent neuron\n",
    "    y_t: list of length n+1 with outputs\n",
    "    time_steps: int, number of timesteps to roll the rnn and do bptt\n",
    "    epochs: number of epochs to train the rnn for\n",
    "  \n",
    "  Outputs:\n",
    "    w, g: trained parameters of the model\n",
    "  \"\"\"\n",
    "  ### Write your code here\n",
    "  if(w_his == None):\n",
    "    w_his = [np.random.rand(1)*0.01]\n",
    "    g_his = [np.random.rand(1)*0.01] \n",
    "\n",
    "  y = [0]\n",
    "  eta = 0.1\n",
    "\n",
    "  for e in range(epochs):\n",
    "    y = [0]\n",
    "    for i in range(0, x_t.shape[0], time_steps):\n",
    "    \n",
    "      ts = min(x_t.shape[0] - i, time_steps)\n",
    "      w = w_his[-1]\n",
    "      g = g_his[-1]\n",
    "      dy = [0]\n",
    "      dyhat = np.zeros(ts + 1)\n",
    "      dw = 0\n",
    "      dg = 0\n",
    "\n",
    "      ## Forward pass\n",
    "      for t in range(i, i+ts):  ## I had used range(i+ts) earlier, but this works as well\n",
    "        y.append(w*x_t[t] + g*y[t])\n",
    "      \n",
    "\n",
    "      ## Backward pass\n",
    "      for j in range(ts):\n",
    "        ## dy is gradient directly coming from error at a particular timestep\n",
    "        ## E = 1/2(y - yd)^2 , so dy = dE/dy = y - yd\n",
    "        dy.append(y[i+j+1]-y_t[i+j+1])\n",
    "      \n",
    "      for j in range(ts - 1, 0, -1):\n",
    "        ## dyhat is gradient to y_t coming from dy_t+1 \n",
    "        dyhat[j] = g*(dyhat[j+1] + dy[j+1])\n",
    "        dw += x_t[i+j]*(dyhat[j+1] + dy[j+1])\n",
    "        dg += y[i+j]*(dyhat[j+1] + dy[j+1]) \n",
    "      \n",
    "      w_his.append(w - eta*dw)\n",
    "      g_his.append(g - eta*dg)\n",
    "  \n",
    "  return w_his, g_his\n",
    "  "
   ]
  },
  {
   "cell_type": "code",
   "execution_count": 10,
   "metadata": {
    "colab": {},
    "colab_type": "code",
    "id": "xGrwYEWXxLyU"
   },
   "outputs": [],
   "source": [
    "x_t = generate_inputs(100)\n",
    "y_t = generate_outputs(x_t)\n",
    "w_his, g_his = train_bptt(x_t, y_t, 5, 100)"
   ]
  },
  {
   "cell_type": "code",
   "execution_count": 13,
   "metadata": {
    "colab": {
     "base_uri": "https://localhost:8080/",
     "height": 283
    },
    "colab_type": "code",
    "executionInfo": {
     "elapsed": 1965,
     "status": "ok",
     "timestamp": 1591192734286,
     "user": {
      "displayName": "Sai Saurab",
      "photoUrl": "",
      "userId": "06528725485567637895"
     },
     "user_tz": -330
    },
    "id": "kwPsxG0BxoK_",
    "outputId": "8bb1a267-9f00-4e23-fb10-c06319622893"
   },
   "outputs": [
    {
     "data": {
      "text/plain": [
       "[<matplotlib.lines.Line2D at 0x1d6cf808d30>]"
      ]
     },
     "execution_count": 13,
     "metadata": {},
     "output_type": "execute_result"
    },
    {
     "data": {
      "image/png": "[encoded data removed]",
      "text/plain": [
       "<Figure size 432x288 with 1 Axes>"
      ]
     },
     "metadata": {
      "needs_background": "light"
     },
     "output_type": "display_data"
    }
   ],
   "source": [
    "import matplotlib.pyplot as plt\n",
    "plt.plot(w_his)"
   ]
  },
  {
   "cell_type": "code",
   "execution_count": 14,
   "metadata": {
    "colab": {
     "base_uri": "https://localhost:8080/",
     "height": 191
    },
    "colab_type": "code",
    "executionInfo": {
     "elapsed": 1370,
     "status": "ok",
     "timestamp": 1591192502569,
     "user": {
      "displayName": "Sai Saurab",
      "photoUrl": "",
      "userId": "06528725485567637895"
     },
     "user_tz": -330
    },
    "id": "-mz2qgb_yJW2",
    "outputId": "b16d4220-4afa-4134-ac49-8ec2c481dfbd"
   },
   "outputs": [
    {
     "data": {
      "text/plain": [
       "[array([0.5]),\n",
       " array([0.5]),\n",
       " array([0.5]),\n",
       " array([0.5]),\n",
       " array([0.5]),\n",
       " array([0.5]),\n",
       " array([0.5]),\n",
       " array([0.5]),\n",
       " array([0.5]),\n",
       " array([0.5])]"
      ]
     },
     "execution_count": 14,
     "metadata": {},
     "output_type": "execute_result"
    }
   ],
   "source": [
    "w_his[-10:]"
   ]
  },
  {
   "cell_type": "code",
   "execution_count": 15,
   "metadata": {
    "colab": {
     "base_uri": "https://localhost:8080/",
     "height": 283
    },
    "colab_type": "code",
    "executionInfo": {
     "elapsed": 1408,
     "status": "ok",
     "timestamp": 1591192503150,
     "user": {
      "displayName": "Sai Saurab",
      "photoUrl": "",
      "userId": "06528725485567637895"
     },
     "user_tz": -330
    },
    "id": "Q61I3HknzCWw",
    "outputId": "28fd1455-87c4-4733-9126-42e5aa257012"
   },
   "outputs": [
    {
     "data": {
      "text/plain": [
       "[<matplotlib.lines.Line2D at 0x1d6cf897898>]"
      ]
     },
     "execution_count": 15,
     "metadata": {},
     "output_type": "execute_result"
    },
    {
     "data": {
      "image/png": "[encoded data removed]",
      "text/plain": [
       "<Figure size 432x288 with 1 Axes>"
      ]
     },
     "metadata": {
      "needs_background": "light"
     },
     "output_type": "display_data"
    }
   ],
   "source": [
    "plt.plot(g_his)"
   ]
  },
  {
   "cell_type": "code",
   "execution_count": 16,
   "metadata": {
    "colab": {
     "base_uri": "https://localhost:8080/",
     "height": 191
    },
    "colab_type": "code",
    "executionInfo": {
     "elapsed": 1016,
     "status": "ok",
     "timestamp": 1591191844578,
     "user": {
      "displayName": "Sai Saurab",
      "photoUrl": "",
      "userId": "06528725485567637895"
     },
     "user_tz": -330
    },
    "id": "eXpkOBIM0HVl",
    "outputId": "f9c1fbc2-4792-404e-9b65-c97bb793b1bc"
   },
   "outputs": [
    {
     "data": {
      "text/plain": [
       "[array([0.5]),\n",
       " array([0.5]),\n",
       " array([0.5]),\n",
       " array([0.5]),\n",
       " array([0.5]),\n",
       " array([0.5]),\n",
       " array([0.5]),\n",
       " array([0.5]),\n",
       " array([0.5]),\n",
       " array([0.5])]"
      ]
     },
     "execution_count": 16,
     "metadata": {},
     "output_type": "execute_result"
    }
   ],
   "source": [
    "g_his[-10:]"
   ]
  }
 ],
 "metadata": {
  "colab": {
   "authorship_tag": "ABX9TyOjIVpNxVYizVKCVRJDtjY5",
   "collapsed_sections": [],
   "name": "Solutions to Assignment 10.ipynb",
   "provenance": [
    {
     "file_id": "1108LEYQqE-2WWcs-Kgeq6kgj5ObcmV4K",
     "timestamp": 1589619970209
    }
   ]
  },
  "kernelspec": {
   "display_name": "Python 3",
   "language": "python",
   "name": "python3"
  },
  "language_info": {
   "codemirror_mode": {
    "name": "ipython",
    "version": 3
   },
   "file_extension": ".py",
   "mimetype": "text/x-python",
   "name": "python",
   "nbconvert_exporter": "python",
   "pygments_lexer": "ipython3",
   "version": "3.7.3"
  }
 },
 "nbformat": 4,
 "nbformat_minor": 1
}
