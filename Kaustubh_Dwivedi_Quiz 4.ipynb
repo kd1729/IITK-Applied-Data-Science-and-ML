{
 "cells": [
  {
   "cell_type": "markdown",
   "metadata": {
    "colab_type": "text",
    "id": "bSbDfGN3jicM"
   },
   "source": [
    "# 1"
   ]
  },
  {
   "cell_type": "markdown",
   "metadata": {
    "colab_type": "text",
    "id": "R5Lhc-jAjoQ8"
   },
   "source": [
    "### Q. Confusion Matrix\n",
    "Write a function that takes two 1-d numpy arrays $y$ and $yd$ as inputs and returns two outputs - confusion matrix as a 2-d numpy array and order of classes in the confusion matrix as a 1-d numpy array. \n",
    "\n",
    "<img src=\"https://drive.google.com/uc?id=1TfOYFOGMH91b_tewl6RzEgYYxaxThYLb\" width = \"400\">\n",
    "\n",
    " <br>\n",
    "For eg., <br>\n",
    "$y$ = ['cat', 'cat', 'dog', 'human', 'human', 'human'] <br>\n",
    "$yd$ = ['cat', 'dog', 'dog', 'dog', 'cat', 'human']\n",
    "\n",
    "\n",
    "```confusion_matrix($y$, $yd$)``` -> ```([[1, 0, 1], [1, 1, 1], [0, 0, 1]], ['cat', 'dog', 'human'])``` <br>\n",
    "\n",
    "In the above example, the order of classes in the confusion matrix is cat, dog, human. (Consider list of unique classes in $yd$ as list of all classes)"
   ]
  },
  {
   "cell_type": "code",
   "execution_count": 1,
   "metadata": {
    "colab": {},
    "colab_type": "code",
    "id": "BVHaw2mpjn_b"
   },
   "outputs": [],
   "source": [
    "def confusion_matrix(y, yd):\n",
    "  \"\"\"\n",
    "  Inputs:\n",
    "    y : 1-d numpy array, model outputs\n",
    "    yd: 1-d numpy array, desired outputs or ground truth\n",
    "  Outputs:\n",
    "    cm: 2-d numpy array of shape (N, N) where N is number of unique classes in yd\n",
    "    classes: 1-d numpy array, unique classes in the order in which they occur in cm\n",
    "  \"\"\"\n",
    "  ### Write your code here\n",
    "    \n",
    "  import numpy as np    \n",
    "  from sklearn.metrics import confusion_matrix\n",
    "  print(confusion_matrix(y,yd).tolist(),np.unique(yd), end=\",\")\n"
   ]
  },
  {
   "cell_type": "markdown",
   "metadata": {
    "colab_type": "text",
    "id": "X9RgacqNk1ma"
   },
   "source": [
    "## 2"
   ]
  },
  {
   "cell_type": "markdown",
   "metadata": {
    "colab_type": "text",
    "id": "8vkKyIfuk4DY"
   },
   "source": [
    "### Q. Max F1 score\n",
    "Write a function that takes a confusion matrix as input and returns index of the class with the maximum f1 score."
   ]
  },
  {
   "cell_type": "code",
   "execution_count": 3,
   "metadata": {
    "colab": {},
    "colab_type": "code",
    "id": "_kvRy5-Ljh_N"
   },
   "outputs": [],
   "source": [
    "def max_f1_score(cm):\n",
    "  \"\"\"\n",
    "  Inputs:\n",
    "    cm : confusion matrix, 2-d numpy array\n",
    "  Outputs:\n",
    "    integer, index of class with max f1 score\n",
    "  \"\"\"\n",
    "  ### Write your code here\n",
    "    \n",
    "  n,n=cm.shape\n",
    "  from sklearn.metrics import f1_score\n",
    "    \n",
    "  max_ = 0\n",
    "  for i in range(n):\n",
    "        if max_<f1_score(cm[i,:], cm[:,i]):\n",
    "            max_=f1_score(cm[i,:], cm[:,i])\n",
    "            \n",
    "  for i in range(n):\n",
    "    if f1_score(cm[i,:], cm[:,i])==max_:\n",
    "        return i\n",
    "    \n",
    "\n",
    "    \n"
   ]
  },
  {
   "cell_type": "markdown",
   "metadata": {
    "colab_type": "text",
    "id": "wKl_xV0nk8s8"
   },
   "source": [
    "## 3"
   ]
  },
  {
   "cell_type": "markdown",
   "metadata": {
    "colab_type": "text",
    "id": "XtUKzpmon4P9"
   },
   "source": [
    "### Q. Most confused class\n",
    "Write a function that takes a confusion matrix as input and returns index of the class that occurs most frequently as the result of a misclassification. <br>\n",
    "For eg., if $a$ is the correct class of a sample but model misclassifies it as $c$ in two cases. <br>\n",
    "And in another case, $b$ is the correct class of a sample but the model misclassifies it as $c$. <br>\n",
    "So in this way $c$ has occurred 3 times as the result of misclassification. <br>\n"
   ]
  },
  {
   "cell_type": "code",
   "execution_count": 4,
   "metadata": {
    "colab": {},
    "colab_type": "code",
    "id": "6MMW0Q8Swhl2"
   },
   "outputs": [],
   "source": [
    "def most_confused_class(cm):\n",
    "  \"\"\"\n",
    "  Inputs:\n",
    "    cm : confusion matrix, 2-d numpy array\n",
    "  Outputs:\n",
    "    integer, index of class which is most confused\n",
    "  \"\"\"\n",
    "  ### Write your code here\n",
    "    \n",
    "  n,n=cm.shape\n",
    "  lst=[]\n",
    "    \n",
    "  for i in range(n):\n",
    "    total=0\n",
    "    for j in range(n):\n",
    "        total+=cm[j][i]\n",
    "    lst.append(total)\n",
    "   \n",
    " \n",
    "  return lst.index(max(lst))\n",
    "\n",
    "\n",
    "  "
   ]
  },
  {
   "cell_type": "markdown",
   "metadata": {
    "colab_type": "text",
    "id": "z4Ymvthkmfpq"
   },
   "source": [
    "## 4"
   ]
  },
  {
   "cell_type": "markdown",
   "metadata": {
    "colab_type": "text",
    "id": "JAQGwMjkk-fp"
   },
   "source": [
    "### Q. MSE\n",
    "Write a function that takes two 1-d numpy arrays ($y$ and $yd$) and returns the mean squared error, defined as \n",
    "$$\n",
    "mse = \\frac{1}{N}\\sum_{i=1}^{N}{(yd_i - y_i)^2}\n",
    "$$ "
   ]
  },
  {
   "cell_type": "code",
   "execution_count": 5,
   "metadata": {
    "colab": {},
    "colab_type": "code",
    "id": "hvu_53FBmgvA"
   },
   "outputs": [],
   "source": [
    "def mse(y, yd):\n",
    "  \"\"\"\n",
    "  Inputs:\n",
    "    y: 1-d Numpy array of floats\n",
    "    yd: 1-d Numpy array of floats\n",
    "  Outputs:\n",
    "    mse: float, mean squared error\n",
    "  \"\"\"\n",
    "  ### Write your code here\n",
    "    \n",
    "  sum_=0\n",
    "  n=len(y)\n",
    "  for i in range(n):\n",
    "    sum_+=((yd[i]-y[i])**2)\n",
    "  mean_squared_error=sum_/n\n",
    "\n",
    "  return mean_squared_error\n",
    "    \n"
   ]
  },
  {
   "cell_type": "markdown",
   "metadata": {
    "colab_type": "text",
    "id": "aFPcPG0anFdj"
   },
   "source": [
    "## 5"
   ]
  },
  {
   "cell_type": "markdown",
   "metadata": {
    "colab_type": "text",
    "id": "HgSaxXjwmuYn"
   },
   "source": [
    "### Q. Fraction of MSE\n",
    "Write a function that takes two 1-d numpy arrays ($y$ and $yd$) and does the following - \n",
    "- It computes the  $\\text{total squared error}$ first. ($\\text{total squared error } = mse*N$) \n",
    "- It computes total squared error of the 20% of samples contributing most toward the $\\text{total squared error}$ which is $\\text{tot_20}$\n",
    "- It returns the fraction $\\frac{\\text{tot_20}}{\\text{total squared error}}$"
   ]
  },
  {
   "cell_type": "code",
   "execution_count": 6,
   "metadata": {
    "colab": {},
    "colab_type": "code",
    "id": "BpMpqBa9m4RM"
   },
   "outputs": [],
   "source": [
    "def fraction_mse_20(y, yd):\n",
    "  \"\"\"\n",
    "  Inputs:\n",
    "    y: 1-d Numpy array of floats\n",
    "    yd: 1-d Numpy array of floats\n",
    "  Outputs:\n",
    "    float, tot_20/total_squared_error\n",
    "  \"\"\"  \n",
    "  ### Write your code here\n",
    "    \n",
    "  total_squard_error=0 \n",
    "  n=len(y)\n",
    "  for i in range(n):\n",
    "    total_squard_error+=((yd[i]-y[i])**2)\n",
    "    \n",
    "  lst=[]\n",
    "  for i in range(n):\n",
    "        lst.append((yd[i]-y[i])**2)\n",
    "  lst.sort(reverse=True)\n",
    "\n",
    "  tot_20=0\n",
    "  for i in range(int(.2*len(lst))):\n",
    "      tot_20+=lst[i]\n",
    "        \n",
    "  return tot_20/total_squard_error\n",
    "    \n",
    "  "
   ]
  }
 ],
 "metadata": {
  "colab": {
   "authorship_tag": "ABX9TyPVKkLdFo5As7z72vPjDM/6",
   "collapsed_sections": [],
   "name": "Quiz 4.ipynb",
   "provenance": []
  },
  "kernelspec": {
   "display_name": "Python 3",
   "language": "python",
   "name": "python3"
  },
  "language_info": {
   "codemirror_mode": {
    "name": "ipython",
    "version": 3
   },
   "file_extension": ".py",
   "mimetype": "text/x-python",
   "name": "python",
   "nbconvert_exporter": "python",
   "pygments_lexer": "ipython3",
   "version": "3.7.3"
  }
 },
 "nbformat": 4,
 "nbformat_minor": 1
}
