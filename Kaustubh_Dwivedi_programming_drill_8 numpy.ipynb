{
 "cells": [
  {
   "cell_type": "markdown",
   "metadata": {
    "colab_type": "text",
    "id": "sSXKsacoHIBG"
   },
   "source": [
    "# Drill #29\n",
    "\n",
    "<img src=\"https://drive.google.com/uc?id=109gQ0yPiTdJ6cBQiL1zyKiH2MD5LKTET\" width=\"700\">\n",
    "\n",
    "# Expected Output\n",
    "<img src=\"https://drive.google.com/uc?id=1BhfG7oMzjDH685GbvW2h8b3bKhqkQeSC\" width=\"700\">\n"
   ]
  },
  {
   "cell_type": "code",
   "execution_count": 1,
   "metadata": {
    "colab": {},
    "colab_type": "code",
    "id": "hdlehAyUCXL4"
   },
   "outputs": [
    {
     "name": "stdout",
     "output_type": "stream",
     "text": [
      "1-D array: [0 1 2 3]\n",
      "array of numbers from 0 to 9: [0 1 2 3 4 5 6 7 8 9]\n",
      "----------------------------------------------------------------------\n",
      "2-D array:\n",
      " [[0 1 2]\n",
      " [3 4 5]]\n",
      "shape of b: (2, 3)\n",
      "----------------------------------------------------------------------\n",
      "array with random samples: [0.48378325 0.65903998 0.36294434 0.8679139 ]\n"
     ]
    }
   ],
   "source": [
    "# Write your own code  here\n",
    "#CREATING ARRAYS\n",
    "\n",
    "import numpy as np\n",
    "# 1-dimensional array \n",
    "a = np.array([0, 1, 2, 3]) \n",
    "print('1-D array:', a) \n",
    "print('array of numbers from 0 to 9:', np.arange(10))\n",
    "\n",
    "print('-'*70)\n",
    "\n",
    "# 2-dimensional array \n",
    "b = np.array([[0, 1, 2], [3, 4, 5]]) \n",
    "print('2-D array:\\n', b) \n",
    "print(\"shape of b:\", b.shape) #finding the shape of 2-d array\n",
    "\n",
    "print('-'*70) \n",
    "\n",
    "# creating array using random\n",
    "c = np.random.rand(4) # random samples from a uniform distribution over (0, 1)\n",
    "\n",
    "print(\"array with random samples:\", c)\n"
   ]
  },
  {
   "cell_type": "markdown",
   "metadata": {
    "colab_type": "text",
    "id": "4F267pLbK3jh"
   },
   "source": [
    "# Drill #30\n",
    "\n",
    "\n",
    "<img src=\"https://drive.google.com/uc?id=1y7J8HlclDc_200W1oYBVtr3l-66B_2hv\" width=\"700\">\n",
    "\n",
    "# Expected Output\n",
    "<img src=\"https://drive.google.com/uc?id=1HPkRafcIsT7vLp8_2rR5blhjblQZJ450\" width=\"600\">"
   ]
  },
  {
   "cell_type": "code",
   "execution_count": 2,
   "metadata": {
    "colab": {},
    "colab_type": "code",
    "id": "zmcSkXYUGK7m"
   },
   "outputs": [
    {
     "name": "stdout",
     "output_type": "stream",
     "text": [
      "5th row in the 2-d array is: [0. 0. 0. 0. 1.]\n",
      "[[  1.   0.   0.   0.   0.]\n",
      " [  0.   1.   0.   0.   0.]\n",
      " [  0.   0.   1.   0. 100.]\n",
      " [  0.   0.   0.   1.   0.]\n",
      " [  0.   0.   0.   0.   1.]]\n",
      "----------------------------------------------------------------------\n",
      "[ 1  3  5  7  9 11 13 15 17]\n",
      "----------------------------------------------------------------------\n",
      "[2 3 4 5]\n",
      "[ 1  4  9 16]\n",
      "----------------------------------------------------------------------\n",
      "[[2. 0. 0. 0.]\n",
      " [0. 4. 0. 0.]\n",
      " [0. 0. 6. 0.]\n",
      " [0. 0. 0. 8.]]\n"
     ]
    }
   ],
   "source": [
    "# Write your own code here\n",
    "#indexing \n",
    "a = np.identity(5) \n",
    "print('5th row in the 2-d array is:', a[4, :]) #indices begin at 0 \n",
    "a[2, 4] = 100; #assigning value in the matrix \n",
    "print(a)\n",
    "\n",
    "print('-'*70)\n",
    "# Slicing \n",
    "b = np.arange(20) \n",
    "print(b[1:18:2]) # [startindex: endindex(exclusive) : step] \n",
    "print('-'*70)\n",
    "\n",
    "# Basic Operations\n",
    "a = np.array([1, 2, 3, 4]) \n",
    "print(a + 1) # This adds 1 to each element in array a \n",
    "print(a**2) # squares each element in array a\n",
    "print('-'*70)\n",
    "\n",
    "# Matrix Multiplication\n",
    "c = np.diag([1, 2, 3, 4]) \n",
    "d = np.ones (4) + 1\n",
    "\n",
    "print(c * d)\n"
   ]
  },
  {
   "cell_type": "markdown",
   "metadata": {
    "colab_type": "text",
    "id": "xtQLxgEOeVES"
   },
   "source": [
    "# Drill #31\n",
    "\n",
    "<img src=\"https://drive.google.com/uc?id=1MEhGhXS_OC1ZisPbEGQonYcoadzvlKZZ\" width=\"700\">\n",
    "<img src=\"https://drive.google.com/uc?id=1R24HyNqLMt8j5u3pABKpGlCDnjgUqrX9\" width=\"1000\">\n",
    "\n",
    "\n",
    "# Expected Output\n",
    "<img src=\"https://drive.google.com/uc?id=1eqiocySYtWeWuD7NV8plOjubjg0waTRC\" width=\"700\">"
   ]
  },
  {
   "cell_type": "code",
   "execution_count": 3,
   "metadata": {
    "colab": {},
    "colab_type": "code",
    "id": "2IO8RVDALpWq"
   },
   "outputs": [
    {
     "name": "stdout",
     "output_type": "stream",
     "text": [
      "[False  True  True False]\n",
      "False\n",
      "----------------------------------------------------------------------\n",
      "[ 0.84147098  0.90929743  0.14112001 -0.7568025 ]\n",
      "[0.         0.69314718 1.09861229 1.38629436]\n",
      "----------------------------------------------------------------------\n",
      "10\n",
      "[5 7 9]\n",
      "[ 6 15]\n",
      "----------------------------------------------------------------------\n",
      "min value:  1\n",
      "max value: 4\n",
      "min value index: 0\n",
      "max value index: 3\n",
      "mean of x: 3.7\n",
      "median of x: 3.0\n",
      "standard deviation of x: 2.6851443164195103\n",
      "----------------------------------------------------------------------\n",
      "[1 2 3 4 5 6]\n",
      "[[1 2]\n",
      " [3 4]\n",
      " [5 6]]\n",
      "shape of a is (2, 3) and shape of b is (3, 2)\n",
      "----------------------------------------------------------------------\n",
      "[[4 5 6]\n",
      " [2 2 3]]\n"
     ]
    }
   ],
   "source": [
    "# Comparing arrays \n",
    "a = np.array([1, 2, 3, 4]) \n",
    "b = np.array([4, 2, 3, 5]) \n",
    "print(a >= b) # element wise comparison \n",
    "print(np.array_equal(a, b)) # array-wise comparison telling whether a = b or not\n",
    "\n",
    "print('-'*70)\n",
    "\n",
    "# Transcendental functions\n",
    "\n",
    "c = np.arange(1, 5) \n",
    "print(np.sin(c)) \n",
    "print(np.log(c)) \n",
    "print('-'*70)\n",
    "\n",
    "# Computing Sum \n",
    "x = np.array([1, 2, 3, 4]) \n",
    "print(np.sum(x)) # Sums all the elements in the array \n",
    "x = np.array([[1, 2, 3], [4, 5, 6]])\n",
    "print(x.sum(axis=0)) # Sum along column\n",
    "print(x.sum(axis=1)) # Sum along rows\n",
    "print('-'*70)\n",
    "\n",
    "\n",
    "\n",
    "\n",
    "\n",
    "# Statistics\n",
    "x = np.array([2, 1, 3, 0, 6, 2, 9, 7, 4, 3]) \n",
    "print('min value: ', a.min()) # min/max value\n",
    "print('max value:', a.max()) \n",
    "print('min value index:', a.argmin()) # index of minimum element\n",
    "print('max value index:', a.argmax()) # index of max element \n",
    "print('mean of x:', x.mean())\n",
    "print(\"median of x:\", np.median(x))\n",
    "print('standard deviation of x:', x.std())\n",
    "print('-'*70) \n",
    "\n",
    "# Flattening and Reshaping \n",
    "a = np.array([[1, 2, 3], [4, 5, 6]]) \n",
    "print(a.ravel())#Return a contiguous flattened array. A 1-D array, containing the elements of the input, is returned.\n",
    "\n",
    "b = a.reshape((3, 2))\n",
    "print(b) \n",
    "print(f'shape of a is {a.shape} and shape of b is {b.shape}')\n",
    "print('-'*70)\n",
    "\n",
    "\n",
    "#Sorting\n",
    "a = np.array([[5, 4, 6], [2, 3, 2]])\n",
    "b = np.sort(a, axis=1) #Sorting along an axis\n",
    "print(b)\n",
    "\n",
    "\n",
    "\n",
    "\n",
    "\n",
    "\n"
   ]
  },
  {
   "cell_type": "markdown",
   "metadata": {
    "colab_type": "text",
    "id": "nP9COzuBUOnj"
   },
   "source": [
    "##Drill #32\n",
    "<img src=\"https://drive.google.com/uc?id=11LGUssKKIP6RSXx_fnMWMMMxrOLoLQu2\" width=\"800\">\n",
    "\n",
    "###Expected Output\n",
    "<img src=\"https://drive.google.com/uc?id=17R7LrG_YhIIYJKpxKjKsLm22gt4jYtHn\" width=\"600\">\n"
   ]
  },
  {
   "cell_type": "code",
   "execution_count": 4,
   "metadata": {
    "colab": {
     "base_uri": "https://localhost:8080/",
     "height": 323
    },
    "colab_type": "code",
    "executionInfo": {
     "elapsed": 1387,
     "status": "ok",
     "timestamp": 1588137292348,
     "user": {
      "displayName": "Sai Saurab",
      "photoUrl": "",
      "userId": "06528725485567637895"
     },
     "user_tz": -330
    },
    "id": "-mLX2hIHTW2r",
    "outputId": "a2a75081-cf65-45d9-be49-74d45d4200f4",
    "scrolled": true
   },
   "outputs": [
    {
     "name": "stdout",
     "output_type": "stream",
     "text": [
      "a1: \n",
      " [[1 2 3]\n",
      " [4 5 6]] \n",
      " a2: \n",
      " [[10 20 30]\n",
      " [40 50 60]]\n",
      "----------------------------------------------------------------------\n",
      "Horizontal stacking: \n",
      " [[ 1  2  3 10 20 30]\n",
      " [ 4  5  6 40 50 60]]\n",
      "Shape of array after horizontal stacking:  (2, 6)\n",
      "----------------------------------------------------------------------\n",
      "Vertical stacking: \n",
      " [[ 1  2  3]\n",
      " [ 4  5  6]\n",
      " [10 20 30]\n",
      " [40 50 60]]\n",
      "Shape of array after vertical stacking:  (4, 3)\n"
     ]
    }
   ],
   "source": [
    "# Write your own code here\n",
    "\n",
    "## Stacking Arrays \n",
    "## First create two arrays of shape(2, 3) \n",
    "import numpy as np \n",
    "a1 = np.arange(1, 7).reshape(2, 3)  ## Array with numbers 1, 2, .. , 6\n",
    "a2 = np.arange (1, 7).reshape(2, 3) * 10 ## Array with numbers 10, 20, .., 60\n",
    "\n",
    "print('a1: \\n', a1, '\\n a2: \\n', a2)\n",
    "\n",
    "print('-'* 70) \n",
    "\n",
    "## Now let us stack these arrays horizontally, one to the right and another to the left \n",
    "\n",
    "a_horizontally_stacked = np.hstack([a1, a2]) \n",
    "print('Horizontal stacking: \\n', a_horizontally_stacked)\n",
    "print(\"Shape of array after horizontal stacking: \", a_horizontally_stacked.shape)\n",
    "\n",
    "print ('-' * 70) \n",
    "\n",
    "## Now let us stack these arrays vertically, al on top and a2 at the bottom \n",
    "## So shape of arrays after stacking will be (4, 3)\n",
    "## Always be mindful of shape of the arrays. This will help you in debugging a vertically \n",
    "a_vertically_stacked = np.vstack([a1, a2]) \n",
    "\n",
    "print('Vertical stacking: \\n', a_vertically_stacked) \n",
    "print('Shape of array after vertical stacking: ', a_vertically_stacked.shape) \n"
   ]
  }
 ],
 "metadata": {
  "colab": {
   "collapsed_sections": [],
   "name": "Programming drill numpy.ipynb",
   "provenance": []
  },
  "kernelspec": {
   "display_name": "Python 3",
   "language": "python",
   "name": "python3"
  },
  "language_info": {
   "codemirror_mode": {
    "name": "ipython",
    "version": 3
   },
   "file_extension": ".py",
   "mimetype": "text/x-python",
   "name": "python",
   "nbconvert_exporter": "python",
   "pygments_lexer": "ipython3",
   "version": "3.7.3"
  }
 },
 "nbformat": 4,
 "nbformat_minor": 1
}
