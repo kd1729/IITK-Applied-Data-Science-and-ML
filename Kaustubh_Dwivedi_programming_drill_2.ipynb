{
 "cells": [
  {
   "cell_type": "markdown",
   "metadata": {
    "colab_type": "text",
    "id": "_7XILk0twanK"
   },
   "source": [
    "# Drill #5 - More variables and printing\n",
    "- In this drill, you will use f-strings feature of python. <br> They make formatting strings a lot easier than other methods.\n",
    "\n",
    "<img src=\"https://drive.google.com/uc?id=1Z1p8oma05HbgPG47fRwj_qL-Ge6CVeQO\" width = \"400\">\n",
    "\n",
    "#### Expected Output\n",
    "<img src=\"https://drive.google.com/uc?id=1sa_T4RAEdtQg2c31j-_XMq5zcQc3Tii9\" width = \"250\">"
   ]
  },
  {
   "cell_type": "code",
   "execution_count": 4,
   "metadata": {
    "colab": {
     "base_uri": "https://localhost:8080/",
     "height": 120
    },
    "colab_type": "code",
    "executionInfo": {
     "elapsed": 2642,
     "status": "ok",
     "timestamp": 1583983713755,
     "user": {
      "displayName": "Sai Saurab",
      "photoUrl": "",
      "userId": "06528725485567637895"
     },
     "user_tz": -330
    },
    "id": "6CwvAxCL61Oq",
    "outputId": "3817af7c-d5e9-40e6-f12d-fc9db2b3402c"
   },
   "outputs": [
    {
     "name": "stdout",
     "output_type": "stream",
     "text": [
      "Let's talk about Hari\n",
      "He's 74 tall\n",
      "He's 70 kgs heavy\n",
      "Isn't that too heavy?\n",
      "He's got Blue eyes and Black complexion\n",
      "If you add 16, 74 and 70, you get 160\n"
     ]
    }
   ],
   "source": [
    "### Write your code here\n",
    "my_name=\"Hari\"\n",
    "my_age=16\n",
    "my_height=74 #inches\n",
    "my_weight=70 #kilograms\n",
    "my_complexion=\"Black\" \n",
    "my_eyes=\"Blue\"\n",
    "\n",
    "print(f\"Let's talk about {my_name}\")\n",
    "print(f\"He's {my_height} tall\")\n",
    "print(f\"He's {my_weight} kgs heavy\")\n",
    "print(\"Isn't that too heavy?\")\n",
    "print(f\"He's got {my_eyes} eyes and {my_complexion} complexion\")\n",
    "\n",
    "total=my_age+my_height+my_weight\n",
    "print(f\"If you add {my_age}, {my_height} and {my_weight}, you get {total}\")\n"
   ]
  },
  {
   "cell_type": "markdown",
   "metadata": {
    "colab_type": "text",
    "id": "ZkX4arpN0HRW"
   },
   "source": [
    "### 5.1\n",
    "Change the names of the variables to remove my from each of them. Try to make the code run again with the new names."
   ]
  },
  {
   "cell_type": "code",
   "execution_count": 5,
   "metadata": {
    "colab": {},
    "colab_type": "code",
    "id": "QUIAf66fyRO1"
   },
   "outputs": [
    {
     "name": "stdout",
     "output_type": "stream",
     "text": [
      "Let's talk about Hari\n",
      "He's 74 tall\n",
      "He's 70 kgs heavy\n",
      "Isn't that too heavy?\n",
      "He's got Blue eyes and Black complexion\n",
      "If you add 16, 74 and 70, you get 160\n"
     ]
    }
   ],
   "source": [
    "### Write your code here\n",
    "name=\"Hari\"\n",
    "age=16\n",
    "height=74 #inches\n",
    "weight=70 #kilograms\n",
    "complexion=\"Black\" \n",
    "eyes=\"Blue\"\n",
    "\n",
    "print(f\"Let's talk about {name}\")\n",
    "print(f\"He's {height} tall\")\n",
    "print(f\"He's {weight} kgs heavy\")\n",
    "print(\"Isn't that too heavy?\")\n",
    "print(f\"He's got {eyes} eyes and {complexion} complexion\")\n",
    "\n",
    "total=age+height+weight\n",
    "print(f\"If you add {age}, {height} and {weight}, you get {total}\")\n"
   ]
  },
  {
   "cell_type": "markdown",
   "metadata": {
    "colab_type": "text",
    "id": "nwKp6MvJ0Zpz"
   },
   "source": [
    "### 5.2\n",
    "Write some variables to convert weight from kilograms to pounds and height from inches to centimeters. Do not just type in the measurements. Use math formulas to convert."
   ]
  },
  {
   "cell_type": "code",
   "execution_count": 6,
   "metadata": {
    "colab": {},
    "colab_type": "code",
    "id": "t0HLo_O10Sg5"
   },
   "outputs": [],
   "source": [
    "### Write your code here \n",
    "pound=1\n",
    "cm=1\n",
    "kg=2.2*pound\n",
    "inch=2.54*cm"
   ]
  },
  {
   "cell_type": "markdown",
   "metadata": {
    "colab_type": "text",
    "id": "bbVtD6KU42zA"
   },
   "source": [
    "# Drill #6\n",
    "Observe and learn about a new way of formatting strings using ```format``` <br>\n",
    "<img src=\"https://drive.google.com/uc?id=12cTwehguVS2-hE3ID0VHKKxdkr5WcBho\" width=\"400\">\n",
    "\n",
    "##### Expected Output\n",
    "<img src=\"https://drive.google.com/uc?id=1Ood5DWeL7FBp6R9xr6wbqFvq0rnDEzo-\" width=\"250\">"
   ]
  },
  {
   "cell_type": "code",
   "execution_count": 1,
   "metadata": {
    "colab": {
     "base_uri": "https://localhost:8080/",
     "height": 120
    },
    "colab_type": "code",
    "executionInfo": {
     "elapsed": 850,
     "status": "ok",
     "timestamp": 1583986840370,
     "user": {
      "displayName": "Sai Saurab",
      "photoUrl": "",
      "userId": "06528725485567637895"
     },
     "user_tz": -330
    },
    "id": "GgkcKOrD88mc",
    "outputId": "3c7ee347-80d8-4cda-b54c-c317d8194fc1"
   },
   "outputs": [
    {
     "name": "stdout",
     "output_type": "stream",
     "text": [
      "There are 10 types of people\n",
      "Those who know binary and those who don't.\n",
      "I said: There are 10 types of people\n",
      "I also said: 'Those who know binary and those who don't.'\n",
      "Isn't that joke so funny?!False\n",
      "This is the left side of..a string eith right side.\n"
     ]
    }
   ],
   "source": [
    "### Write your code here\n",
    "types_of_people=10\n",
    "x=f\"There are {types_of_people} types of people\"\n",
    "\n",
    "binary=\"binary\"\n",
    "do_not=\"don't\"\n",
    "y=f\"Those who know {binary} and those who {do_not}.\"\n",
    "\n",
    "print(x)\n",
    "print(y)\n",
    "\n",
    "print(f\"I said: {x}\")\n",
    "print(f\"I also said: '{y}'\")\n",
    "\n",
    "hilarious=False\n",
    "joke_evaluation=\"Isn't that joke so funny?!{}\"\n",
    "\n",
    "print(joke_evaluation.format(hilarious))\n",
    "\n",
    "w=\"This is the left side of..\"\n",
    "e=\"a string eith right side.\"\n",
    "\n",
    "print(w+e)"
   ]
  },
  {
   "cell_type": "markdown",
   "metadata": {
    "colab_type": "text",
    "id": "vd-aLAbB-R4p"
   },
   "source": [
    "#### 6.1\n",
    "When something is enclosed in single-quotes (') or double quotes (\"\"), python considers it a string. <br>\n",
    "At how many places in the code is there a string inside another string?"
   ]
  },
  {
   "cell_type": "code",
   "execution_count": 2,
   "metadata": {
    "colab": {},
    "colab_type": "code",
    "id": "DznSUeV79q0U"
   },
   "outputs": [
    {
     "data": {
      "text/plain": [
       "5"
      ]
     },
     "execution_count": 2,
     "metadata": {},
     "output_type": "execute_result"
    }
   ],
   "source": [
    "## Write your answer here\n",
    "5"
   ]
  },
  {
   "cell_type": "markdown",
   "metadata": {
    "colab_type": "text",
    "id": "LEODBvxD-vU6"
   },
   "source": [
    "#### 6.2\n",
    "Observe how adding strings ```w``` and ```e``` using a ```+``` makes them longer. <br>Create two strings of your own and print the result of adding them using a ```+``` "
   ]
  },
  {
   "cell_type": "code",
   "execution_count": 4,
   "metadata": {
    "colab": {},
    "colab_type": "code",
    "id": "4LXkvkEf_FH4"
   },
   "outputs": [
    {
     "name": "stdout",
     "output_type": "stream",
     "text": [
      "My name is Kaustubh Dwivedi. \n"
     ]
    }
   ],
   "source": [
    "### Write your code here\n",
    "name=\"Kaustubh \"\n",
    "sir_name=\"Dwivedi. \"\n",
    "print(\"My name is \"+name+sir_name)"
   ]
  },
  {
   "cell_type": "markdown",
   "metadata": {
    "colab_type": "text",
    "id": "-zOVla2RAgeu"
   },
   "source": [
    "# Breaking Code\n",
    "Moving forward, try to break the code that you have written so that it throws an error. <br>\n",
    "Try to experiment and see the different ways in which you can break the code and the different kinds of errors that you can make it throw. <br>\n",
    "Do this for all the drills going forward. This will help you develop your expertise in debugging."
   ]
  },
  {
   "cell_type": "code",
   "execution_count": 1,
   "metadata": {
    "colab": {},
    "colab_type": "code",
    "id": "ciuSV3SjA1HO"
   },
   "outputs": [
    {
     "ename": "SyntaxError",
     "evalue": "EOL while scanning string literal (<ipython-input-1-769906f2cc61>, line 5)",
     "output_type": "error",
     "traceback": [
      "\u001b[1;36m  File \u001b[1;32m\"<ipython-input-1-769906f2cc61>\"\u001b[1;36m, line \u001b[1;32m5\u001b[0m\n\u001b[1;33m    print(\"My name is +name+sir_name)\u001b[0m\n\u001b[1;37m                                     ^\u001b[0m\n\u001b[1;31mSyntaxError\u001b[0m\u001b[1;31m:\u001b[0m EOL while scanning string literal\n"
     ]
    }
   ],
   "source": [
    "### Break the code from the previous drill, to throw an error.\n",
    "### Write your code here\n",
    "name=\"Kaustubh \"\n",
    "sir_name=\"Dwivedi. \"\n",
    "print(\"My name is +name+sir_name)"
   ]
  },
  {
   "cell_type": "markdown",
   "metadata": {
    "colab_type": "text",
    "id": "AEnwRvb3BL0O"
   },
   "source": [
    "#Drill #7\n",
    "<img src=\"https://drive.google.com/uc?id=1siwGm9a5ZnTsjBEUjLwxkK1d_DS6hwOB\" width=\"400\">\n",
    "\n",
    "##### Expected Output\n",
    "<img src=\"https://drive.google.com/uc?id=1mZyMsyJcI27AIFiE4OZrJQR9Cqb0LLdq\" width=\"250\">\n"
   ]
  },
  {
   "cell_type": "code",
   "execution_count": 4,
   "metadata": {
    "colab": {},
    "colab_type": "code",
    "id": "8kdNp3ogDr6A"
   },
   "outputs": [
    {
     "name": "stdout",
     "output_type": "stream",
     "text": [
      "Twinkle Twinkle little star\n",
      "How I wonder what you are\n",
      "Up above the world so high\n",
      "..........\n",
      "Artificial Intelligence\n"
     ]
    }
   ],
   "source": [
    "### Write your code here\n",
    "print(\"Twinkle Twinkle little star\")\n",
    "print(\"How I {} what you are\".format(\"wonder\"))\n",
    "print(\"Up above the world so high\")\n",
    "print(\".\"*10)\n",
    "\n",
    "end1=\"A\"\n",
    "end2=\"r\"\n",
    "end3=\"t\"\n",
    "end4=\"i\"\n",
    "end5=\"f\"\n",
    "end6=\"i\"\n",
    "end7=\"c\"\n",
    "end8=\"i\"\n",
    "end9=\"a\"\n",
    "end10=\"l\"\n",
    "end11=\"Intelligence\"\n",
    "\n",
    "print(end1+end2+end3+end4+end5+end6+end7+end8+end9+end10,end=\" \")\n",
    "print(end11)\n"
   ]
  },
  {
   "cell_type": "markdown",
   "metadata": {
    "colab_type": "text",
    "id": "bmlXA2j6DW0G"
   },
   "source": [
    "# Drill #8\n",
    "- ```\\n``` (backslash n) inserts a _new line character_ at that point in the string. This lets us create strings that span multiple lines.\n",
    "\n",
    "<img src=\"https://drive.google.com/uc?id=1WuIZPNCGTJ7JvXV0lx1qzgjYBoNKr-Qm\" width=\"400\">\n",
    "\n",
    "#### Expected Output\n",
    "<img src=\"https://drive.google.com/uc?id=12xmND2VZSNFiZloKwtWY3Nn3NMmMCQtv\"\n",
    "width=\"250\"> <br>\n"
   ]
  },
  {
   "cell_type": "code",
   "execution_count": 9,
   "metadata": {
    "colab": {},
    "colab_type": "code",
    "id": "5ttp7Ls-Q9rc"
   },
   "outputs": [
    {
     "name": "stdout",
     "output_type": "stream",
     "text": [
      "Here are the days:  Mon Tue Wed Thu Fri Sat Sun\n",
      "Here are the months:  Jan\n",
      "Feb\n",
      "Mar\n",
      "Apr\n",
      "May\n",
      "Jun\n",
      "Jul\n",
      "Aug\n",
      "\n",
      "There is something going on here.\n",
      "With the three double quotes.\n",
      "We'll be able to type as much as we like.\n",
      "Even 4 lines if we want, or 5,or 6.\n",
      "\n"
     ]
    }
   ],
   "source": [
    "### Write your code here\n",
    "#Here's some strange new stuff, remember to type it correctly\n",
    "\n",
    "days=\"Mon Tue Wed Thu Fri Sat Sun\"\n",
    "months=\"Jan\\nFeb\\nMar\\nApr\\nMay\\nJun\\nJul\\nAug\"\n",
    "\n",
    "print(\"Here are the days: \",days)\n",
    "print(\"Here are the months: \",months)\n",
    "\n",
    "print(\"\"\"\n",
    "There is something going on here.\n",
    "With the three double quotes.\n",
    "We'll be able to type as much as we like.\n",
    "Even 4 lines if we want, or 5,or 6.\n",
    "\"\"\")"
   ]
  },
  {
   "cell_type": "markdown",
   "metadata": {
    "colab_type": "text",
    "id": "7QJuv7BwcJ-T"
   },
   "source": [
    "# Drill #9 - Taking Data from users\n",
    "<img src=\"https://drive.google.com/uc?id=1q8MCFxBlcpUMhpf1pWeihYA_zXDU-Ve0\" width=\"400\">\n",
    "\n",
    "##### Expected Output\n",
    "<img src=\"https://drive.google.com/uc?id=1SV9Fj5L1yt5z6sKXWGZEq1WRr5kFMplt\" width=\"250\">"
   ]
  },
  {
   "cell_type": "code",
   "execution_count": 10,
   "metadata": {
    "colab": {},
    "colab_type": "code",
    "id": "pTiVIY07Rkdb"
   },
   "outputs": [
    {
     "name": "stdout",
     "output_type": "stream",
     "text": [
      "How old are you? 34\n",
      "How tall are you? 6'2\n",
      "How much do you weigh? 180lbs\n",
      "So you are 34 years old, 6'2 tall and 180lbs heavy\n"
     ]
    }
   ],
   "source": [
    "#### Write your code here\n",
    "print(\"How old are you?\",end=\" \")\n",
    "age=input()\n",
    "print(\"How tall are you?\",end=\" \")\n",
    "height=input()\n",
    "print(\"How much do you weigh?\",end=\" \")\n",
    "weight=input()\n",
    "\n",
    "print(f\"So you are {age} years old, {height} tall and {weight} heavy\")"
   ]
  },
  {
   "cell_type": "markdown",
   "metadata": {
    "colab_type": "text",
    "id": "gga_fUr1IYOm"
   },
   "source": [
    "#### 9.1Write another “form” like this to ask some other questions."
   ]
  },
  {
   "cell_type": "code",
   "execution_count": 13,
   "metadata": {
    "colab": {},
    "colab_type": "code",
    "id": "v6JWSAHeRpeT"
   },
   "outputs": [
    {
     "name": "stdout",
     "output_type": "stream",
     "text": [
      "Do you like Machine Learning A lot\n",
      "What do you want to become Data Scientist\n",
      "A lot\n",
      "Data Scientist\n"
     ]
    }
   ],
   "source": [
    "#### Write your code here\n",
    "print(\"Do you like Machine Learning\",end=\" \")\n",
    "ans=input()\n",
    "print(\"What do you want to become\",end=\" \")\n",
    "ans2=input()\n",
    "\n",
    "print(ans+\"\\n\"+ans2)"
   ]
  },
  {
   "cell_type": "markdown",
   "metadata": {
    "colab_type": "text",
    "id": "_woE1VsCLEz3"
   },
   "source": [
    "#Drill #10 - Taking input with prompts\n",
    "<img src=\"https://drive.google.com/uc?id=1CudaeeHzmT22bPqgtvnPUcPnzF_0tqVY\" width=\"400\">\n",
    "\n",
    "##### Expected Output <br>\n",
    "<img src=\"https://drive.google.com/uc?id=1oNKn5PsPDOlVmvKN5WZU8NgJwErrPHT_\" width=\"300\">\n",
    "\n"
   ]
  },
  {
   "cell_type": "code",
   "execution_count": 15,
   "metadata": {
    "colab": {},
    "colab_type": "code",
    "id": "gGc9vU6qM17w"
   },
   "outputs": [
    {
     "name": "stdout",
     "output_type": "stream",
     "text": [
      "How old are you?34\n",
      "How tall are you?6'2\"\n",
      "How much do you weigh?180lbs\n",
      "So you are 34 years old, 6'2\" tall and 180lbs heavy\n"
     ]
    }
   ],
   "source": [
    "### Write your code here.\n",
    "age=input(\"How old are you?\")\n",
    "height=input(\"How tall are you?\")\n",
    "weight=input(\"How much do you weigh?\")\n",
    "\n",
    "print(f\"So you are {age} years old, {height} tall and {weight} heavy\")"
   ]
  },
  {
   "cell_type": "code",
   "execution_count": null,
   "metadata": {},
   "outputs": [],
   "source": []
  }
 ],
 "metadata": {
  "colab": {
   "authorship_tag": "ABX9TyN+H+5fhdc8/1RshDDgTVrE",
   "name": "programming_drill_2.ipynb",
   "provenance": []
  },
  "kernelspec": {
   "display_name": "Python 3",
   "language": "python",
   "name": "python3"
  },
  "language_info": {
   "codemirror_mode": {
    "name": "ipython",
    "version": 3
   },
   "file_extension": ".py",
   "mimetype": "text/x-python",
   "name": "python",
   "nbconvert_exporter": "python",
   "pygments_lexer": "ipython3",
   "version": "3.7.3"
  }
 },
 "nbformat": 4,
 "nbformat_minor": 1
}
