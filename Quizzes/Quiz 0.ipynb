{
 "cells": [
  {
   "cell_type": "markdown",
   "metadata": {
    "colab_type": "text",
    "id": "Lv5G81Y0e0Va"
   },
   "source": [
    "# Q. Type Compare\n",
    "Write a function that takes any two python objects $a$ and $b$ and returns boolean value ```True``` if they are of the same type and returns ```False``` otherwise"
   ]
  },
  {
   "cell_type": "code",
   "execution_count": 1,
   "metadata": {
    "colab": {
     "base_uri": "https://localhost:8080/",
     "height": 34
    },
    "colab_type": "code",
    "executionInfo": {
     "elapsed": 2363,
     "status": "ok",
     "timestamp": 1585807271371,
     "user": {
      "displayName": "Sai Saurab",
      "photoUrl": "",
      "userId": "06528725485567637895"
     },
     "user_tz": -330
    },
    "id": "Azk7sJ74eeCo",
    "outputId": "6bcad894-e71c-4548-ea14-f9a08677c834"
   },
   "outputs": [
    {
     "data": {
      "text/plain": [
       "False"
      ]
     },
     "execution_count": 1,
     "metadata": {},
     "output_type": "execute_result"
    }
   ],
   "source": [
    "def type_comparator(a, b):\n",
    "  \"\"\"\n",
    "  Inputs:\n",
    "    a: any python object\n",
    "    b: any python object\n",
    "\n",
    "  Outputs:\n",
    "    z: boolean value, True if type of a and type of b are equal; False otherwise\n",
    "  \"\"\"\n",
    "  ### Write your code here\n",
    "  if type(a)==type(b):\n",
    "    z=True\n",
    "  else:\n",
    "    z=False\n",
    "  \n",
    "\n",
    "  return z\n",
    "\n",
    "type_comparator(40,\"abc\")\n"
   ]
  },
  {
   "cell_type": "markdown",
   "metadata": {
    "colab_type": "text",
    "id": "UJ62IBmilirG"
   },
   "source": [
    "# Q. Radioactive Decay\n",
    "$m(t) = m_0 e^{-\\lambda t}$ is the expression to compute mass at time t of a radioactive isotope that decays with average lifetime $\\tau$. \\\\\n",
    "Also $\\tau = \\frac{1}{\\lambda}$\n",
    "Given $m_0, \\tau$ and $t$ write a function that computes $m(t)$"
   ]
  },
  {
   "cell_type": "code",
   "execution_count": 2,
   "metadata": {
    "colab": {},
    "colab_type": "code",
    "id": "a0T1Amhyq9Pl"
   },
   "outputs": [
    {
     "name": "stdout",
     "output_type": "stream",
     "text": [
      "mass of radioactive material at time t: 13.53352832366127\n"
     ]
    }
   ],
   "source": [
    "import math\n",
    "def m_t_rad_decay(m_0, tau, t):\n",
    "  \"\"\"\n",
    "  Inputs:\n",
    "    m_0 : Float, mass of initial radioactive material in g\n",
    "    tau : Float, average lifetime in seconds\n",
    "    t : Time elapsed in seconds\n",
    "\n",
    "  Ouptus:\n",
    "    m_t : Float, mass of radioactive material at time t\n",
    "  \"\"\"\n",
    "  ### Write your code here\n",
    "\n",
    "  m_t=m_0*math.exp(-t/tau)\n",
    "  z=m_t\n",
    "  \n",
    "  return z\n",
    "\n",
    "print(\"mass of radioactive material at time t: \"+str(m_t_rad_decay(100,5,10)))"
   ]
  },
  {
   "cell_type": "markdown",
   "metadata": {
    "colab_type": "text",
    "id": "QUDRS0GKjGUn"
   },
   "source": [
    "# Q. Parametrized Pattern\n",
    "Write a function that takes a character ```s```, number of rows and number of columns and prints a pattern like this (Here, the string ```s``` is ```'a'```, number of rows is 4, number of columns is 3)  \\\\\n",
    "<img src = \"https://drive.google.com/uc?id=1KYkpsrztLbScMmNc9q_lDiTEM-kK03zX\">"
   ]
  },
  {
   "cell_type": "code",
   "execution_count": 3,
   "metadata": {
    "colab": {
     "base_uri": "https://localhost:8080/",
     "height": 255
    },
    "colab_type": "code",
    "executionInfo": {
     "elapsed": 1012,
     "status": "ok",
     "timestamp": 1585811967845,
     "user": {
      "displayName": "Sai Saurab",
      "photoUrl": "",
      "userId": "06528725485567637895"
     },
     "user_tz": -330
    },
    "id": "VXkit39Jelv8",
    "outputId": "ed149668-d4a9-4f10-f2e1-f6ce4b47d2c3"
   },
   "outputs": [
    {
     "name": "stdout",
     "output_type": "stream",
     "text": [
      "\n",
      "|----|----|----|\n",
      "|aaaa|aaaa|aaaa|\n",
      "|aaaa|aaaa|aaaa|\n",
      "|----|----|----|\n",
      "|aaaa|aaaa|aaaa|\n",
      "|aaaa|aaaa|aaaa|\n",
      "|----|----|----|\n",
      "|aaaa|aaaa|aaaa|\n",
      "|aaaa|aaaa|aaaa|\n",
      "|----|----|----|\n",
      "|aaaa|aaaa|aaaa|\n",
      "|aaaa|aaaa|aaaa|\n",
      "|----|----|----|"
     ]
    }
   ],
   "source": [
    "def pattern_gen(s, rows, cols):\n",
    "  \"\"\"\n",
    "  Inputs:\n",
    "    s : string of length 1, character that will be repeated in the pattern\n",
    "    rows: int, Number of cells in a row\n",
    "    cos : int, Number of cells in a column\n",
    "  \"\"\"\n",
    "  for i in range(rows*3+1):\n",
    "    print()\n",
    "    for j in range(cols*5+1):\n",
    "        if j%5==0:\n",
    "            print(\"|\",end=\"\")\n",
    "        elif i%3==0 and j%5!=0:\n",
    "            print(\"-\",end=\"\")\n",
    "        else:\n",
    "            print(s,end=\"\")\n",
    "        print(\"\",end=\"\")\n",
    "\n",
    "\n",
    "pattern_gen(\"a\",4,3) "
   ]
  }
 ],
 "metadata": {
  "colab": {
   "authorship_tag": "ABX9TyOFgBEi+r2bG1KeBs182AfG",
   "collapsed_sections": [],
   "name": "Quiz 1.ipynb",
   "provenance": []
  },
  "kernelspec": {
   "display_name": "Python 3",
   "language": "python",
   "name": "python3"
  },
  "language_info": {
   "codemirror_mode": {
    "name": "ipython",
    "version": 3
   },
   "file_extension": ".py",
   "mimetype": "text/x-python",
   "name": "python",
   "nbconvert_exporter": "python",
   "pygments_lexer": "ipython3",
   "version": "3.7.3"
  }
 },
 "nbformat": 4,
 "nbformat_minor": 1
}
