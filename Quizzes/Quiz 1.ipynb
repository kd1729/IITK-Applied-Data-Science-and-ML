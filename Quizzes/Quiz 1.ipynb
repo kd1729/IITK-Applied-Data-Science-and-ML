{
 "cells": [
  {
   "cell_type": "markdown",
   "metadata": {
    "colab_type": "text",
    "id": "k31vy_YlnRdX"
   },
   "source": [
    "## Instructions :\n",
    "- Do not change names and signatures of functions\n",
    "- Remove any additional code in the global scope that you write for your own testing."
   ]
  },
  {
   "cell_type": "markdown",
   "metadata": {
    "colab_type": "text",
    "id": "aYEjcdekASUC"
   },
   "source": [
    "# Q. Last element\n",
    "Write a function that returns the last element of a list. <br>\n",
    "Eg., l = [1, 2, 3, 4] <br>\n",
    "last_element(l) -> 4"
   ]
  },
  {
   "cell_type": "code",
   "execution_count": 7,
   "metadata": {
    "colab": {},
    "colab_type": "code",
    "deletable": false,
    "id": "KDe_4spkASUE",
    "nbgrader": {
     "checksum": "2f49157fc0486325e9e28c1a88d3c28a",
     "grade": false,
     "grade_id": "last_element",
     "locked": false,
     "schema_version": 1,
     "solution": true
    }
   },
   "outputs": [
    {
     "name": "stdout",
     "output_type": "stream",
     "text": [
      "4\n"
     ]
    }
   ],
   "source": [
    "def last_element(l):\n",
    "    \"\"\"\n",
    "    Input:\n",
    "    l: Python list\n",
    "    \n",
    "    Output:\n",
    "    last element of l\n",
    "    \"\"\"\n",
    "    # YOUR CODE HERE\n",
    "    return l[-1]\n",
    "    \n",
    "l = [1, 2, 3, 4]\n",
    "print(last_element(l))\n",
    "    "
   ]
  },
  {
   "cell_type": "markdown",
   "metadata": {
    "colab_type": "text",
    "id": "kd97gmhe0RPt"
   },
   "source": [
    "# Q. List size\n",
    "Write a function that returns the number of elements in a list.<br> \n",
    "Eg., l = [1, 2, 3, 4] <br>\n",
    "num_elements(l) -> 4"
   ]
  },
  {
   "cell_type": "code",
   "execution_count": 8,
   "metadata": {
    "colab": {},
    "colab_type": "code",
    "deletable": false,
    "id": "6Y2eLGm2ASUY",
    "nbgrader": {
     "checksum": "83da0368acea577b06ff2d88b39e43c8",
     "grade": false,
     "grade_id": "num_elements",
     "locked": false,
     "schema_version": 1,
     "solution": true
    }
   },
   "outputs": [
    {
     "name": "stdout",
     "output_type": "stream",
     "text": [
      "4\n"
     ]
    }
   ],
   "source": [
    "def num_elements(l):\n",
    "    \"\"\"\n",
    "    Input:\n",
    "      l: Python list\n",
    "    \n",
    "    Output:\n",
    "      number of elements in the list l\n",
    "    \"\"\"\n",
    "    # YOUR CODE HERE\n",
    "    return(len(l))\n",
    "\n",
    "l = [1, 2, 3, 4]\n",
    "print(num_elements(l))"
   ]
  },
  {
   "cell_type": "markdown",
   "metadata": {
    "colab_type": "text",
    "id": "wjgKip90ASUe"
   },
   "source": [
    "# Q. Reverse list\n",
    "Write a function that reverses a list and returns it. <br>\n",
    "Eg., l = [1, 2, 3, 4] <br>\n",
    "reverse_list(l) -> [4, 3, 2, 1]"
   ]
  },
  {
   "cell_type": "code",
   "execution_count": 9,
   "metadata": {
    "colab": {},
    "colab_type": "code",
    "deletable": false,
    "id": "DYbvaIPFASUf",
    "nbgrader": {
     "checksum": "549914a19489ad4d9e90ebf8f6d4d989",
     "grade": false,
     "grade_id": "reverse_list",
     "locked": false,
     "schema_version": 1,
     "solution": true
    }
   },
   "outputs": [
    {
     "name": "stdout",
     "output_type": "stream",
     "text": [
      "[4, 3, 2, 1]\n"
     ]
    }
   ],
   "source": [
    "def reverse_list(l):\n",
    "    \"\"\"\n",
    "    Input:\n",
    "      l: Python list\n",
    "\n",
    "    Output:\n",
    "      Python list with elements of l in reverse order\n",
    "    \"\"\"\n",
    "    # YOUR CODE HERE\n",
    "    return(l[::-1])\n",
    "\n",
    "l = [1, 2, 3, 4]\n",
    "print(reverse_list(l))"
   ]
  },
  {
   "cell_type": "markdown",
   "metadata": {
    "colab_type": "text",
    "id": "gYoXRir2ASUv"
   },
   "source": [
    "# Q. Compress duplicates\n",
    "Write a function that replaces consecutive duplicate elements of list with single element. <br>\n",
    "Eg., l = [a, a, a, b, b, c, a, a, d, d, d, x, x] <br>\n",
    "compress(l) -> [a, b, c, a, d, x]"
   ]
  },
  {
   "cell_type": "code",
   "execution_count": 18,
   "metadata": {
    "colab": {},
    "colab_type": "code",
    "deletable": false,
    "id": "hFMTS_2GASUw",
    "nbgrader": {
     "checksum": "ee5734d5706d95c02e4441d7c8327d9d",
     "grade": false,
     "grade_id": "compress",
     "locked": false,
     "schema_version": 1,
     "solution": true
    }
   },
   "outputs": [
    {
     "name": "stdout",
     "output_type": "stream",
     "text": [
      "['a', 'b', 'c', 'a', 'd', 'x']\n"
     ]
    }
   ],
   "source": [
    "def compress(l):\n",
    "    \"\"\"\n",
    "    Input:\n",
    "      l: Python list\n",
    "    Output:\n",
    "      Returns a list with consecutive duplicate elements replaced by a single element\n",
    "    \"\"\"\n",
    "    # YOUR CODE HERE\n",
    "    lst=list()\n",
    "    i=0\n",
    "    while(i<len(l)):\n",
    "        k=1\n",
    "        for j in range(i+1,len(l)):\n",
    "            if l[i]==l[j]:\n",
    "                k+=1\n",
    "            else:\n",
    "                break\n",
    "        lst.append(l[i])\n",
    "        i+=k\n",
    "    return lst\n",
    "\n",
    "\n",
    "l = ['a', 'a', 'a', 'b', 'b', 'c', 'a', 'a', 'd', 'd', 'd', 'x', 'x']            \n",
    "print(compress(l))\n",
    "        \n",
    "    "
   ]
  },
  {
   "cell_type": "markdown",
   "metadata": {
    "colab_type": "text",
    "id": "ThQ5ZmDuASU1"
   },
   "source": [
    "# Q. Pack duplicates\n",
    "Write a function that packs consecutive duplicates of list elements into sublists. <br>\n",
    "Eg., l = [1, 1, 1, 2, 2, 3, 3, 4] \\\\\n",
    "pack(l) -> [[1,1,1], [2,2], [3,3], [4]]"
   ]
  },
  {
   "cell_type": "code",
   "execution_count": 30,
   "metadata": {
    "colab": {},
    "colab_type": "code",
    "deletable": false,
    "id": "bzht8yx1ASU1",
    "nbgrader": {
     "checksum": "e084b0ca4c51660c9dae713c079f2ff7",
     "grade": false,
     "grade_id": "pack",
     "locked": false,
     "schema_version": 1,
     "solution": true
    }
   },
   "outputs": [
    {
     "data": {
      "text/plain": [
       "[[1, 1, 1], [2, 2], [3, 3], [4]]"
      ]
     },
     "execution_count": 30,
     "metadata": {},
     "output_type": "execute_result"
    }
   ],
   "source": [
    "def pack(l):\n",
    "    \"\"\"\n",
    "    Input:\n",
    "      l: Python list\n",
    "      \n",
    "    Output:\n",
    "      Returns a list with consecutive duplicate elements packed into sublists\n",
    "    \"\"\"\n",
    "    # YOUR CODE HERE\n",
    "    from itertools import groupby\n",
    "    return [list(group) for key, group in groupby(l)]\n",
    "\n",
    "l = [1, 1, 1, 2, 2, 3, 3, 4]\n",
    "pack(l) \n",
    "    \n",
    "    \n",
    "    "
   ]
  },
  {
   "cell_type": "markdown",
   "metadata": {
    "colab_type": "text",
    "id": "tD15nvwXASVr"
   },
   "source": [
    "# Q. Rotate list\n",
    " Write a function that rotates a list N places to the left and returns it. It should also work for negative values of n.\n",
    " Examples:<br>\n",
    "  rotate_list([a,b,c,d,e,f,g,h], 3)--> [d,e,f,g,h,a,b,c]\n",
    "   <br> rotate_list([a,b,c,d,e,f,g,h], -2)--> [g,h,a,b,c,d,e,f]"
   ]
  },
  {
   "cell_type": "code",
   "execution_count": 29,
   "metadata": {
    "colab": {},
    "colab_type": "code",
    "deletable": false,
    "id": "A35PMaxzASVs",
    "nbgrader": {
     "checksum": "729f44a1ee9fac4c351a7383cdbd77e0",
     "grade": false,
     "grade_id": "cell-59bc9ff73a000360",
     "locked": false,
     "schema_version": 1,
     "solution": true
    }
   },
   "outputs": [
    {
     "name": "stdout",
     "output_type": "stream",
     "text": [
      "['d', 'e', 'f', 'g', 'h', 'a', 'b', 'c']\n",
      "['g', 'h', 'a', 'b', 'c', 'd', 'e', 'f']\n"
     ]
    }
   ],
   "source": [
    "def rotate_list(l, n):\n",
    " \"\"\"\n",
    " Input:\n",
    "   l: Python list\n",
    "   n: number of indices by which to rotate the list\n",
    " Ouput:\n",
    "   python list which is l rotated to the left by n places\n",
    " \"\"\"\n",
    " # YOUR CODE HERE\n",
    " lst=list()\n",
    " lst=l[n:]+l[:n]\n",
    " return lst\n",
    "\n",
    "print(rotate_list(['a','b','c','d','e','f','g','h'], 3))\n",
    "print(rotate_list(['a','b','c','d','e','f','g','h'], -2))"
   ]
  },
  {
   "cell_type": "markdown",
   "metadata": {
    "colab_type": "text",
    "id": "t-hSQbSfASWY"
   },
   "source": [
    "# Q. Prime factors \n",
    " Determine the prime factors of a given positive integer<br>\n",
    " Write a function that constructs a flat list containing the prime factors in ascending order and returns it.\n",
    " Example:<br>\n",
    "  prime_factors(315)--> [3, 5, 7]"
   ]
  },
  {
   "cell_type": "code",
   "execution_count": 17,
   "metadata": {
    "colab": {},
    "colab_type": "code",
    "deletable": false,
    "id": "Egpbf3xaASWb",
    "nbgrader": {
     "checksum": "b486c5aa8ee4c8befb8d6c0c4ed031e8",
     "grade": false,
     "grade_id": "cell-8a81179106bc95ec",
     "locked": false,
     "schema_version": 1,
     "solution": true
    }
   },
   "outputs": [
    {
     "name": "stdout",
     "output_type": "stream",
     "text": [
      "[3, 5, 7]\n"
     ]
    }
   ],
   "source": [
    "import math\n",
    "\n",
    "#A function to check if a number is prime or not\n",
    "\n",
    "def isPrime(k):\n",
    "    if k==2 or k==3:\n",
    "        return True\n",
    "    for i in range(2,int(math.sqrt(k))+1):\n",
    "        if k%i==0:\n",
    "            return False\n",
    "    return True\n",
    "\n",
    "def prime_factors(n):\n",
    " \"\"\"\n",
    " Input:\n",
    "  n: int\n",
    " Output:\n",
    "  List containing prime factors of n in sorted order\n",
    " \"\"\" \n",
    " # YOUR CODE HERE\n",
    " lst=list()\n",
    " for i in range(2,n+1):\n",
    "    if n%i==0:\n",
    "        if isPrime(i):\n",
    "            lst.append(i)\n",
    " return lst\n",
    "\n",
    "print(prime_factors(315))\n",
    "    \n"
   ]
  }
 ],
 "metadata": {
  "colab": {
   "collapsed_sections": [],
   "name": "Quiz 1.ipynb",
   "provenance": [
    {
     "file_id": "1eTg4ancz0drqNxTKb-a39nkcy73Jn7IT",
     "timestamp": 1586064366095
    }
   ]
  },
  "kernelspec": {
   "display_name": "Python 3",
   "language": "python",
   "name": "python3"
  },
  "language_info": {
   "codemirror_mode": {
    "name": "ipython",
    "version": 3
   },
   "file_extension": ".py",
   "mimetype": "text/x-python",
   "name": "python",
   "nbconvert_exporter": "python",
   "pygments_lexer": "ipython3",
   "version": "3.7.3"
  }
 },
 "nbformat": 4,
 "nbformat_minor": 1
}
