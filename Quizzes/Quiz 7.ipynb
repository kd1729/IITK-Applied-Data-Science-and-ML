{
 "cells": [
  {
   "cell_type": "markdown",
   "metadata": {
    "colab_type": "text",
    "id": "vqDlulbcMSrE"
   },
   "source": [
    "### Note:\n",
    "- The test cases here only check that type of output that you are returning is correct. They don't check whether the values that you are returning are actually correct. "
   ]
  },
  {
   "cell_type": "markdown",
   "metadata": {
    "colab_type": "text",
    "id": "IGpNK5uo9nn9"
   },
   "source": [
    "## Perceptron Algorithm\n",
    "In this quiz, we are going to implement the perceptron learning algorithm which was discussed in class. (Refer to reference videos of Prof Behera)"
   ]
  },
  {
   "cell_type": "code",
   "execution_count": 12,
   "metadata": {
    "colab": {},
    "colab_type": "code",
    "id": "NBhwI8oMn34M"
   },
   "outputs": [],
   "source": [
    "import numpy as np\n",
    "import random\n",
    "import math"
   ]
  },
  {
   "cell_type": "markdown",
   "metadata": {
    "colab_type": "text",
    "id": "WXiXXDQxn34R"
   },
   "source": [
    "### Generate data\n",
    "Generate random points in two circles like this. <br>\n",
    "<img src = \"https://drive.google.com/uc?id=17doTxsW980SXmJwFrmZe93VKG6hzF2hc\">"
   ]
  },
  {
   "cell_type": "markdown",
   "metadata": {
    "colab_type": "text",
    "id": "whEARUEF91Qz"
   },
   "source": [
    "## 1"
   ]
  },
  {
   "cell_type": "markdown",
   "metadata": {
    "colab_type": "text",
    "id": "aTI6R-tFn34S"
   },
   "source": [
    "### Random points in circle\n",
    "Write a function that takes as parameters center - $c$, radius - $r$ and number ($n$) of random points and returns an array of $n$ random points in circle with center $c$ and radius $r$."
   ]
  },
  {
   "cell_type": "code",
   "execution_count": 13,
   "metadata": {
    "colab": {},
    "colab_type": "code",
    "id": "Gbs97vGRn34S"
   },
   "outputs": [],
   "source": [
    "def rand_points_in_circle(c, r, n):\n",
    "    \"\"\"\n",
    "    Inputs:\n",
    "        c: tuple of floats of length 2, co-ordinates of the center of circle\n",
    "        r: float, radius of circle\n",
    "        n: int, number of random points to generate\n",
    "    Outputs:\n",
    "        points: numpy array of shape (n, 2) with random points from circle \n",
    "    \"\"\"\n",
    "    ### Your Code Here\n",
    "    \n",
    "    matrix = [] \n",
    "    \n",
    "    for i in range(n):\n",
    "        \n",
    "        a = []\n",
    "        \n",
    "        alpha = 2 * math.pi * random.random()\n",
    "        radius = r * math.sqrt(random.random())\n",
    "    \n",
    "        x = radius * math.cos(alpha) + c[0]\n",
    "        y = radius * math.sin(alpha) + c[1]\n",
    "        \n",
    "        a.append(x)\n",
    "        a.append(y)\n",
    "        \n",
    "        matrix.append(a)\n",
    "    \n",
    "    arr = np.asarray(matrix)\n",
    "        \n",
    "    return arr\n",
    "        \n",
    "    \n",
    "    \n"
   ]
  },
  {
   "cell_type": "code",
   "execution_count": 14,
   "metadata": {
    "colab": {},
    "colab_type": "code",
    "id": "_AQsrCUp-PtR"
   },
   "outputs": [
    {
     "name": "stdout",
     "output_type": "stream",
     "text": [
      "Test passed 👍\n"
     ]
    }
   ],
   "source": [
    "\"\"\"Test Cases\"\"\"\n",
    "if __name__ == '__main__':\n",
    "  assert rand_points_in_circle((2., 2.), 3., 4).shape == (4, 2)\n",
    "  print('Test passed', '\\U0001F44D')"
   ]
  },
  {
   "cell_type": "markdown",
   "metadata": {
    "colab_type": "text",
    "id": "wE645zoG_lt5"
   },
   "source": [
    "## 2"
   ]
  },
  {
   "cell_type": "markdown",
   "metadata": {
    "colab_type": "text",
    "id": "Q_r_0quwn34W"
   },
   "source": [
    "### Generate Data\n",
    "Use the rand_circle function to generate the $+$ and $-$ points. <br>\n",
    "The $y$ values corresponding to $+$ points will be $+1$ and $-$ points will be $-1$"
   ]
  },
  {
   "cell_type": "code",
   "execution_count": 15,
   "metadata": {
    "colab": {},
    "colab_type": "code",
    "id": "weTUE47Bn34X"
   },
   "outputs": [],
   "source": [
    "def gen_data(c1, r1, c2, r2, n):\n",
    "  \"\"\"\n",
    "  This function generates 2n points\n",
    "    - n random points in circle with center c1 and radius r1 - These are the + points, y value for these points is +1\n",
    "    - n random points in circle with center c2 and radius r2 - These are the - points, y value for these points is -1\n",
    "\n",
    "  Inputs:\n",
    "    c1 - tuple of floats of length 2, co-ordinates of center of circle-1\n",
    "    r1 - float, radius of circle-1\n",
    "    c2 - tuple of floats of length 2, co-ordinates of center of circle-2\n",
    "    r2 -  float, radius of circle-2\n",
    "    n - int, Number of points in each circle\n",
    "\n",
    "  Outputs:\n",
    "    X : numpy array of samples of shape (2n, 2)\n",
    "    y : numpy array of labels (+1/ -1) of shape (2n, )\n",
    "  \"\"\"\n",
    "  ### Write your code here\n",
    "  \n",
    "  arr_1 = rand_points_in_circle(c1, r1, n)\n",
    "  y1 = np.full((n,), +1, dtype=int)\n",
    "\n",
    "  arr_2 = rand_points_in_circle(c2, r2, n)\n",
    "  y2 = np.full((n,), -1, dtype=int)\n",
    "\n",
    "  X = np.concatenate((arr_1, arr_2))\n",
    "  y = np.concatenate((y1, y2))\n",
    "  \n",
    "\n",
    "  return X, y"
   ]
  },
  {
   "cell_type": "code",
   "execution_count": 16,
   "metadata": {
    "colab": {},
    "colab_type": "code",
    "id": "HbB6eRZEBwIn"
   },
   "outputs": [
    {
     "name": "stdout",
     "output_type": "stream",
     "text": [
      "Test passed 👍\n"
     ]
    }
   ],
   "source": [
    "\"\"\" Test Cases \"\"\"\n",
    "if __name__ == \"__main__\":\n",
    "  X, y = gen_data((1, 1), 2, (10, 10), 4, 10)\n",
    "  assert X.shape == (20, 2)\n",
    "  assert y.shape == (20, )\n",
    "  print('Test passed', '\\U0001F44D')"
   ]
  },
  {
   "cell_type": "markdown",
   "metadata": {
    "colab_type": "text",
    "id": "dD5SwIo8Fzv2"
   },
   "source": [
    "## 3"
   ]
  },
  {
   "cell_type": "markdown",
   "metadata": {
    "colab_type": "text",
    "id": "qAgOW0tsn34h"
   },
   "source": [
    "### Create Perceptron model\n",
    "The perceptron model we shall use is defined as follows : <br>\n",
    "$$\n",
    "y_{pred} = \\text{Sign}(\\sum_{i=0}^{2}{w_i.x_i})\n",
    "$$\n",
    "where $\\text{Sign}$ is the sign function <br> \n",
    "$\\text{Sign}(x) = 1$ if $x>=0$ <br>\n",
    "$\\text{Sign}(x) = -1$ if $x<0$ <br>\n",
    "Also, <br>\n",
    "$x_0 = 1$ and $x_1$ and $x_2$ are the coordinates of the points. <br>\n",
    "$w_0$, $w_1$ and $w_2$ are parameters of our model.\n"
   ]
  },
  {
   "cell_type": "markdown",
   "metadata": {
    "colab_type": "text",
    "id": "SjxZChcln34i"
   },
   "source": [
    "#### Perceptron Model\n",
    "Write a function that given the values of $\\bf w$ and $\\bf X$, applies the perceptron model and returns the predictions."
   ]
  },
  {
   "cell_type": "code",
   "execution_count": 17,
   "metadata": {
    "colab": {},
    "colab_type": "code",
    "id": "PjEXde4Tn34j"
   },
   "outputs": [],
   "source": [
    "def perceptron_predict(w, X):\n",
    "    \"\"\"\n",
    "    Inputs:\n",
    "        w: numpy array of shape (3, ), model weights\n",
    "        X: numpy array of shape (n, 2), sample points\n",
    "    \n",
    "    Outputs:\n",
    "        y_pred: numpy array of shape (n,) with values +1 / -1 obtained applying perceptron model to X\n",
    "    \"\"\"\n",
    "    ### Your Code Here\n",
    "    \n",
    "    y = []\n",
    "    for row in X:\n",
    "        activation = w[0]\n",
    "        for i in range(len(row)-1):\n",
    "            activation += w[i + 1] * row[i]\n",
    "        if activation >= 0:\n",
    "            y.append(+1)\n",
    "        else:\n",
    "            y.append(-1)\n",
    "            \n",
    "    y_pred = np.asarray(y)\n",
    "        \n",
    "    return y_pred \n"
   ]
  },
  {
   "cell_type": "code",
   "execution_count": 18,
   "metadata": {},
   "outputs": [
    {
     "name": "stdout",
     "output_type": "stream",
     "text": [
      "Test passed 👍\n"
     ]
    }
   ],
   "source": [
    "\"\"\"Test cases\"\"\"\n",
    "if __name__ == '__main__':\n",
    "  y_pred = perceptron_predict(np.array([1, 2, 3]), np.arange(10).reshape(5, 2))\n",
    "  assert y_pred.shape == (5, )\n",
    "  print('Test passed', '\\U0001F44D')"
   ]
  },
  {
   "cell_type": "markdown",
   "metadata": {
    "colab_type": "text",
    "id": "lTwS1brRF4u2"
   },
   "source": [
    "## 4"
   ]
  },
  {
   "cell_type": "markdown",
   "metadata": {
    "colab_type": "text",
    "id": "jHz7dpz-n34m"
   },
   "source": [
    "### Loss\n",
    "Our loss function is ```number of misclassified points```. <br>\n",
    "Write a function that takes as inputs $w$, $X$, $y_d$ and returns two values \n",
    " - number of misclassified points, ```n_wrong```\n",
    " - a random misclassified point ```x_wrong``` \n",
    " \n",
    "If number of misclassified points is 0, then ```x_wrong``` should be ```None```"
   ]
  },
  {
   "cell_type": "code",
   "execution_count": 19,
   "metadata": {
    "colab": {},
    "colab_type": "code",
    "id": "-PqRUWhzn34n"
   },
   "outputs": [],
   "source": [
    "def misclassified(X, yd, w):\n",
    "    \"\"\"\n",
    "    Inputs:\n",
    "        X : numpy array of shape (n, 2), sample points\n",
    "        yd : numpy array of shape (n,), true labels\n",
    "        w : numpy array of shape (3, ), model weights\n",
    "    Outputs:\n",
    "        n_wrong: int, number of misclassified points\n",
    "        x_wrong: numpy array of shape (2, ) - a misclassified point, None if n_wrong is 0\n",
    "    \"\"\"\n",
    "    ### Your Code Here\n",
    "    \n",
    "    n_wrong = 0\n",
    "    y_out = perceptron_predict(w, X)\n",
    "    \n",
    "    for i in range(len(y_out)):\n",
    "        if y_out[i] != yd[i]:\n",
    "            n_wrong += 1\n",
    "        \n",
    "    if n_wrong == 0:\n",
    "        x_wrong = None\n",
    "    else:\n",
    "        k = random.randint(0, len(y_out))\n",
    "        x_wrong = X[k]\n",
    "        \n",
    "    return n_wrong, x_wrong"
   ]
  },
  {
   "cell_type": "code",
   "execution_count": 20,
   "metadata": {
    "colab": {},
    "colab_type": "code",
    "id": "tMZ93tOlIYb-"
   },
   "outputs": [
    {
     "name": "stdout",
     "output_type": "stream",
     "text": [
      "Test passed 👍\n"
     ]
    }
   ],
   "source": [
    "\"\"\" Test Cases\"\"\"\n",
    "if __name__ == '__main__':\n",
    "  n_wrong, x_wrong = misclassified(np.arange(10).reshape(5, 2), np.array([-1]*5), np.ones(3))\n",
    "  assert n_wrong > 0\n",
    "  assert x_wrong.shape == (2, )\n",
    "  print('Test passed', '\\U0001F44D')"
   ]
  },
  {
   "cell_type": "markdown",
   "metadata": {
    "colab_type": "text",
    "id": "uFATUfo_IWz9"
   },
   "source": [
    "## 5"
   ]
  },
  {
   "cell_type": "markdown",
   "metadata": {
    "colab_type": "text",
    "id": "0N4xQymen34t"
   },
   "source": [
    "### Training\n",
    "Apply perceptron learning algorithm and find parameters $w$ which perfectly separate the $+$ and $-$ points. <br>\n",
    "We shall use the following learning algorithm - <br>\n",
    "<br>\n",
    "- Start with random weights.\n",
    "- Do the following steps till all points are correctly classified:\n",
    "  - Pick a misclassified point $(x_i, yd_i)$ {$yd_i$ is true label corresponding to $x_i$}\n",
    "  - Update weights:\n",
    "$$\n",
    "w_{new} = w_{old} + yd_i.x_i \n",
    "$$"
   ]
  },
  {
   "cell_type": "code",
   "execution_count": 21,
   "metadata": {
    "colab": {},
    "colab_type": "code",
    "id": "a2Pulvphn34u"
   },
   "outputs": [],
   "source": [
    "def perceptron_train(X, y):\n",
    "  \"\"\"\n",
    "  This function trains the perceptron model starting from random weights.\n",
    "\n",
    "  Inputs:\n",
    "    X: numpy array of shape (n, 2) - sample points\n",
    "    y: numpy array of shape (n, ) - true labels\n",
    "  \n",
    "  Outputs:\n",
    "    w: numpy array of shape (3, ) - model parameters after training\n",
    "  \"\"\"\n",
    "  ### Write your code here\n",
    "  \n",
    "  w = np.array([1, 1, 1])\n",
    "  eta = 1 \n",
    "  X_new = np.insert(X, 2, 1, axis=1)\n",
    "  y_pred = perceptron_predict(w, X)\n",
    "  \n",
    "  i = 1\n",
    "\n",
    "  while (i<len(y)):\n",
    "        \n",
    "        n_wrong, x_wrong = misclassified(X, y, w)\n",
    "        \n",
    "        if n_wrong > 0:\n",
    "            index = np.where( X == x_wrong )\n",
    "            w[0] = w[0] + eta * ( y[i-1] - y_pred[i-1] ) * X_new[i-1][0]\n",
    "            w[1] = w[1] + eta * ( y[i-1] - y_pred[i-1] ) * X_new[i-1][1]\n",
    "            w[2] = w[2] + eta * ( y[i-1] - y_pred[i-1] )* X_new[i-1][2]\n",
    "            \n",
    "        else:\n",
    "            break    \n",
    "            \n",
    "        i += 1\n",
    "        \n",
    "\n",
    "  return w"
   ]
  }
 ],
 "metadata": {
  "colab": {
   "collapsed_sections": [],
   "name": "Quiz 7.ipynb",
   "provenance": [
    {
     "file_id": "1yOie5MfHIFK9Ykx-lPJ49E8bsNbqKyHx",
     "timestamp": 1588935910713
    }
   ]
  },
  "kernelspec": {
   "display_name": "Python 3",
   "language": "python",
   "name": "python3"
  },
  "language_info": {
   "codemirror_mode": {
    "name": "ipython",
    "version": 3
   },
   "file_extension": ".py",
   "mimetype": "text/x-python",
   "name": "python",
   "nbconvert_exporter": "python",
   "pygments_lexer": "ipython3",
   "version": "3.7.3"
  }
 },
 "nbformat": 4,
 "nbformat_minor": 1
}
