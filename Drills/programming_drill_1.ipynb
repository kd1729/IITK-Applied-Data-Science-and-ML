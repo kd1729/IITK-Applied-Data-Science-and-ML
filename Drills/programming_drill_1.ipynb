{
 "cells": [
  {
   "cell_type": "markdown",
   "metadata": {
    "colab_type": "text",
    "id": "GNJbDM4HV9J8"
   },
   "source": [
    "1. Write exercises into this notebook. \n",
    "2. Run the exercises you wrote. Make sure they match the expected output.\n",
    "3. Fix them when they are broken. \n",
    "4. Repeat."
   ]
  },
  {
   "cell_type": "markdown",
   "metadata": {
    "colab_type": "text",
    "id": "QoXNSVtrVgvb"
   },
   "source": [
    "## Drill #1 - Intro to print<br>\n",
    "<img src=\"https://drive.google.com/uc?id=1HCwzFtQKoV3fZYK4_Eo9P-CApIL8geQi\" width=\"300\"> \n",
    "#### Expected output\n",
    "<img src=\"https://drive.google.com/uc?id=1tAXjMEO7BBHLZepK1Zgiy1G6S1NHCPKY\" width=\"200\">\n"
   ]
  },
  {
   "cell_type": "code",
   "execution_count": 1,
   "metadata": {
    "colab": {},
    "colab_type": "code",
    "id": "3O3pXk93BMlV"
   },
   "outputs": [
    {
     "name": "stdout",
     "output_type": "stream",
     "text": [
      "Hello World!\n",
      "Hello Again\n",
      "This is an AI course\n",
      "This is fun\n",
      "It is 'apparently' illusory.\n",
      "He told me, \"You got this!\" \n"
     ]
    }
   ],
   "source": [
    "## Write your code here\n",
    "print(\"Hello World!\")\n",
    "print(\"Hello Again\")\n",
    "print(\"This is an AI course\")\n",
    "print(\"This is fun\")\n",
    "print(\"It is 'apparently' illusory.\")\n",
    "print('He told me, \"You got this!\" ')"
   ]
  },
  {
   "cell_type": "markdown",
   "metadata": {
    "colab_type": "text",
    "id": "1dq3VrP8Xil8"
   },
   "source": [
    "#### 1.2 Make your script print another line"
   ]
  },
  {
   "cell_type": "code",
   "execution_count": 2,
   "metadata": {
    "colab": {},
    "colab_type": "code",
    "id": "558jwU0CCHYG"
   },
   "outputs": [
    {
     "name": "stdout",
     "output_type": "stream",
     "text": [
      "Hello World!\n",
      "Hello Again\n",
      "This is an AI course\n",
      "This is fun\n",
      "It is 'apparently' illusory.\n",
      "He told me, \"You got this!\" \n",
      "Bye! See you soon\n"
     ]
    }
   ],
   "source": [
    "## Write your code here\n",
    "print(\"Hello World!\")\n",
    "print(\"Hello Again\")\n",
    "print(\"This is an AI course\")\n",
    "print(\"This is fun\")\n",
    "print(\"It is 'apparently' illusory.\")\n",
    "print('He told me, \"You got this!\" ')\n",
    "print(\"Bye! See you soon\")"
   ]
  },
  {
   "cell_type": "markdown",
   "metadata": {
    "colab_type": "text",
    "id": "MCra17UCXslF"
   },
   "source": [
    "# Drill #2 - Comments <br>\n",
    "<img src=\"https://drive.google.com/uc?id=1SUDq-JoqLdajc03i9Ag76GIpTUeJliW1\" width=\"500\">\n",
    "\n",
    "#### Expected Output\n",
    "<img src=\"https://drive.google.com/uc?id=1ym7NnsNgRJJ6gKsM0IIu1mA7PC63Kb9T\" width=\"250\">"
   ]
  },
  {
   "cell_type": "code",
   "execution_count": 3,
   "metadata": {
    "colab": {},
    "colab_type": "code",
    "id": "19pWn_d0Xrad"
   },
   "outputs": [
    {
     "name": "stdout",
     "output_type": "stream",
     "text": [
      "I could have code like this.\n",
      "This will run.\n"
     ]
    }
   ],
   "source": [
    "## Write your code here (Write all of it, including the comments)\n",
    "# A comment, this is so you can read your program later.\n",
    "#Anything after the # is ignored by python.\n",
    "\n",
    "print(\"I could have code like this.\")# and the comment after is ignored\n",
    "\n",
    "# You can also use a comment to \"disable\" or comment out code:\n",
    "# print(\"This won't run.\")\n",
    "\n",
    "print(\"This will run.\")"
   ]
  },
  {
   "cell_type": "markdown",
   "metadata": {
    "colab_type": "text",
    "id": "gvjj1NTNaFeN"
   },
   "source": [
    "### 2.1 \n",
    "Start at the last line, and check each word in reverse against what you should have typed. If you find more mistakes, fix them. (This is a trick to make sure you do not attach meaning to any part of code and are able to look at each piece exactly. It is a handy trick to catch errors)"
   ]
  },
  {
   "cell_type": "code",
   "execution_count": 4,
   "metadata": {
    "colab": {},
    "colab_type": "code",
    "id": "aCNK7PxIXzDX"
   },
   "outputs": [],
   "source": [
    "## Write your code here\n",
    "\n",
    "#Checked each word in reverse. No mistakes found."
   ]
  },
  {
   "cell_type": "markdown",
   "metadata": {
    "colab_type": "text",
    "id": "myAZjSq4awLj"
   },
   "source": [
    "### 2.2 \n",
    "Read what you typed above out loud, including saying each character by its name. If you find more mistakes, fix them."
   ]
  },
  {
   "cell_type": "code",
   "execution_count": 5,
   "metadata": {
    "colab": {},
    "colab_type": "code",
    "id": "fKX_ltdFZhgu"
   },
   "outputs": [],
   "source": [
    "## Write your code here\n",
    "\n",
    "#Read what I typed above out loud, still no mistakes found."
   ]
  },
  {
   "cell_type": "markdown",
   "metadata": {
    "colab_type": "text",
    "id": "SVIoH6EE1ZoH"
   },
   "source": [
    "# Drill #3 - Mathematical operations\n",
    "Type in the following code exactly before you run it. <br><br>\n",
    "<img src=\"https://drive.google.com/uc?id=1FvLTSNJ84Da_KHSczhxg0Q0Wgf7Z3DDa\" width=\"400\"><br>\n",
    "#### Expected Output\n",
    "<img src=\"https://drive.google.com/uc?id=1NulYhDSBqL3-7EzbYwSl5RaHHaZIvB73\" width=\"200\">"
   ]
  },
  {
   "cell_type": "code",
   "execution_count": 6,
   "metadata": {
    "colab": {},
    "colab_type": "code",
    "id": "4mGB9iw_1cP5"
   },
   "outputs": [
    {
     "name": "stdout",
     "output_type": "stream",
     "text": [
      "I will count the number of fruits:\n",
      "Apples 47.0\n",
      "Mangoes 97\n",
      "Now I will count the vegetables:\n",
      "6.75\n",
      "Is it true that 3 + 2 < 5 - 7?\n",
      "False\n",
      "What is 3*2? 6\n",
      "What is 5 - 7? -2\n",
      "Is it greater? True\n",
      "Is it greater or equal? True\n",
      "Is it less or equal? False\n"
     ]
    }
   ],
   "source": [
    "## Write your code here\n",
    "print(\"I will count the number of fruits:\")\n",
    "\n",
    "print(\"Apples\", 34 + 26/2)\n",
    "print(\"Mangoes\", 100 - 25 * 3 % 4)\n",
    "\n",
    "print(\"Now I will count the vegetables:\")\n",
    "print(3 + 2 + 1 - 5 + 4 % 2 - 1 / 4 + 6)\n",
    "\n",
    "print(\"Is it true that 3 + 2 < 5 - 7?\")\n",
    "\n",
    "print(3 + 2 < 5 - 7)\n",
    "\n",
    "print(\"What is 3*2?\", 3 * 2)\n",
    "print(\"What is 5 - 7?\", 5-7)\n",
    "\n",
    "print(\"Is it greater?\", 5 > -2)\n",
    "print(\"Is it greater or equal?\", 5 >= -2)\n",
    "print(\"Is it less or equal?\", 5 <= -2)"
   ]
  },
  {
   "cell_type": "markdown",
   "metadata": {
    "colab_type": "text",
    "id": "70z8KFY84v7K"
   },
   "source": [
    "### 3.1 \n",
    "Find something you need to calculate and write the code that does it."
   ]
  },
  {
   "cell_type": "code",
   "execution_count": 8,
   "metadata": {
    "colab": {},
    "colab_type": "code",
    "id": "bSWEB1vV3JvF"
   },
   "outputs": [
    {
     "name": "stdout",
     "output_type": "stream",
     "text": [
      "What is 5 times 6 added to square of 7\n",
      "79\n"
     ]
    }
   ],
   "source": [
    "## Write your code here\n",
    "print(\"What is 5 times 6 added to square of 7\")\n",
    "print(5*6+7**2)"
   ]
  },
  {
   "cell_type": "markdown",
   "metadata": {
    "colab_type": "text",
    "id": "TE_URpDk5IZg"
   },
   "source": [
    "### 3.2 \n",
    "You can use parentheses to change the order of operations. For eg., 2 + (3 * 5) is different from (2 + 3)*5. <br> Play with parentheses to see how the results change."
   ]
  },
  {
   "cell_type": "code",
   "execution_count": 7,
   "metadata": {
    "colab": {},
    "colab_type": "code",
    "id": "-H6gAYG55qBj"
   },
   "outputs": [
    {
     "name": "stdout",
     "output_type": "stream",
     "text": [
      "2 + (3 * 5) is 17\n",
      "(2 + 3) * 5 is 25\n"
     ]
    }
   ],
   "source": [
    "## Write your code here\n",
    "print(\"2 + (3 * 5) is\",2+(3*5))\n",
    "#2+15=17\n",
    "print(\"(2 + 3) * 5 is\",(2+3)*5) \n",
    "#5*5=25"
   ]
  },
  {
   "cell_type": "markdown",
   "metadata": {
    "colab_type": "text",
    "id": "AMRJ75_JY8Ep"
   },
   "source": [
    "#Drill #4 - Variables\n",
    "<img src=\"https://drive.google.com/uc?id=1k2pTmgJ6pwKqC8xY9GQg83qfKry8TUci\" width=\"400\">\n",
    "\n",
    "### Expected Output\n",
    "<img src=\"https://drive.google.com/uc?id=1GjRjri4bjr7rEgq8hKwZ2fWDH6ld3EOU\" width=\"300\">"
   ]
  },
  {
   "cell_type": "markdown",
   "metadata": {
    "colab_type": "text",
    "id": "A5j13VELdoV9"
   },
   "source": [
    "###4.1 \n",
    "Check what happens if you use 50.0 instead of 50 for capacity_classroom. (Decimal numbers such as 50.0 are called floating point numbers)\n"
   ]
  },
  {
   "cell_type": "code",
   "execution_count": 9,
   "metadata": {
    "colab": {},
    "colab_type": "code",
    "id": "1x0QH2NecBEc"
   },
   "outputs": [
    {
     "name": "stdout",
     "output_type": "stream",
     "text": [
      "There are  20 classrooms available\n",
      "There are only 250 students available\n",
      "A maximum of  1000.0 students can be accommodated in the school\n",
      "There will be 15.0 empty classrooms in the school\n",
      "There are  30 teachers available to teach\n",
      "Every teacher takes care of about 8.333333333333334 students\n"
     ]
    }
   ],
   "source": [
    "### Write your code here\n",
    "classrooms = 20\n",
    "capacity_classroom = 50.0\n",
    "students = 250\n",
    "teachers = 30\n",
    "max_students = classrooms*capacity_classroom\n",
    "classrooms_not_used = classrooms - students/capacity_classroom\n",
    "average_students_per_teacher = students/teachers\n",
    "\n",
    "print(\"There are \", classrooms, \"classrooms available\")\n",
    "print(\"There are only\", students,  \"students available\")\n",
    "print(\"A maximum of \", max_students, \"students can be accommodated in the school\")\n",
    "print(\"There will be\", classrooms_not_used, \"empty classrooms in the school\")\n",
    "print(\"There are \", teachers, \"teachers available to teach\")\n",
    "print(\"Every teacher takes care of about\", average_students_per_teacher, \"students\")"
   ]
  },
  {
   "cell_type": "markdown",
   "metadata": {
    "colab_type": "text",
    "id": "Lf5cNYOBh1dz"
   },
   "source": [
    "###4.2\n",
    "Add a comment before each line in the code to describe what that line of code is doing in plain english."
   ]
  },
  {
   "cell_type": "code",
   "execution_count": 10,
   "metadata": {
    "colab": {},
    "colab_type": "code",
    "id": "AYE9BvA5cTxC"
   },
   "outputs": [
    {
     "name": "stdout",
     "output_type": "stream",
     "text": [
      "There are  20 classrooms available\n",
      "There are only 250 students available\n",
      "A maximum of  1000.0 students can be accommodated in the school\n",
      "There will be 15.0 empty classrooms in the school\n",
      "There are  30 teachers available to teach\n",
      "Every teacher takes care of about 8.333333333333334 students\n"
     ]
    }
   ],
   "source": [
    "### Write your code here\n",
    "#declaring an int variable denoting number of classrooms in the school\n",
    "classrooms = 20\n",
    "#declaring a float variable denoting capacity of a classroom\n",
    "capacity_classroom = 50.0\n",
    "#declaring an int variable indicating the number of students currently studying in the school\n",
    "students = 250\n",
    "#declaring an int variable indicating the number of teachers currently teaching in the school\n",
    "teachers = 30\n",
    "#declaring a float variable indicating the maximum number of students that at one time can be admitted in the school\n",
    "max_students = classrooms*capacity_classroom\n",
    "#declaring a float variable denoting the number of unused classrooms in the school\n",
    "classrooms_not_used = classrooms - students/capacity_classroom\n",
    "#declaring a float variable indicating the number of students under one teacher's supervision\n",
    "average_students_per_teacher = students/teachers\n",
    "\n",
    "#Each statement above also performs the required logical calculations\n",
    "\n",
    "#printing the total number of classrooms in school\n",
    "print(\"There are \", classrooms, \"classrooms available\")\n",
    "#printing the current student count in school\n",
    "print(\"There are only\", students,  \"students available\")\n",
    "#printing the maximum number of students that can be admitted in the school\n",
    "print(\"A maximum of \", max_students, \"students can be accommodated in the school\")\n",
    "#printing the number of unused classrooms inside the school\n",
    "print(\"There will be\", classrooms_not_used, \"empty classrooms in the school\")\n",
    "#printing the number of teachers in school\n",
    "print(\"There are \", teachers, \"teachers available to teach\")\n",
    "#printing the students to teacher ratio of the school\n",
    "print(\"Every teacher takes care of about\", average_students_per_teacher, \"students\")\n"
   ]
  },
  {
   "cell_type": "code",
   "execution_count": null,
   "metadata": {},
   "outputs": [],
   "source": []
  }
 ],
 "metadata": {
  "colab": {
   "authorship_tag": "ABX9TyM1ZF0P2n8xIzL2F00pz3+d",
   "name": "programming_drill_1.ipynb",
   "provenance": []
  },
  "kernelspec": {
   "display_name": "Python 3",
   "language": "python",
   "name": "python3"
  },
  "language_info": {
   "codemirror_mode": {
    "name": "ipython",
    "version": 3
   },
   "file_extension": ".py",
   "mimetype": "text/x-python",
   "name": "python",
   "nbconvert_exporter": "python",
   "pygments_lexer": "ipython3",
   "version": "3.7.3"
  }
 },
 "nbformat": 4,
 "nbformat_minor": 1
}
