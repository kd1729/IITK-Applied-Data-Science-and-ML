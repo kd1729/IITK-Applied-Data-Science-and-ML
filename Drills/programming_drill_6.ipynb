{
 "cells": [
  {
   "cell_type": "markdown",
   "metadata": {
    "colab_type": "text",
    "id": "rHKozONN38LF"
   },
   "source": [
    "#Drill #23\n",
    "<img src=\"https://drive.google.com/uc?id=169lw1cIPwYqUbpY9SxUwUHJhTKSbJid7\" width=\"700\">\n",
    "\n",
    "#### Expected Output\n",
    "<img src=\"https://drive.google.com/uc?id=1sbTsUAvgn-GEgimm_IEvv_58rLbUxovy\" width=\"400\">"
   ]
  },
  {
   "cell_type": "code",
   "execution_count": 4,
   "metadata": {
    "colab": {},
    "colab_type": "code",
    "id": "NStJlgl62Kp8"
   },
   "outputs": [
    {
     "name": "stdout",
     "output_type": "stream",
     "text": [
      "This is count 1\n",
      "This is count 2\n",
      "This is count 3\n",
      "This is count 4\n",
      "This is count 5\n",
      "A fruit of type: apples\n",
      "A fruit of type: oranges\n",
      "A fruit of type: pears\n",
      "A fruit of type: apricots\n",
      "I got 1\n",
      "I got pennies\n",
      "I got 2\n",
      "I got dimes\n",
      "I got 3\n",
      "I got quarters\n",
      "Adding 0 to the list.\n",
      "Adding 1 to the list.\n",
      "Adding 2 to the list.\n",
      "Adding 3 to the list.\n",
      "Adding 4 to the list.\n",
      "Adding 5 to the list.\n",
      "Element was: 0\n",
      "Element was: 1\n",
      "Element was: 2\n",
      "Element was: 3\n",
      "Element was: 4\n",
      "Element was: 5\n"
     ]
    }
   ],
   "source": [
    "#### Write your code here\n",
    "the_count = [1, 2, 3, 4, 5] \n",
    "fruits = ['apples', 'oranges', 'pears', 'apricots'] \n",
    "change = [1, 'pennies', 2, 'dimes', 3, 'quarters' ]\n",
    "\n",
    "# this first kind of for-loop goes through a list\n",
    "for number in the_count:\n",
    "    print(f\"This is count {number}\")\n",
    "\n",
    "#same as above \n",
    "for fruit in fruits:\n",
    "    print(f\"A fruit of type: {fruit}\")\n",
    "          \n",
    "#also we can go through mixed lists too \n",
    "# notice we have to use {} since we don't know what's in it \n",
    "for i in change:\n",
    "    print(f\"I got {i}\")\n",
    "\n",
    "# we can also build lists, first start with an empty one \n",
    "elements = []\n",
    "\n",
    "# then use the range function to do 0 to 5 counts \n",
    "for i in range(0, 6):\n",
    "    print(f\"Adding {i} to the list.\") \n",
    "    elements.append(i)\n",
    "\n",
    "#now we can print them too \n",
    "for i in elements:\n",
    "    print(f\"Element was: {i}\")\n",
    "\n"
   ]
  },
  {
   "cell_type": "markdown",
   "metadata": {
    "colab_type": "text",
    "id": "3-zjNUyf5lUG"
   },
   "source": [
    "# Drill #24\n",
    "<img src=\"https://drive.google.com/uc?id=18MUCU7iPd68Kyb5tnv1ZlzzYROhNWnqp\" width=\"700\">\n",
    "\n",
    "## Expected Output\n",
    "<img src=\"https://drive.google.com/uc?id=1XnXzP-G-TtmKaynurnwb2F77Biigfh58\" width=\"500\">"
   ]
  },
  {
   "cell_type": "code",
   "execution_count": 6,
   "metadata": {
    "colab": {},
    "colab_type": "code",
    "id": "7qW-3fwv3i7i"
   },
   "outputs": [
    {
     "name": "stdout",
     "output_type": "stream",
     "text": [
      "At the top i is 0\n",
      "Numbers now: [0]\n",
      "At the bottom i is 1\n",
      "At the top i is 1\n",
      "Numbers now: [0, 1]\n",
      "At the bottom i is 2\n",
      "At the top i is 2\n",
      "Numbers now: [0, 1, 2]\n",
      "At the bottom i is 3\n",
      "At the top i is 3\n",
      "Numbers now: [0, 1, 2, 3]\n",
      "At the bottom i is 4\n",
      "At the top i is 4\n",
      "Numbers now: [0, 1, 2, 3, 4]\n",
      "At the bottom i is 5\n",
      "At the top i is 5\n",
      "Numbers now: [0, 1, 2, 3, 4, 5]\n",
      "At the bottom i is 6\n",
      "The numbers:\n",
      "0\n",
      "1\n",
      "2\n",
      "3\n",
      "4\n",
      "5\n"
     ]
    }
   ],
   "source": [
    "## Write your code here\n",
    "i=0\n",
    "numbers = []\n",
    "\n",
    "while(i < 6):\n",
    "    print(f\"At the top i is {i}\") \n",
    "    numbers.append(i)\n",
    "\n",
    "    i= i+1 \n",
    "    print(\"Numbers now:\", numbers) \n",
    "    print(f\"At the bottom i is {i}\")\n",
    "\n",
    "print(\"The numbers:\")\n",
    "\n",
    "for num in numbers:\n",
    "    print(num)\n",
    "\n"
   ]
  },
  {
   "cell_type": "markdown",
   "metadata": {
    "colab_type": "text",
    "id": "Qt5uGr2udp3y"
   },
   "source": [
    "#Drill #25\n",
    "<img src=\"https://drive.google.com/uc?id=1hKejI4MsqhSWAvrsQvCwiND9KeROQl_E\" width=\"700\">\n",
    "\n",
    "#### Expected Output\n",
    "<img src=\"https://drive.google.com/uc?id=1yZ-wjCv0ao1NIk5TYSupqOMjbxjoVq7K\" width=\"600\">"
   ]
  },
  {
   "cell_type": "code",
   "execution_count": 10,
   "metadata": {
    "colab": {},
    "colab_type": "code",
    "id": "jpcSDENB6T8B"
   },
   "outputs": [
    {
     "name": "stdout",
     "output_type": "stream",
     "text": [
      "Wait there are not 10 things in that list. Let's fix that.\n",
      "adding:  Boy\n",
      "There are 7 items now\n",
      "adding:  Girl\n",
      "There are 8 items now\n",
      "adding:  Banana\n",
      "There are 9 items now\n",
      "adding:  Corn\n",
      "There are 10 items now\n",
      "There we go:  ['Apples', 'Oranges', 'Crows', 'Telephone', 'Light', 'Sugar', 'Boy', 'Girl', 'Banana', 'Corn']\n",
      "let's do some things with stuff\n",
      "Oranges\n",
      "Corn\n",
      "Corn\n",
      "Apples Oranges Crows Telephone Light Sugar Boy Girl Banana\n",
      "Telephone#Light\n"
     ]
    }
   ],
   "source": [
    "### Write your code here\n",
    "ten_things= \"Apples Oranges Crows Telephone Light Sugar\"\n",
    "\n",
    "print(\"Wait there are not 10 things in that list. Let's fix that.\")\n",
    "\n",
    "stuff = ten_things.split( ) \n",
    "more_stuff = [\"Day\", \"Night\", \"Song\", \"Frisbee\", \"Corn\", \"Banana\", \"Girl\", \"Boy\"]\n",
    "\n",
    "while(len(stuff)!=10):\n",
    "    next_one = more_stuff.pop() \n",
    "    print(\"adding: \", next_one) \n",
    "    stuff.append(next_one) \n",
    "    print(f\"There are {len(stuff)} items now\")\n",
    "\n",
    "print(\"There we go: \", stuff)\n",
    "\n",
    "print(\"let's do some things with stuff\")\n",
    "\n",
    "print(stuff[1]) \n",
    "print(stuff[-1]) \n",
    "print(stuff.pop())\n",
    "print(' '.join(stuff)) \n",
    "print('#'.join(stuff[3:5]))\n"
   ]
  },
  {
   "cell_type": "raw",
   "metadata": {
    "colab": {},
    "colab_type": "code",
    "id": "HzdU0fB0eiFz"
   },
   "source": []
  }
 ],
 "metadata": {
  "colab": {
   "authorship_tag": "ABX9TyMaZOh/+A+HWXJxE14az2ja",
   "name": "programming_drill_6.ipynb",
   "provenance": []
  },
  "kernelspec": {
   "display_name": "Python 3",
   "language": "python",
   "name": "python3"
  },
  "language_info": {
   "codemirror_mode": {
    "name": "ipython",
    "version": 3
   },
   "file_extension": ".py",
   "mimetype": "text/x-python",
   "name": "python",
   "nbconvert_exporter": "python",
   "pygments_lexer": "ipython3",
   "version": "3.7.3"
  }
 },
 "nbformat": 4,
 "nbformat_minor": 1
}
