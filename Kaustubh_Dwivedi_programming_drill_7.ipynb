{
 "cells": [
  {
   "cell_type": "markdown",
   "metadata": {
    "colab_type": "text",
    "id": "LwRm_X6wpq5L"
   },
   "source": [
    "#Drill #26\n",
    "<img src=\"https://drive.google.com/uc?id=15hDyhOUDhlurykvBy4vj57IYDAkqIMBP\" width=\"700\">\n",
    "\n",
    "#Expected Output\n",
    "<img src=\"https://drive.google.com/uc?id=19Kh35vzRS1yULYEAloMwA1yI6ajfPEI7\" width=\"100\">"
   ]
  },
  {
   "cell_type": "code",
   "execution_count": 2,
   "metadata": {
    "colab": {},
    "colab_type": "code",
    "id": "bGaA_J_Bpapm"
   },
   "outputs": [
    {
     "name": "stdout",
     "output_type": "stream",
     "text": [
      "Hari\n",
      "16\n",
      "74.0\n",
      "Kanpur\n"
     ]
    }
   ],
   "source": [
    "### Write your code here\n",
    "stuff = {'name': 'Hari', 'age': '16', 'height': 6*12. + 2}\n",
    "print(stuff['name'])\n",
    "print(stuff['age']) \n",
    "print(stuff['height'])\n",
    "\n",
    "## add one more field\n",
    "stuff['city']='Kanpur'\n",
    "print(stuff['city'])\n"
   ]
  },
  {
   "cell_type": "markdown",
   "metadata": {
    "colab_type": "text",
    "id": "nk5zDtNMtJSI"
   },
   "source": [
    "# Drill #27\n",
    "<img src=\"https://drive.google.com/uc?id=1eH9ep0AX9B7t6841wqWzgF5Z_3yXfolK\" width=\"700\">\n",
    "\n",
    "# Expected Output\n",
    "<img src=\"https://drive.google.com/uc?id=1s9igAQj39y7jp4u4kWQEYKy_Rh0bStH-\" width=\"400\">"
   ]
  },
  {
   "cell_type": "code",
   "execution_count": 8,
   "metadata": {
    "colab": {},
    "colab_type": "code",
    "id": "SfYRKcY-tCOE"
   },
   "outputs": [
    {
     "name": "stdout",
     "output_type": "stream",
     "text": [
      "This is all uppercase- PYTHON ROCKS\n",
      "Now this is lowercase - python rocks\n",
      "I have split the string in two - PYTHON and ROCKS\n",
      "I am joining the split string again to get - PYTHON really ROCKS\n"
     ]
    }
   ],
   "source": [
    "### Write your code here\n",
    "uc = 'PYTHON ROCKS'\n",
    "\n",
    "print(f\"This is all uppercase- {uc}\")\n",
    "\n",
    "print(f\"Now this is lowercase - {uc.lower()}\")\n",
    "\n",
    "uc_split = uc.split(\" \") \n",
    "print(f'I have split the string in two - {uc_split[0]} and {uc_split[1]}')\n",
    "print(f'I am joining the split string again to get - {uc_split[0] + \" really \" + uc_split[1]}')\n"
   ]
  },
  {
   "cell_type": "markdown",
   "metadata": {
    "colab_type": "text",
    "id": "IYxSb5vAuoQs"
   },
   "source": [
    "# Drill #28\n",
    "<img src=\"https://drive.google.com/uc?id=1uchcSeNEcXeL-a5uRNAte-tQduVcds-X\" width=\"700\"> //\n",
    "<img src=\"https://drive.google.com/uc?id=16hZqIZ4GYCy-OWRVG4h1-M-_x__thrKt\" width=\"700\"> //\n",
    "<img src=\"https://drive.google.com/uc?id=1Ktb4Wf0A82_aD_L0otp74o3lyIjQuXCn\" width=\"700\"> //\n",
    "\n",
    "# Expected Output\n",
    "<img src=\"https://drive.google.com/uc?id=1_GcsstP7aMtm1vAUh4k6AaK5kaWDqO7V\" width=\"400\">"
   ]
  },
  {
   "cell_type": "code",
   "execution_count": 18,
   "metadata": {
    "colab": {},
    "colab_type": "code",
    "id": "6NfW4brctG9D"
   },
   "outputs": [
    {
     "name": "stdout",
     "output_type": "stream",
     "text": [
      "----------\n",
      "UP state has:  Kanpur\n",
      "AP state has:  Vishakhapatnam\n",
      "----------\n",
      "West Bengal's abbreviation is :  WB\n",
      "Tamil Nadu's abbreviation is:  TN\n",
      "----------\n",
      "Tamil Nadu has:  Chennai\n",
      "West Bengal has:  Kolkata\n",
      "----------\n",
      "Uttar Pradesh is abbreviated UP\n",
      "Andhra Pradesh is abbreviated AP\n",
      "Telangana is abbreviated TL\n",
      "West Bengal is abbreviated WB\n",
      "Tamil Nadu is abbreviated TN\n",
      "----------\n",
      "UP has the city Kanpur\n",
      "TN has the city Chennai\n",
      "WB has the city Kolkata\n",
      "AP has the city Vishakhapatnam\n",
      "TL has the city Hyderabad\n",
      "------------------\n",
      "Uttar Pradesh is abbreviated UP\n",
      "and has city Kanpur\n",
      "----------\n",
      "Sorry, no Jharkhand\n",
      "The city for the state HN us : Does not exist\n",
      "Andhra Pradesh is abbreviated AP\n",
      "and has city Vishakhapatnam\n",
      "----------\n",
      "Sorry, no Jharkhand\n",
      "The city for the state HN us : Does not exist\n",
      "Telangana is abbreviated TL\n",
      "and has city Hyderabad\n",
      "----------\n",
      "Sorry, no Jharkhand\n",
      "The city for the state HN us : Does not exist\n",
      "West Bengal is abbreviated WB\n",
      "and has city Kolkata\n",
      "----------\n",
      "Sorry, no Jharkhand\n",
      "The city for the state HN us : Does not exist\n",
      "Tamil Nadu is abbreviated TN\n",
      "and has city Chennai\n",
      "----------\n",
      "Sorry, no Jharkhand\n",
      "The city for the state HN us : Does not exist\n"
     ]
    }
   ],
   "source": [
    "### Write your code here\n",
    "#create a mapping of states\n",
    "states = {\n",
    "    'Uttar Pradesh': 'UP',\n",
    "    'Andhra Pradesh' : 'AP',\n",
    "    'Telangana': 'TL',\n",
    "    'West Bengal': 'WB',\n",
    "    'Tamil Nadu': 'TN'\n",
    "}\n",
    "\n",
    "\n",
    "# create a basic set of states and some cities in them\n",
    "cities = { \n",
    "    'UP' : 'Kanpur',\n",
    "    'TN': 'Chennai',\n",
    "    'WB': 'Kolkata'\n",
    "}\n",
    "\n",
    "#add some more cities\n",
    "cities ['AP']= 'Vishakhapatnam'\n",
    "cities['TL'] = 'Hyderabad'\n",
    "\n",
    "#print out some cities\n",
    "print('-' * 10) \n",
    "print('UP state has: ', cities['UP'])\n",
    "print('AP state has: ', cities['AP'])\n",
    "\n",
    "\n",
    "# print some states \n",
    "print('-' * 10) \n",
    "print('West Bengal\\'s abbreviation is : ', states['West Bengal' ]) \n",
    "print('Tamil Nadu\\'s abbreviation is: ', states['Tamil Nadu'])\n",
    "\n",
    "# do it by using the states and cities dict \n",
    "print('-' * 10) \n",
    "print(\"Tamil Nadu has: \", cities[states['Tamil Nadu']]) \n",
    "print(\"West Bengal has: \", cities[states['West Bengal']])\n",
    "\n",
    "\n",
    "# print every state abbreviation \n",
    "print('-'* 10) \n",
    "for state, abbrev in list(states.items()):\n",
    "    print(f\"{state} is abbreviated {abbrev}\")\n",
    "\n",
    "# print every city in state \n",
    "print('-' * 10) \n",
    "for abbrev, city in list(cities.items()):\n",
    "    print(f\"{abbrev} has the city {city}\")\n",
    "\n",
    "# now do both at the same time \n",
    "print('-'*18) \n",
    "for state, abbrev in list(states.items()):\n",
    "    print(f\"{state} is abbreviated {abbrev}\") \n",
    "    print(f\"and has city {cities[abbrev]}\")\n",
    "    \n",
    "\n",
    "    print('-'* 10) \n",
    "    # Safely get a abbreviation by state that might not be there  \n",
    "    state=states.get('Jharkhand')\n",
    "    \n",
    "    if not state:\n",
    "            print(\"Sorry, no Jharkhand\")\n",
    "            \n",
    "    # get city with default value \n",
    "    city = cities.get('HN', 'Does not exist') \n",
    "    print(f\"The city for the state HN us : {city}\")\n",
    "\n",
    "\n"
   ]
  },
  {
   "cell_type": "code",
   "execution_count": null,
   "metadata": {},
   "outputs": [],
   "source": []
  }
 ],
 "metadata": {
  "colab": {
   "authorship_tag": "ABX9TyMBBprvesW97u38yfLmgwDp",
   "collapsed_sections": [],
   "name": "programming_drill_7.ipynb",
   "provenance": []
  },
  "kernelspec": {
   "display_name": "Python 3",
   "language": "python",
   "name": "python3"
  },
  "language_info": {
   "codemirror_mode": {
    "name": "ipython",
    "version": 3
   },
   "file_extension": ".py",
   "mimetype": "text/x-python",
   "name": "python",
   "nbconvert_exporter": "python",
   "pygments_lexer": "ipython3",
   "version": "3.7.3"
  }
 },
 "nbformat": 4,
 "nbformat_minor": 1
}
